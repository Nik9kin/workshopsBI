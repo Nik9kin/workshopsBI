{
  "cells": [
    {
      "cell_type": "markdown",
      "id": "f6fa656b",
      "metadata": {
        "id": "f6fa656b"
      },
      "source": [
        "# Project 1. What causes antibiotic resistance?\n",
        "\n",
        "by Nikita Vyatkin, Polina Guseva"
      ]
    },
    {
      "cell_type": "markdown",
      "source": [
        "## Data source\n",
        "20.10.22 12:30"
      ],
      "metadata": {
        "id": "toyYE_TeSrYz"
      },
      "id": "toyYE_TeSrYz"
    },
    {
      "cell_type": "markdown",
      "id": "5939f5b7",
      "metadata": {
        "id": "5939f5b7"
      },
      "source": [
        "Reference [sequence](https://ftp.ncbi.nlm.nih.gov/genomes/all/GCF/000/005/845/GCF_000005845.2_ASM584v2/GCF_000005845.2_ASM584v2_genomic.fna.gz) of the irresistant to ampicillin _E. coli_ strain K-12 substrain MG1655 and corresponding [annotation](https://ftp.ncbi.nlm.nih.gov/genomes/all/GCF/000/005/845/GCF_000005845.2_ASM584v2/GCF_000005845.2_ASM584v2_genomic.gff.gz)  are downloaded from NCBI FTP\n",
        "(see [link](http://www.ncbi.nlm.nih.gov/genome/167) for detailed information about the genome).\n",
        "\n",
        "Raw Illumina sequencing forward and reverse reads from ampicillin-resistant _E. coli_ strain got obtained from the [link](https://doi.org/10.6084/m9.figshare.10006541.v3).\n",
        "\n"
      ]
    },
    {
      "cell_type": "code",
      "source": [
        "!wget -P raw_data/ https://ftp.ncbi.nlm.nih.gov/genomes/all/GCF/000/005/845/GCF_000005845.2_ASM584v2/GCF_000005845.2_ASM584v2_genomic.fna.gz\n",
        "!wget -P raw_data/ https://ftp.ncbi.nlm.nih.gov/genomes/all/GCF/000/005/845/GCF_000005845.2_ASM584v2/GCF_000005845.2_ASM584v2_genomic.gff.gz\n",
        "!wget -P raw_data/ -O amp_res_1.fastq https://figshare.com/ndownloader/files/23769689\n",
        "!wget -P raw_data/ -O amp_res_2.fastq https://figshare.com/ndownloader/files/23769692"
      ],
      "metadata": {
        "colab": {
          "base_uri": "https://localhost:8080/"
        },
        "id": "ClBdzku74qZ6",
        "outputId": "8911b600-200f-423a-9112-5ca1d02d50c5"
      },
      "id": "ClBdzku74qZ6",
      "execution_count": 2,
      "outputs": [
        {
          "output_type": "stream",
          "name": "stdout",
          "text": [
            "--2022-10-28 17:58:53--  https://ftp.ncbi.nlm.nih.gov/genomes/all/GCF/000/005/845/GCF_000005845.2_ASM584v2/GCF_000005845.2_ASM584v2_genomic.fna.gz\n",
            "Resolving ftp.ncbi.nlm.nih.gov (ftp.ncbi.nlm.nih.gov)... 130.14.250.12, 165.112.9.228, 2607:f220:41e:250::13, ...\n",
            "Connecting to ftp.ncbi.nlm.nih.gov (ftp.ncbi.nlm.nih.gov)|130.14.250.12|:443... connected.\n",
            "HTTP request sent, awaiting response... 200 OK\n",
            "Length: 1379902 (1.3M) [application/x-gzip]\n",
            "Saving to: ‘raw_data/GCF_000005845.2_ASM584v2_genomic.fna.gz.1’\n",
            "\n",
            "GCF_000005845.2_ASM 100%[===================>]   1.32M  1.07MB/s    in 1.2s    \n",
            "\n",
            "2022-10-28 17:58:56 (1.07 MB/s) - ‘raw_data/GCF_000005845.2_ASM584v2_genomic.fna.gz.1’ saved [1379902/1379902]\n",
            "\n",
            "--2022-10-28 17:58:56--  https://ftp.ncbi.nlm.nih.gov/genomes/all/GCF/000/005/845/GCF_000005845.2_ASM584v2/GCF_000005845.2_ASM584v2_genomic.gff.gz\n",
            "Resolving ftp.ncbi.nlm.nih.gov (ftp.ncbi.nlm.nih.gov)... 130.14.250.12, 165.112.9.228, 2607:f220:41e:250::13, ...\n",
            "Connecting to ftp.ncbi.nlm.nih.gov (ftp.ncbi.nlm.nih.gov)|130.14.250.12|:443... connected.\n",
            "HTTP request sent, awaiting response... 200 OK\n",
            "Length: 433547 (423K) [application/x-gzip]\n",
            "Saving to: ‘raw_data/GCF_000005845.2_ASM584v2_genomic.gff.gz.5’\n",
            "\n",
            "GCF_000005845.2_ASM 100%[===================>] 423.39K   603KB/s    in 0.7s    \n",
            "\n",
            "2022-10-28 17:58:57 (603 KB/s) - ‘raw_data/GCF_000005845.2_ASM584v2_genomic.gff.gz.5’ saved [433547/433547]\n",
            "\n",
            "raw_data/amp_res_1.fastq: Is a directory\n",
            "raw_data/amp_res_2.fastq: Is a directory\n"
          ]
        }
      ]
    },
    {
      "cell_type": "code",
      "source": [
        "from google.colab import drive\n",
        "drive.mount('/content/drive')"
      ],
      "metadata": {
        "id": "ssU4VNlSvpzx"
      },
      "id": "ssU4VNlSvpzx",
      "execution_count": null,
      "outputs": []
    },
    {
      "cell_type": "markdown",
      "id": "533bc20e",
      "metadata": {
        "id": "533bc20e"
      },
      "source": [
        "## Manual raw data analyzing\n",
        "20.10.22 13:00"
      ]
    },
    {
      "cell_type": "markdown",
      "source": [
        "Let's see what's inside about your reference genome and its annotation as well as both forward and reverse reads from resistant bacteria"
      ],
      "metadata": {
        "id": "wJB1_h5h8rfE"
      },
      "id": "wJB1_h5h8rfE"
    },
    {
      "cell_type": "code",
      "execution_count": null,
      "id": "abcd0b28",
      "metadata": {
        "id": "abcd0b28",
        "outputId": "dc4b47ca-f061-4c81-d385-8354bf3aa6b0",
        "colab": {
          "base_uri": "https://localhost:8080/"
        }
      },
      "outputs": [
        {
          "output_type": "stream",
          "name": "stdout",
          "text": [
            ">NC_000913.3 Escherichia coli str. K-12 substr. MG1655, complete genome\n",
            "AGCTTTTCATTCTGACTGCAACGGGCAATATGTCTCTGTGTGGATTAAAAAAAGAGTGTCTGATAGCAGCTTCTGAACTG\n",
            "GTTACCTGCCGTGAGTAAATTAAAATTTTATTGACTTAGGTCACTAAATACTTTAACCAATATAGGCATAGCGCACAGAC\n",
            "AGATAAAAATTACAGAGTACACAACATCCATGAAACGCATTAGCACCACCATTACCACCACCATCACCATTACCACAGGT\n",
            "AACGGTGCGGGCTGACGCGTACAGGAAACACAGAAAAAAGCCCGCACCTGACAGTGCGGGCTTTTTTTTTCGACCAAAGG\n"
          ]
        }
      ],
      "source": [
        "# annotation genome, fastq\n",
        "! head -5 raw_data/GCF_000005845.2_ASM584v2_genomic.fna"
      ]
    },
    {
      "cell_type": "code",
      "execution_count": null,
      "id": "a1567a43",
      "metadata": {
        "id": "a1567a43",
        "outputId": "b67b8cfc-26c6-4c47-f915-aad616c6a0b0",
        "colab": {
          "base_uri": "https://localhost:8080/"
        }
      },
      "outputs": [
        {
          "output_type": "stream",
          "name": "stdout",
          "text": [
            "##gff-version 3\n",
            "#!gff-spec-version 1.21\n",
            "#!processor NCBI annotwriter\n",
            "#!genome-build ASM584v2\n",
            "#!genome-build-accession NCBI_Assembly:GCF_000005845.2\n",
            "##sequence-region NC_000913.3 1 4641652\n",
            "##species https://www.ncbi.nlm.nih.gov/Taxonomy/Browser/wwwtax.cgi?id=511145\n",
            "NC_000913.3\tRefSeq\tregion\t1\t4641652\t.\t+\t.\tID=NC_000913.3:1..4641652;Dbxref=taxon:511145;Is_circular=true;Name=ANONYMOUS;gbkey=Src;genome=chromosome;mol_type=genomic DNA;strain=K-12;substrain=MG1655\n",
            "NC_000913.3\tRefSeq\tgene\t190\t255\t.\t+\t.\tID=gene-b0001;Dbxref=ASAP:ABE-0000006,ECOCYC:EG11277,GeneID:944742;Name=thrL;gbkey=Gene;gene=thrL;gene_biotype=protein_coding;gene_synonym=ECK0001;locus_tag=b0001\n",
            "NC_000913.3\tRefSeq\tCDS\t190\t255\t.\t+\t0\tID=cds-NP_414542.1;Parent=gene-b0001;Dbxref=UniProtKB/Swiss-Prot:P0AD86,Genbank:NP_414542.1,ASAP:ABE-0000006,ECOCYC:EG11277,GeneID:944742;Name=NP_414542.1;gbkey=CDS;gene=thrL;locus_tag=b0001;orig_transcript_id=gnl|b0001|mrna.NP_414542;product=thr operon leader peptide;protein_id=NP_414542.1;transl_table=11\n"
          ]
        }
      ],
      "source": [
        "# annotation genome, annotations\n",
        "! head -10 raw_data/GCF_000005845.2_ASM584v2_genomic.gff"
      ]
    },
    {
      "cell_type": "code",
      "execution_count": null,
      "id": "31822eb8",
      "metadata": {
        "id": "31822eb8",
        "outputId": "638b2725-e15f-4e1d-9b9f-cfdc4668b0d9",
        "colab": {
          "base_uri": "https://localhost:8080/"
        }
      },
      "outputs": [
        {
          "output_type": "stream",
          "name": "stdout",
          "text": [
            "@SRR1363257.37 GWZHISEQ01:153:C1W31ACXX:5:1101:14027:2198 length=101\n",
            "GGTTGCAGATTCGCAGTGTCGCTGTTCCAGCGCATCACATCTTTGATGTTCACGCCGTGGCGTTTAGCAATGCTTGAAAGCGAATCGCCTTTGCCCACACG\n",
            "+\n",
            "@?:=:;DBFADH;CAECEE@@E:FFHGAE4?C?DE<BFGEC>?>FHE4BFFIIFHIBABEECA83;>>@>@CCCDC9@@CC08<@?@BB@9:CC#######\n",
            "@SRR1363257.46 GWZHISEQ01:153:C1W31ACXX:5:1101:19721:2155 length=101\n",
            "GTATGAGGTTTTGCTGCATTCTCTGNGCGAATATTAACTCCNTNNNNNTTATAGTTCAAAGCAAGTACCTGTCTCTTATACACATCTCCGAGCCCACGAGC\n",
            "+\n",
            "@@<?=D?D==?<AFGDF+AIHEACH#22<:?E8??:9??GG#0#####000;CF=C)4.==CA@@@)=7?C7?E37;3@>;;(.;>AB#############\n",
            "@SRR1363257.77 GWZHISEQ01:153:C1W31ACXX:5:1101:5069:2307 length=101\n",
            "GCTTCTCTTAACTGAGGTCACCATCATGCCGTTAAGTCCCTACCTCTCTTTTGCCGGTAACTGTTCCGCCGCGATTGCCTTTTATCTGTCTCTTATACACC\n",
            "+\n",
            "??<DBD;4C2=<BB>:AC;<CF<CE@FE9@E1C@891CD*9:?:3D@DD4?D<DD:0;@A=AEIDDA##################################\n",
            "@SRR1363257.78 GWZHISEQ01:153:C1W31ACXX:5:1101:5178:2440 length=101\n",
            "GCATAAGGACGATCGCTCCAGAGTAAAATAAATACGCGCATGTGATACTCACAATACCAATGGTGAAGTTACGGGACTTAAACAAACTGAGATCAAGAATC\n",
            "+\n",
            "CCCFFFFFHHHHHJJJJJJJJJJFFHIJJJJJJJJJJJJJJJJJJJJJJJIJHHHHHHFDEDF;AEEEEEEDDDDDBBACDDDCDDDDCCDDDDDDCCDC3\n",
            "@SRR1363257.96 GWZHISEQ01:153:C1W31ACXX:5:1101:6707:2460 length=101\n",
            "TCATTAAGCCGTGGTGGATGTGCCATAGCGCACCGCAAAGTTAAGAAACCGAATATTGGGTTTAGTCTTGTTTCATAATTGTTGCAATGAAACGCGGTGAA\n",
            "+\n",
            "CCCFFFFFHHHHHJHIIJIIIIJJJJJJGIJJJJJIJJIIGHJJJJJIIJJDHFFFFFEDACDDDCDDDDCCDDECACCDCCCDACDDDDCCDDDDDBD@A\n"
          ]
        }
      ],
      "source": [
        "! head -20 raw_data/amp_res_1.fastq"
      ]
    },
    {
      "cell_type": "code",
      "execution_count": null,
      "id": "e157c1ea",
      "metadata": {
        "id": "e157c1ea",
        "outputId": "9ff460a4-f1c4-435b-be04-d0382e879a2a",
        "colab": {
          "base_uri": "https://localhost:8080/"
        }
      },
      "outputs": [
        {
          "output_type": "stream",
          "name": "stdout",
          "text": [
            "@SRR1363257.37 GWZHISEQ01:153:C1W31ACXX:5:1101:14027:2198 length=101\n",
            "GATCTAAGCTGAAGCCAGGCCAAAGTTTGACGATTGGTGCAGGCAGTAGCGCACAGCGACTGGCAAACAACAGCGATAGCATTACGTATCGTGTGCGCAAA\n",
            "+\n",
            "???BDB:DFHBFD@9;;+A;AFGH;ABHFHHGE@9:B:??@D>@;F?D8<<F8AA9EHHD8'..;5?A?A992(',(59CC3@C>22::A238+2>B<>B<\n",
            "@SRR1363257.46 GWZHISEQ01:153:C1W31ACXX:5:1101:19721:2155 length=101\n",
            "GTACTTGCTTTGNACTATAATATGCACGGAGNTAATATTCGCTCAGAGAATGCAGCAAAACCTCATACCTGTCTCTTATACACATCTGACGCTGCCGACGA\n",
            "+\n",
            ";@@DB?B;CFBB#2<:CB:FH<C@:<A?C::#1:86:BG9:8?8688?888EBF;783)=6-7=CC;ECD);?7;;>>AE;>(5;->AC@;B@;8?#####\n",
            "@SRR1363257.77 GWZHISEQ01:153:C1W31ACXX:5:1101:5069:2307 length=101\n",
            "ATAATAGGCAATCGCGTCGGAACAGTTACCGGCCAAAGAGAGGCAGGGACTTAACGGCATGATGGTGACCTCAGTTAAGAGAAGCCTGTCTCTTATACACA\n",
            "+\n",
            "+=?;:2,+A++AC:C:2@F6:CD:B09B?4)8@''8=))8=;=((5=4@?;@6;@?@BB;(535::>:>3(::(44:@::@3((9<32+::@(4@4+:>C3\n",
            "@SRR1363257.78 GWZHISEQ01:153:C1W31ACXX:5:1101:5178:2440 length=101\n",
            "ATATTAACAGTAGTATCAGTTATTTCTCTGATCTCTTTAGTCATTTGGGAGTCGACCTCAGAGAACCCGATTCTTGATCTCAGTTTGTTTAAGTCCCGTAA\n",
            "+\n",
            "BCCFFFFFHHHHHHIJJIJJJJJIJJJJIJGIJJJJJJIJHIHJJIJIIGGGHIJIJJJIJIJJJJJJJGHHHHHFFFFFFEEEFEEED?AACCDCCDDDB\n",
            "@SRR1363257.96 GWZHISEQ01:153:C1W31ACXX:5:1101:6707:2460 length=101\n",
            "GTTTCACCGCGTTTCATTGCAACAATTATGAAACAAGACTAAACCCAATATTCGGTTTCTTAACTTTGCGGTGCGCTATGGCACATCCACCACGGCTTAAT\n",
            "+\n",
            "CCCFFFFFHGHHHJIJJJJJJIJJJJJJIJIJJIJJIJIJJJJJJJJIJJFHIIJFIGJJJGIHHHHHGFFDDDDDDDDDDDDDDDDDDDABDDDDDDDCD\n"
          ]
        }
      ],
      "source": [
        "! head -20 raw_data/amp_res_2.fastq"
      ]
    },
    {
      "cell_type": "markdown",
      "id": "c11c25b2",
      "metadata": {
        "id": "c11c25b2"
      },
      "source": [
        "**Note:**\n",
        "We can see reads with the same identifiers in the corresponding positions. They have a large common reverse-complementary part."
      ]
    },
    {
      "cell_type": "code",
      "source": [
        "# !cat raw_data/amp_res_2.fastq"
      ],
      "metadata": {
        "id": "JgQJJarDI_J0"
      },
      "id": "JgQJJarDI_J0",
      "execution_count": null,
      "outputs": []
    },
    {
      "cell_type": "markdown",
      "source": [
        "Note: **cat** shows the whole file. Type **ctrl+c** to stop it"
      ],
      "metadata": {
        "id": "ueqi1K95Jde1"
      },
      "id": "ueqi1K95Jde1"
    },
    {
      "cell_type": "markdown",
      "id": "bb696d10",
      "metadata": {
        "id": "bb696d10"
      },
      "source": [
        "Let's count the total number of forward and reverse reads respectively:"
      ]
    },
    {
      "cell_type": "code",
      "execution_count": null,
      "id": "1c535911",
      "metadata": {
        "id": "1c535911",
        "outputId": "35623cee-d51b-40e6-b4fb-8ee68bf5ee06",
        "colab": {
          "base_uri": "https://localhost:8080/"
        }
      },
      "outputs": [
        {
          "output_type": "stream",
          "name": "stdout",
          "text": [
            "  1823504 raw_data/amp_res_1.fastq\n",
            "  1823504 raw_data/amp_res_2.fastq\n",
            "  3647008 total\n"
          ]
        }
      ],
      "source": [
        "! wc -l raw_data/amp_res_?.fastq"
      ]
    },
    {
      "cell_type": "markdown",
      "id": "5adfe40a",
      "metadata": {
        "id": "5adfe40a"
      },
      "source": [
        "Each read occupies four lines in a fastq file, so...\n"
      ]
    },
    {
      "cell_type": "code",
      "execution_count": null,
      "id": "442b3ce5",
      "metadata": {
        "id": "442b3ce5",
        "outputId": "8b8be1ad-f116-4a50-c3e0-693ea0a41052",
        "colab": {
          "base_uri": "https://localhost:8080/"
        }
      },
      "outputs": [
        {
          "output_type": "stream",
          "name": "stdout",
          "text": [
            "Total number of reads: 455,876\n"
          ]
        }
      ],
      "source": [
        "print(f\"Total number of reads: {int(1823504 / 4):,}\")"
      ]
    },
    {
      "cell_type": "markdown",
      "id": "576ef569",
      "metadata": {
        "id": "576ef569"
      },
      "source": [
        "## Inspecting raw sequencing data with fastqc.\n",
        "20.10.22 13:40"
      ]
    },
    {
      "cell_type": "markdown",
      "id": "608fd198",
      "metadata": {
        "id": "608fd198"
      },
      "source": [
        "### Fastqc installing"
      ]
    },
    {
      "cell_type": "markdown",
      "source": [
        "Let's perform some basic statistical ananlysis of our data by FastQC"
      ],
      "metadata": {
        "id": "Bk8_fC1dlUwi"
      },
      "id": "Bk8_fC1dlUwi"
    },
    {
      "cell_type": "code",
      "execution_count": null,
      "id": "4259e2d6",
      "metadata": {
        "id": "4259e2d6",
        "colab": {
          "base_uri": "https://localhost:8080/"
        },
        "outputId": "e04c9bf0-6fac-4205-ad41-d6a81d761630"
      },
      "outputs": [
        {
          "output_type": "stream",
          "name": "stdout",
          "text": [
            "Reading package lists... Done\n",
            "Building dependency tree       \n",
            "Reading state information... Done\n",
            "The following package was automatically installed and is no longer required:\n",
            "  libnvidia-common-460\n",
            "Use 'apt autoremove' to remove it.\n",
            "The following additional packages will be installed:\n",
            "  libapache-pom-java libcommons-compress-java libcommons-jexl2-java\n",
            "  libcommons-logging-java libcommons-math3-java libcommons-parent-java\n",
            "  libhtsjdk-java libjbzip2-java libngs-java libngs-sdk-dev libngs-sdk1\n",
            "  libsnappy-java libsnappy-jni libxz-java\n",
            "Suggested packages:\n",
            "  libcommons-jexl2-java-doc libavalon-framework-java\n",
            "  libcommons-logging-java-doc libexcalibur-logkit-java liblog4j1.2-java\n",
            "  picard-tools\n",
            "The following NEW packages will be installed:\n",
            "  fastqc libapache-pom-java libcommons-compress-java libcommons-jexl2-java\n",
            "  libcommons-logging-java libcommons-math3-java libcommons-parent-java\n",
            "  libhtsjdk-java libjbzip2-java libngs-java libngs-sdk-dev libngs-sdk1\n",
            "  libsnappy-java libsnappy-jni libxz-java\n",
            "0 upgraded, 15 newly installed, 0 to remove and 27 not upgraded.\n",
            "Need to get 5,140 kB of archives.\n",
            "After this operation, 8,129 kB of additional disk space will be used.\n",
            "Get:1 http://archive.ubuntu.com/ubuntu bionic/universe amd64 libcommons-math3-java all 3.6.1-3 [2,016 kB]\n",
            "Get:2 http://archive.ubuntu.com/ubuntu bionic/universe amd64 libjbzip2-java all 0.9.1-4 [42.6 kB]\n",
            "Get:3 http://archive.ubuntu.com/ubuntu bionic/universe amd64 libapache-pom-java all 18-1 [4,720 B]\n",
            "Get:4 http://archive.ubuntu.com/ubuntu bionic/universe amd64 libcommons-parent-java all 43-1 [10.8 kB]\n",
            "Get:5 http://archive.ubuntu.com/ubuntu bionic-updates/universe amd64 libcommons-compress-java all 1.18-1~18.04 [531 kB]\n",
            "Get:6 http://archive.ubuntu.com/ubuntu bionic/universe amd64 libcommons-logging-java all 1.2-2 [60.3 kB]\n",
            "Get:7 http://archive.ubuntu.com/ubuntu bionic/universe amd64 libcommons-jexl2-java all 2.1.1-4 [252 kB]\n",
            "Get:8 http://archive.ubuntu.com/ubuntu bionic/universe amd64 libngs-sdk1 amd64 1.3.0-3 [52.3 kB]\n",
            "Get:9 http://archive.ubuntu.com/ubuntu bionic/universe amd64 libngs-sdk-dev amd64 1.3.0-3 [92.8 kB]\n",
            "Get:10 http://archive.ubuntu.com/ubuntu bionic/universe amd64 libngs-java amd64 1.3.0-3 [76.4 kB]\n",
            "Get:11 http://archive.ubuntu.com/ubuntu bionic/universe amd64 libsnappy-jni amd64 1.1.4-1 [6,996 B]\n",
            "Get:12 http://archive.ubuntu.com/ubuntu bionic/universe amd64 libsnappy-java all 1.1.4-1 [67.2 kB]\n",
            "Get:13 http://archive.ubuntu.com/ubuntu bionic/universe amd64 libxz-java all 1.8-1 [134 kB]\n",
            "Get:14 http://archive.ubuntu.com/ubuntu bionic/universe amd64 libhtsjdk-java all 2.8.1+dfsg-2 [1,438 kB]\n",
            "Get:15 http://archive.ubuntu.com/ubuntu bionic/universe amd64 fastqc all 0.11.5+dfsg-6 [354 kB]\n",
            "Fetched 5,140 kB in 2s (2,667 kB/s)\n",
            "Selecting previously unselected package libcommons-math3-java.\n",
            "(Reading database ... 123942 files and directories currently installed.)\n",
            "Preparing to unpack .../00-libcommons-math3-java_3.6.1-3_all.deb ...\n",
            "Unpacking libcommons-math3-java (3.6.1-3) ...\n",
            "Selecting previously unselected package libjbzip2-java.\n",
            "Preparing to unpack .../01-libjbzip2-java_0.9.1-4_all.deb ...\n",
            "Unpacking libjbzip2-java (0.9.1-4) ...\n",
            "Selecting previously unselected package libapache-pom-java.\n",
            "Preparing to unpack .../02-libapache-pom-java_18-1_all.deb ...\n",
            "Unpacking libapache-pom-java (18-1) ...\n",
            "Selecting previously unselected package libcommons-parent-java.\n",
            "Preparing to unpack .../03-libcommons-parent-java_43-1_all.deb ...\n",
            "Unpacking libcommons-parent-java (43-1) ...\n",
            "Selecting previously unselected package libcommons-compress-java.\n",
            "Preparing to unpack .../04-libcommons-compress-java_1.18-1~18.04_all.deb ...\n",
            "Unpacking libcommons-compress-java (1.18-1~18.04) ...\n",
            "Selecting previously unselected package libcommons-logging-java.\n",
            "Preparing to unpack .../05-libcommons-logging-java_1.2-2_all.deb ...\n",
            "Unpacking libcommons-logging-java (1.2-2) ...\n",
            "Selecting previously unselected package libcommons-jexl2-java.\n",
            "Preparing to unpack .../06-libcommons-jexl2-java_2.1.1-4_all.deb ...\n",
            "Unpacking libcommons-jexl2-java (2.1.1-4) ...\n",
            "Selecting previously unselected package libngs-sdk1.\n",
            "Preparing to unpack .../07-libngs-sdk1_1.3.0-3_amd64.deb ...\n",
            "Unpacking libngs-sdk1 (1.3.0-3) ...\n",
            "Selecting previously unselected package libngs-sdk-dev.\n",
            "Preparing to unpack .../08-libngs-sdk-dev_1.3.0-3_amd64.deb ...\n",
            "Unpacking libngs-sdk-dev (1.3.0-3) ...\n",
            "Selecting previously unselected package libngs-java.\n",
            "Preparing to unpack .../09-libngs-java_1.3.0-3_amd64.deb ...\n",
            "Unpacking libngs-java (1.3.0-3) ...\n",
            "Selecting previously unselected package libsnappy-jni.\n",
            "Preparing to unpack .../10-libsnappy-jni_1.1.4-1_amd64.deb ...\n",
            "Unpacking libsnappy-jni (1.1.4-1) ...\n",
            "Selecting previously unselected package libsnappy-java.\n",
            "Preparing to unpack .../11-libsnappy-java_1.1.4-1_all.deb ...\n",
            "Unpacking libsnappy-java (1.1.4-1) ...\n",
            "Selecting previously unselected package libxz-java.\n",
            "Preparing to unpack .../12-libxz-java_1.8-1_all.deb ...\n",
            "Unpacking libxz-java (1.8-1) ...\n",
            "Selecting previously unselected package libhtsjdk-java.\n",
            "Preparing to unpack .../13-libhtsjdk-java_2.8.1+dfsg-2_all.deb ...\n",
            "Unpacking libhtsjdk-java (2.8.1+dfsg-2) ...\n",
            "Selecting previously unselected package fastqc.\n",
            "Preparing to unpack .../14-fastqc_0.11.5+dfsg-6_all.deb ...\n",
            "Unpacking fastqc (0.11.5+dfsg-6) ...\n",
            "Setting up libsnappy-jni (1.1.4-1) ...\n",
            "Setting up libcommons-math3-java (3.6.1-3) ...\n",
            "Setting up libjbzip2-java (0.9.1-4) ...\n",
            "Setting up libngs-sdk1 (1.3.0-3) ...\n",
            "Setting up libngs-sdk-dev (1.3.0-3) ...\n",
            "Setting up libxz-java (1.8-1) ...\n",
            "Setting up libsnappy-java (1.1.4-1) ...\n",
            "Setting up libapache-pom-java (18-1) ...\n",
            "Setting up libngs-java (1.3.0-3) ...\n",
            "Setting up libcommons-parent-java (43-1) ...\n",
            "Setting up libcommons-compress-java (1.18-1~18.04) ...\n",
            "Setting up libcommons-logging-java (1.2-2) ...\n",
            "Setting up libcommons-jexl2-java (2.1.1-4) ...\n",
            "Setting up libhtsjdk-java (2.8.1+dfsg-2) ...\n",
            "Setting up fastqc (0.11.5+dfsg-6) ...\n",
            "Processing triggers for man-db (2.8.3-2ubuntu0.1) ...\n",
            "Processing triggers for hicolor-icon-theme (0.17-2) ...\n",
            "Processing triggers for mime-support (3.60ubuntu1) ...\n",
            "Processing triggers for libc-bin (2.27-3ubuntu1.6) ...\n"
          ]
        }
      ],
      "source": [
        "! apt install fastqc"
      ]
    },
    {
      "cell_type": "code",
      "execution_count": null,
      "id": "7388c1e3",
      "metadata": {
        "id": "7388c1e3",
        "outputId": "c9c67b39-db3f-4425-ad53-6914a89902a0",
        "colab": {
          "base_uri": "https://localhost:8080/"
        }
      },
      "outputs": [
        {
          "output_type": "stream",
          "name": "stdout",
          "text": [
            "\n",
            "            FastQC - A high throughput sequence QC analysis tool\n",
            "\n",
            "SYNOPSIS\n",
            "\n",
            "\tfastqc seqfile1 seqfile2 .. seqfileN\n",
            "\n",
            "    fastqc [-o output dir] [--(no)extract] [-f fastq|bam|sam] \n",
            "           [-c contaminant file] seqfile1 .. seqfileN\n",
            "\n",
            "DESCRIPTION\n",
            "\n",
            "    FastQC reads a set of sequence files and produces from each one a quality\n",
            "    control report consisting of a number of different modules, each one of \n",
            "    which will help to identify a different potential type of problem in your\n",
            "    data.\n",
            "    \n",
            "    If no files to process are specified on the command line then the program\n",
            "    will start as an interactive graphical application.  If files are provided\n",
            "    on the command line then the program will run with no user interaction\n",
            "    required.  In this mode it is suitable for inclusion into a standardised\n",
            "    analysis pipeline.\n",
            "    \n",
            "    The options for the program as as follows:\n",
            "    \n",
            "    -h --help       Print this help file and exit\n",
            "    \n",
            "    -v --version    Print the version of the program and exit\n",
            "    \n",
            "    -o --outdir     Create all output files in the specified output directory.\n",
            "                    Please note that this directory must exist as the program\n",
            "                    will not create it.  If this option is not set then the \n",
            "                    output file for each sequence file is created in the same\n",
            "                    directory as the sequence file which was processed.\n",
            "                    \n",
            "    --casava        Files come from raw casava output. Files in the same sample\n",
            "                    group (differing only by the group number) will be analysed\n",
            "                    as a set rather than individually. Sequences with the filter\n",
            "                    flag set in the header will be excluded from the analysis.\n",
            "                    Files must have the same names given to them by casava\n",
            "                    (including being gzipped and ending with .gz) otherwise they\n",
            "                    won't be grouped together correctly.\n",
            "                    \n",
            "    --nofilter      If running with --casava then don't remove read flagged by\n",
            "                    casava as poor quality when performing the QC analysis.\n",
            "                   \n",
            "    --extract       If set then the zipped output file will be uncompressed in\n",
            "                    the same directory after it has been created.  By default\n",
            "                    this option will be set if fastqc is run in non-interactive\n",
            "                    mode.\n",
            "                    \n",
            "    -j --java       Provides the full path to the java binary you want to use to\n",
            "                    launch fastqc. If not supplied then java is assumed to be in\n",
            "                    your path.\n",
            "                   \n",
            "    --noextract     Do not uncompress the output file after creating it.  You\n",
            "                    should set this option if you do not wish to uncompress\n",
            "                    the output when running in non-interactive mode.\n",
            "                    \n",
            "    --nogroup       Disable grouping of bases for reads >50bp. All reports will\n",
            "                    show data for every base in the read.  WARNING: Using this\n",
            "                    option will cause fastqc to crash and burn if you use it on\n",
            "                    really long reads, and your plots may end up a ridiculous size.\n",
            "                    You have been warned!\n",
            "                    \n",
            "    -f --format     Bypasses the normal sequence file format detection and\n",
            "                    forces the program to use the specified format.  Valid\n",
            "                    formats are bam,sam,bam_mapped,sam_mapped and fastq\n",
            "                    \n",
            "    -t --threads    Specifies the number of files which can be processed\n",
            "                    simultaneously.  Each thread will be allocated 250MB of\n",
            "                    memory so you shouldn't run more threads than your\n",
            "                    available memory will cope with, and not more than\n",
            "                    6 threads on a 32 bit machine\n",
            "                  \n",
            "    -c              Specifies a non-default file which contains the list of\n",
            "    --contaminants  contaminants to screen overrepresented sequences against.\n",
            "                    The file must contain sets of named contaminants in the\n",
            "                    form name[tab]sequence.  Lines prefixed with a hash will\n",
            "                    be ignored.\n",
            "\n",
            "    -a              Specifies a non-default file which contains the list of\n",
            "    --adapters      adapter sequences which will be explicity searched against\n",
            "                    the library. The file must contain sets of named adapters\n",
            "                    in the form name[tab]sequence.  Lines prefixed with a hash\n",
            "                    will be ignored.\n",
            "                    \n",
            "    -l              Specifies a non-default file which contains a set of criteria\n",
            "    --limits        which will be used to determine the warn/error limits for the\n",
            "                    various modules.  This file can also be used to selectively \n",
            "                    remove some modules from the output all together.  The format\n",
            "                    needs to mirror the default limits.txt file found in the\n",
            "                    Configuration folder.\n",
            "                    \n",
            "   -k --kmers       Specifies the length of Kmer to look for in the Kmer content\n",
            "                    module. Specified Kmer length must be between 2 and 10. Default\n",
            "                    length is 7 if not specified.\n",
            "                    \n",
            "   -q --quiet       Supress all progress messages on stdout and only report errors.\n",
            "   \n",
            "   -d --dir         Selects a directory to be used for temporary files written when\n",
            "                    generating report images. Defaults to system temp directory if\n",
            "                    not specified.\n",
            "                    \n",
            "BUGS\n",
            "\n",
            "    Any bugs in fastqc should be reported either to simon.andrews@babraham.ac.uk\n",
            "    or in www.bioinformatics.babraham.ac.uk/bugzilla/\n",
            "                   \n"
          ]
        }
      ],
      "source": [
        "! fastqc --help"
      ]
    },
    {
      "cell_type": "markdown",
      "id": "d5cdca38",
      "metadata": {
        "id": "d5cdca38"
      },
      "source": [
        "### Inspecting data with fastqc"
      ]
    },
    {
      "cell_type": "markdown",
      "source": [
        "In the name of book keeping, let's create a folder for the FastQC report and output it there by using '-o'. To input for analysis both reads in one go, the '?' symbol is used. '-t' means a number of threads."
      ],
      "metadata": {
        "id": "h8khdF2-A-C0"
      },
      "id": "h8khdF2-A-C0"
    },
    {
      "cell_type": "code",
      "source": [
        "! mkdir fastqc_reports"
      ],
      "metadata": {
        "id": "4IXNqy_tadMd"
      },
      "id": "4IXNqy_tadMd",
      "execution_count": null,
      "outputs": []
    },
    {
      "cell_type": "code",
      "execution_count": null,
      "id": "44a6ff7a",
      "metadata": {
        "scrolled": false,
        "id": "44a6ff7a",
        "outputId": "21a8422c-e936-4cbf-b143-26ebd1f2f306",
        "colab": {
          "base_uri": "https://localhost:8080/"
        }
      },
      "outputs": [
        {
          "output_type": "stream",
          "name": "stdout",
          "text": [
            "Started analysis of amp_res_1.fastq\n",
            "Started analysis of amp_res_2.fastq\n",
            "Approx 5% complete for amp_res_1.fastq\n",
            "Approx 5% complete for amp_res_2.fastq\n",
            "Approx 10% complete for amp_res_1.fastq\n",
            "Approx 10% complete for amp_res_2.fastq\n",
            "Approx 15% complete for amp_res_1.fastq\n",
            "Approx 15% complete for amp_res_2.fastq\n",
            "Approx 20% complete for amp_res_1.fastq\n",
            "Approx 20% complete for amp_res_2.fastq\n",
            "Approx 25% complete for amp_res_1.fastq\n",
            "Approx 25% complete for amp_res_2.fastq\n",
            "Approx 30% complete for amp_res_1.fastq\n",
            "Approx 30% complete for amp_res_2.fastq\n",
            "Approx 35% complete for amp_res_1.fastq\n",
            "Approx 35% complete for amp_res_2.fastq\n",
            "Approx 40% complete for amp_res_1.fastq\n",
            "Approx 40% complete for amp_res_2.fastq\n",
            "Approx 45% complete for amp_res_1.fastq\n",
            "Approx 45% complete for amp_res_2.fastq\n",
            "Approx 50% complete for amp_res_1.fastq\n",
            "Approx 50% complete for amp_res_2.fastq\n",
            "Approx 55% complete for amp_res_1.fastq\n",
            "Approx 55% complete for amp_res_2.fastq\n",
            "Approx 60% complete for amp_res_1.fastq\n",
            "Approx 60% complete for amp_res_2.fastq\n",
            "Approx 65% complete for amp_res_1.fastq\n",
            "Approx 65% complete for amp_res_2.fastq\n",
            "Approx 70% complete for amp_res_1.fastq\n",
            "Approx 70% complete for amp_res_2.fastq\n",
            "Approx 75% complete for amp_res_1.fastq\n",
            "Approx 75% complete for amp_res_2.fastq\n",
            "Approx 80% complete for amp_res_1.fastq\n",
            "Approx 80% complete for amp_res_2.fastq\n",
            "Approx 85% complete for amp_res_1.fastq\n",
            "Approx 85% complete for amp_res_2.fastq\n",
            "Approx 90% complete for amp_res_1.fastq\n",
            "Approx 90% complete for amp_res_2.fastq\n",
            "Approx 95% complete for amp_res_1.fastq\n",
            "Approx 95% complete for amp_res_2.fastq\n",
            "Analysis complete for amp_res_1.fastq\n",
            "Analysis complete for amp_res_2.fastq\n"
          ]
        }
      ],
      "source": [
        "! fastqc -t 4 -o fastqc_reports/ raw_data/amp_res_?.fastq"
      ]
    },
    {
      "cell_type": "markdown",
      "source": [
        "The basic statistics from the report indeed matches the number of reads we calculated a few steps above."
      ],
      "metadata": {
        "id": "10CQqHdzBlo6"
      },
      "id": "10CQqHdzBlo6"
    },
    {
      "cell_type": "markdown",
      "id": "d97b4869",
      "metadata": {
        "id": "d97b4869"
      },
      "source": [
        "#### Quality warnings\n",
        "\n",
        "##### amp_res_1.fastqc:\n",
        "\n",
        "* Per base sequence quality. The lower quartile for some bases is less than 5;\n",
        "* Per tile sequence quality. Some tile shows a mean Phred score more than 5 less than the mean for that base across all tiles.\n",
        "\n",
        "##### amp_res_2.fastqc:\n",
        "\n",
        "* Per base sequence quality. The lower quartile for some bases is less than 5."
      ]
    },
    {
      "cell_type": "markdown",
      "source": [
        "##Filtering the reads \n",
        "24.10.2022 13:30"
      ],
      "metadata": {
        "id": "f8O_MO8rUfR8"
      },
      "id": "f8O_MO8rUfR8"
    },
    {
      "cell_type": "markdown",
      "source": [
        "As we have seen in the FastQC report, there is just a few outliers. So, we can easily remove them without affecting the coverage."
      ],
      "metadata": {
        "id": "9h9K2UGKlv-I"
      },
      "id": "9h9K2UGKlv-I"
    },
    {
      "cell_type": "markdown",
      "source": [
        "### Trimmomatic installing"
      ],
      "metadata": {
        "id": "vO_bMJRWcfaZ"
      },
      "id": "vO_bMJRWcfaZ"
    },
    {
      "cell_type": "markdown",
      "source": [
        "To improve the quality of our reads, we can do many things (like praying, paying more to technicians, or cleaning the lab), but also cutting ends with bad read quality and removing short reads after that"
      ],
      "metadata": {
        "id": "C6UA6pOoDID5"
      },
      "id": "C6UA6pOoDID5"
    },
    {
      "cell_type": "code",
      "execution_count": null,
      "id": "673e58d9",
      "metadata": {
        "id": "673e58d9",
        "colab": {
          "base_uri": "https://localhost:8080/"
        },
        "outputId": "8329cb03-5dba-4d81-deb3-35a2773e080d"
      },
      "outputs": [
        {
          "output_type": "stream",
          "name": "stdout",
          "text": [
            "Reading package lists... Done\n",
            "Building dependency tree       \n",
            "Reading state information... Done\n",
            "The following package was automatically installed and is no longer required:\n",
            "  libnvidia-common-460\n",
            "Use 'apt autoremove' to remove it.\n",
            "The following additional packages will be installed:\n",
            "  libjbzip2-java\n",
            "The following NEW packages will be installed:\n",
            "  libjbzip2-java trimmomatic\n",
            "0 upgraded, 2 newly installed, 0 to remove and 27 not upgraded.\n",
            "Need to get 791 kB of archives.\n",
            "After this operation, 859 kB of additional disk space will be used.\n",
            "Get:1 http://archive.ubuntu.com/ubuntu bionic/universe amd64 libjbzip2-java all 0.9.1-4 [42.6 kB]\n",
            "Get:2 http://archive.ubuntu.com/ubuntu bionic/universe amd64 trimmomatic all 0.36+dfsg-3 [749 kB]\n",
            "Fetched 791 kB in 1s (907 kB/s)\n",
            "Selecting previously unselected package libjbzip2-java.\n",
            "(Reading database ... 123942 files and directories currently installed.)\n",
            "Preparing to unpack .../libjbzip2-java_0.9.1-4_all.deb ...\n",
            "Unpacking libjbzip2-java (0.9.1-4) ...\n",
            "Selecting previously unselected package trimmomatic.\n",
            "Preparing to unpack .../trimmomatic_0.36+dfsg-3_all.deb ...\n",
            "Unpacking trimmomatic (0.36+dfsg-3) ...\n",
            "Setting up libjbzip2-java (0.9.1-4) ...\n",
            "Setting up trimmomatic (0.36+dfsg-3) ...\n",
            "Processing triggers for man-db (2.8.3-2ubuntu0.1) ...\n"
          ]
        }
      ],
      "source": [
        "! apt install trimmomatic"
      ]
    },
    {
      "cell_type": "markdown",
      "source": [
        "Let's call the command without any additional things to see what and in which order we should input"
      ],
      "metadata": {
        "id": "_bLkM533DtzJ"
      },
      "id": "_bLkM533DtzJ"
    },
    {
      "cell_type": "code",
      "source": [
        "! TrimmomaticPE"
      ],
      "metadata": {
        "colab": {
          "base_uri": "https://localhost:8080/"
        },
        "id": "CLTKTyRPVDM6",
        "outputId": "a6f8a54e-716b-4c8c-d2c1-644249671da3"
      },
      "id": "CLTKTyRPVDM6",
      "execution_count": null,
      "outputs": [
        {
          "output_type": "stream",
          "name": "stdout",
          "text": [
            "Usage: TrimmomaticPE [-threads <threads>] [-phred33|-phred64] [-trimlog <trimLogFile>] [-quiet] [-validatePairs] [-basein <inputBase> | <inputFile1> <inputFile2>] [-baseout <outputBase> | <outputFile1P> <outputFile1U> <outputFile2P> <outputFile2U>] <trimmer1>...\n"
          ]
        }
      ]
    },
    {
      "cell_type": "markdown",
      "source": [
        "### Trimming reads"
      ],
      "metadata": {
        "id": "IKvxmDTshHXw"
      },
      "id": "IKvxmDTshHXw"
    },
    {
      "cell_type": "markdown",
      "source": [
        "As -phred33 is the default setting, we can skip it. '-baseout' marks names of output files. 'LEADING' is for cutting the beginning of reads with quality below some value, 'TRAILING' is for cutting the tails of reads with quality below some value, 'SLIDINGWINDOW' is for trimming with a sliding window approach, 'MINLEN' is for minimal length of reads to stay in the hunger games."
      ],
      "metadata": {
        "id": "0EXRuuycD93F"
      },
      "id": "0EXRuuycD93F"
    },
    {
      "cell_type": "code",
      "source": [
        "! TrimmomaticPE -threads 4 raw_data/amp_res_1.fastq raw_data/amp_res_2.fastq -baseout raw_data/amp_res_trimmed.fastq LEADING:20 TRAILING:20 SLIDINGWINDOW:10:20 MINLEN:20"
      ],
      "metadata": {
        "colab": {
          "base_uri": "https://localhost:8080/"
        },
        "id": "k1R-O38ygvDS",
        "outputId": "af4ac7e5-dfec-430a-ef50-5b939b5bc30d"
      },
      "id": "k1R-O38ygvDS",
      "execution_count": null,
      "outputs": [
        {
          "output_type": "stream",
          "name": "stdout",
          "text": [
            "TrimmomaticPE: Started with arguments:\n",
            " -threads 4 raw_data/amp_res_1.fastq raw_data/amp_res_2.fastq -baseout raw_data/amp_res_trimmed.fastq LEADING:20 TRAILING:20 SLIDINGWINDOW:10:20 MINLEN:20\n",
            "Using templated Output files: raw_data/amp_res_trimmed_1P.fastq raw_data/amp_res_trimmed_1U.fastq raw_data/amp_res_trimmed_2P.fastq raw_data/amp_res_trimmed_2U.fastq\n",
            "Quality encoding detected as phred33\n",
            "Input Read Pairs: 455876 Both Surviving: 446259 (97.89%) Forward Only Surviving: 9216 (2.02%) Reverse Only Surviving: 273 (0.06%) Dropped: 128 (0.03%)\n",
            "TrimmomaticPE: Completed successfully\n"
          ]
        }
      ]
    },
    {
      "cell_type": "code",
      "source": [
        "# Let's see if it became better\n",
        "! fastqc -t 4 -o fastqc_reports/ raw_data/amp_res_trimmed_?P.fastq"
      ],
      "metadata": {
        "colab": {
          "base_uri": "https://localhost:8080/"
        },
        "id": "e1aokG57hNmm",
        "outputId": "5d10a9a6-ede1-4a2a-a1f8-388df586dda4"
      },
      "id": "e1aokG57hNmm",
      "execution_count": null,
      "outputs": [
        {
          "output_type": "stream",
          "name": "stdout",
          "text": [
            "Started analysis of amp_res_trimmed_1P.fastq\n",
            "Started analysis of amp_res_trimmed_2P.fastq\n",
            "Approx 5% complete for amp_res_trimmed_1P.fastq\n",
            "Approx 5% complete for amp_res_trimmed_2P.fastq\n",
            "Approx 10% complete for amp_res_trimmed_1P.fastq\n",
            "Approx 10% complete for amp_res_trimmed_2P.fastq\n",
            "Approx 15% complete for amp_res_trimmed_1P.fastq\n",
            "Approx 15% complete for amp_res_trimmed_2P.fastq\n",
            "Approx 20% complete for amp_res_trimmed_1P.fastq\n",
            "Approx 20% complete for amp_res_trimmed_2P.fastq\n",
            "Approx 25% complete for amp_res_trimmed_2P.fastq\n",
            "Approx 25% complete for amp_res_trimmed_1P.fastq\n",
            "Approx 30% complete for amp_res_trimmed_2P.fastq\n",
            "Approx 30% complete for amp_res_trimmed_1P.fastq\n",
            "Approx 35% complete for amp_res_trimmed_2P.fastq\n",
            "Approx 35% complete for amp_res_trimmed_1P.fastq\n",
            "Approx 40% complete for amp_res_trimmed_2P.fastq\n",
            "Approx 40% complete for amp_res_trimmed_1P.fastq\n",
            "Approx 45% complete for amp_res_trimmed_2P.fastq\n",
            "Approx 45% complete for amp_res_trimmed_1P.fastq\n",
            "Approx 50% complete for amp_res_trimmed_2P.fastq\n",
            "Approx 50% complete for amp_res_trimmed_1P.fastq\n",
            "Approx 55% complete for amp_res_trimmed_2P.fastq\n",
            "Approx 55% complete for amp_res_trimmed_1P.fastq\n",
            "Approx 60% complete for amp_res_trimmed_2P.fastq\n",
            "Approx 60% complete for amp_res_trimmed_1P.fastq\n",
            "Approx 65% complete for amp_res_trimmed_2P.fastq\n",
            "Approx 65% complete for amp_res_trimmed_1P.fastq\n",
            "Approx 70% complete for amp_res_trimmed_2P.fastq\n",
            "Approx 70% complete for amp_res_trimmed_1P.fastq\n",
            "Approx 75% complete for amp_res_trimmed_2P.fastq\n",
            "Approx 75% complete for amp_res_trimmed_1P.fastq\n",
            "Approx 80% complete for amp_res_trimmed_2P.fastq\n",
            "Approx 80% complete for amp_res_trimmed_1P.fastq\n",
            "Approx 85% complete for amp_res_trimmed_2P.fastq\n",
            "Approx 85% complete for amp_res_trimmed_1P.fastq\n",
            "Approx 90% complete for amp_res_trimmed_2P.fastq\n",
            "Approx 90% complete for amp_res_trimmed_1P.fastq\n",
            "Approx 95% complete for amp_res_trimmed_2P.fastq\n",
            "Approx 95% complete for amp_res_trimmed_1P.fastq\n",
            "Analysis complete for amp_res_trimmed_2P.fastq\n",
            "Analysis complete for amp_res_trimmed_1P.fastq\n"
          ]
        }
      ]
    },
    {
      "cell_type": "markdown",
      "source": [
        "Indead, it is better now)\n",
        "\n",
        "Let's check how many reads were destroyed."
      ],
      "metadata": {
        "id": "G0UVVEG8iEIx"
      },
      "id": "G0UVVEG8iEIx"
    },
    {
      "cell_type": "code",
      "source": [
        "! wc -l raw_data/amp_res_?.fastq"
      ],
      "metadata": {
        "colab": {
          "base_uri": "https://localhost:8080/"
        },
        "id": "xXaWWvhwiu2Q",
        "outputId": "3e7f7dc3-f667-4528-ee7c-e28f2ffc9a00"
      },
      "id": "xXaWWvhwiu2Q",
      "execution_count": null,
      "outputs": [
        {
          "output_type": "stream",
          "name": "stdout",
          "text": [
            "  1823504 raw_data/amp_res_1.fastq\n",
            "  1823504 raw_data/amp_res_2.fastq\n",
            "  3647008 total\n"
          ]
        }
      ]
    },
    {
      "cell_type": "code",
      "source": [
        "! wc -l raw_data/amp_res_trimmed_?P.fastq"
      ],
      "metadata": {
        "colab": {
          "base_uri": "https://localhost:8080/"
        },
        "id": "i9HrFFkOjLpi",
        "outputId": "470da2f5-83db-48db-ee2f-d5bb74fb48e2"
      },
      "id": "i9HrFFkOjLpi",
      "execution_count": null,
      "outputs": [
        {
          "output_type": "stream",
          "name": "stdout",
          "text": [
            "  1785036 raw_data/amp_res_trimmed_1P.fastq\n",
            "  1785036 raw_data/amp_res_trimmed_2P.fastq\n",
            "  3570072 total\n"
          ]
        }
      ]
    },
    {
      "cell_type": "code",
      "source": [
        "print(f\"Before trimming: {int(1823504 / 4):,}\")\n",
        "print(f\"After trimming: {int(1785036 / 4):,}\")"
      ],
      "metadata": {
        "colab": {
          "base_uri": "https://localhost:8080/"
        },
        "id": "T8-ckMK7jFS6",
        "outputId": "5c390e99-d895-4e25-f6a2-3039ec968b91"
      },
      "id": "T8-ckMK7jFS6",
      "execution_count": null,
      "outputs": [
        {
          "output_type": "stream",
          "name": "stdout",
          "text": [
            "Before trimming: 455,876\n",
            "After trimming: 446,259\n"
          ]
        }
      ]
    },
    {
      "cell_type": "markdown",
      "source": [
        "So, we lost less than 1% of all reads -> our Illumina data has a quite high quality."
      ],
      "metadata": {
        "id": "59B2pV-9GVbu"
      },
      "id": "59B2pV-9GVbu"
    },
    {
      "cell_type": "markdown",
      "source": [
        "Call Trimmomatic with stricter quality settings"
      ],
      "metadata": {
        "id": "udM-npm28-tQ"
      },
      "id": "udM-npm28-tQ"
    },
    {
      "cell_type": "code",
      "source": [
        "! TrimmomaticPE -threads 4 raw_data/amp_res_1.fastq raw_data/amp_res_2.fastq -baseout raw_data/amp_res_trimmed_thres30.fastq LEADING:30 TRAILING:30 SLIDINGWINDOW:10:30 MINLEN:20"
      ],
      "metadata": {
        "colab": {
          "base_uri": "https://localhost:8080/"
        },
        "id": "QRf0011VkRQA",
        "outputId": "be891ef2-b101-4a75-cbf8-9dcd9b801682"
      },
      "id": "QRf0011VkRQA",
      "execution_count": null,
      "outputs": [
        {
          "output_type": "stream",
          "name": "stdout",
          "text": [
            "TrimmomaticPE: Started with arguments:\n",
            " -threads 4 raw_data/amp_res_1.fastq raw_data/amp_res_2.fastq -baseout raw_data/amp_res_trimmed_thres30.fastq LEADING:30 TRAILING:30 SLIDINGWINDOW:10:30 MINLEN:20\n",
            "Using templated Output files: raw_data/amp_res_trimmed_thres30_1P.fastq raw_data/amp_res_trimmed_thres30_1U.fastq raw_data/amp_res_trimmed_thres30_2P.fastq raw_data/amp_res_trimmed_thres30_2U.fastq\n",
            "Quality encoding detected as phred33\n",
            "Input Read Pairs: 455876 Both Surviving: 376340 (82.55%) Forward Only Surviving: 33836 (7.42%) Reverse Only Surviving: 25307 (5.55%) Dropped: 20393 (4.47%)\n",
            "TrimmomaticPE: Completed successfully\n"
          ]
        }
      ]
    },
    {
      "cell_type": "markdown",
      "source": [
        "**Note:** as the result we get better quality yet by losing almost 20% of all data"
      ],
      "metadata": {
        "id": "CgIXN0idkZnA"
      },
      "id": "CgIXN0idkZnA"
    },
    {
      "cell_type": "markdown",
      "source": [
        "## Aligning sequences to reference\n",
        "24.10.2022 14:00"
      ],
      "metadata": {
        "id": "NCbLcY3EpLZc"
      },
      "id": "NCbLcY3EpLZc"
    },
    {
      "cell_type": "markdown",
      "source": [
        "This aligning will be performed by the Burrows-Wheeler transform which is relatively super fast yet required previously made indexing"
      ],
      "metadata": {
        "id": "ZB8u61InmNF7"
      },
      "id": "ZB8u61InmNF7"
    },
    {
      "cell_type": "markdown",
      "source": [
        "### BWA installing"
      ],
      "metadata": {
        "id": "QobLXzsHFYfE"
      },
      "id": "QobLXzsHFYfE"
    },
    {
      "cell_type": "code",
      "source": [
        "! apt install bwa"
      ],
      "metadata": {
        "id": "UCP-vsXIpbrF",
        "colab": {
          "base_uri": "https://localhost:8080/"
        },
        "outputId": "f009e732-763d-4113-87ce-2d47d83d86b7"
      },
      "id": "UCP-vsXIpbrF",
      "execution_count": null,
      "outputs": [
        {
          "output_type": "stream",
          "name": "stdout",
          "text": [
            "Reading package lists... Done\n",
            "Building dependency tree       \n",
            "Reading state information... Done\n",
            "The following package was automatically installed and is no longer required:\n",
            "  libnvidia-common-460\n",
            "Use 'apt autoremove' to remove it.\n",
            "Suggested packages:\n",
            "  samtools\n",
            "The following NEW packages will be installed:\n",
            "  bwa\n",
            "0 upgraded, 1 newly installed, 0 to remove and 27 not upgraded.\n",
            "Need to get 176 kB of archives.\n",
            "After this operation, 404 kB of additional disk space will be used.\n",
            "Get:1 http://archive.ubuntu.com/ubuntu bionic-updates/universe amd64 bwa amd64 0.7.17-1ubuntu0.1 [176 kB]\n",
            "Fetched 176 kB in 0s (448 kB/s)\n",
            "Selecting previously unselected package bwa.\n",
            "(Reading database ... 124309 files and directories currently installed.)\n",
            "Preparing to unpack .../bwa_0.7.17-1ubuntu0.1_amd64.deb ...\n",
            "Unpacking bwa (0.7.17-1ubuntu0.1) ...\n",
            "Setting up bwa (0.7.17-1ubuntu0.1) ...\n",
            "Processing triggers for man-db (2.8.3-2ubuntu0.1) ...\n"
          ]
        }
      ]
    },
    {
      "cell_type": "markdown",
      "source": [
        "### Indexing genome"
      ],
      "metadata": {
        "id": "EXYaAM3PFf6w"
      },
      "id": "EXYaAM3PFf6w"
    },
    {
      "cell_type": "markdown",
      "source": [
        "'-p' helps to create nested folders in one go. '-t' is to copy to _folder_ some _files_"
      ],
      "metadata": {
        "id": "HOPnxWCaOcob"
      },
      "id": "HOPnxWCaOcob"
    },
    {
      "cell_type": "code",
      "source": [
        "! mkdir -p data/ecoli_K12_genome\n",
        "! cp -t data/ecoli_K12_genome raw_data/GCF_000005845.2_ASM584v2_genomic.*"
      ],
      "metadata": {
        "id": "AEJVkiGjAJ6w"
      },
      "id": "AEJVkiGjAJ6w",
      "execution_count": null,
      "outputs": []
    },
    {
      "cell_type": "code",
      "source": [
        "! bwa index data/ecoli_K12_genome/GCF_000005845.2_ASM584v2_genomic.fna"
      ],
      "metadata": {
        "colab": {
          "base_uri": "https://localhost:8080/"
        },
        "id": "HZmipsG9pMue",
        "outputId": "0907f747-aecb-463d-c8fc-8be70d3d9fc8"
      },
      "id": "HZmipsG9pMue",
      "execution_count": null,
      "outputs": [
        {
          "output_type": "stream",
          "name": "stdout",
          "text": [
            "[bwa_index] Pack FASTA... 0.05 sec\n",
            "[bwa_index] Construct BWT for the packed sequence...\n",
            "[bwa_index] 2.00 seconds elapse.\n",
            "[bwa_index] Update BWT... 0.03 sec\n",
            "[bwa_index] Pack forward-only FASTA... 0.03 sec\n",
            "[bwa_index] Construct SA from BWT and Occ... 0.70 sec\n",
            "[main] Version: 0.7.17-r1188\n",
            "[main] CMD: bwa index data/ecoli_K12_genome/GCF_000005845.2_ASM584v2_genomic.fna\n",
            "[main] Real time: 2.913 sec; CPU: 2.822 sec\n"
          ]
        }
      ]
    },
    {
      "cell_type": "code",
      "source": [
        "! ls"
      ],
      "metadata": {
        "colab": {
          "base_uri": "https://localhost:8080/"
        },
        "id": "tdcGbI51QpQj",
        "outputId": "d0a98bca-af29-4c98-997e-546a34d02873"
      },
      "id": "tdcGbI51QpQj",
      "execution_count": null,
      "outputs": [
        {
          "output_type": "stream",
          "name": "stdout",
          "text": [
            "data  fastqc_reports  __MACOSX\traw_data  raw_data.zip\tsample_data\n"
          ]
        }
      ]
    },
    {
      "cell_type": "markdown",
      "source": [
        "### Aligning"
      ],
      "metadata": {
        "id": "sCGx5oViFnEC"
      },
      "id": "sCGx5oViFnEC"
    },
    {
      "cell_type": "code",
      "source": [
        "! mkdir alignment"
      ],
      "metadata": {
        "id": "KTXxxcpaB4QM"
      },
      "id": "KTXxxcpaB4QM",
      "execution_count": null,
      "outputs": []
    },
    {
      "cell_type": "markdown",
      "source": [
        "'-o' is the other way to write 'output to'"
      ],
      "metadata": {
        "id": "q52OnlxJRN96"
      },
      "id": "q52OnlxJRN96"
    },
    {
      "cell_type": "code",
      "source": [
        "! bwa mem -t 4 -o alignment/alignment.sam data/ecoli_K12_genome/GCF_000005845.2_ASM584v2_genomic.fna raw_data/amp_res_trimmed_1P.fastq raw_data/amp_res_trimmed_2P.fastq"
      ],
      "metadata": {
        "colab": {
          "base_uri": "https://localhost:8080/"
        },
        "id": "10cApIlo1eK8",
        "outputId": "5c99e2c8-5ee1-4042-e560-b27e7344f0cf"
      },
      "id": "10cApIlo1eK8",
      "execution_count": null,
      "outputs": [
        {
          "output_type": "stream",
          "name": "stdout",
          "text": [
            "[M::bwa_idx_load_from_disk] read 0 ALT contigs\n",
            "[M::process] read 429542 sequences (40000044 bp)...\n",
            "[M::process] read 424118 sequences (40000142 bp)...\n",
            "[M::mem_pestat] # candidate unique pairs for (FF, FR, RF, RR): (53, 206612, 0, 61)\n",
            "[M::mem_pestat] analyzing insert size distribution for orientation FF...\n",
            "[M::mem_pestat] (25, 50, 75) percentile: (83, 125, 198)\n",
            "[M::mem_pestat] low and high boundaries for computing mean and std.dev: (1, 428)\n",
            "[M::mem_pestat] mean and std.dev: (134.48, 75.54)\n",
            "[M::mem_pestat] low and high boundaries for proper pairs: (1, 543)\n",
            "[M::mem_pestat] analyzing insert size distribution for orientation FR...\n",
            "[M::mem_pestat] (25, 50, 75) percentile: (144, 183, 229)\n",
            "[M::mem_pestat] low and high boundaries for computing mean and std.dev: (1, 399)\n",
            "[M::mem_pestat] mean and std.dev: (187.75, 63.27)\n",
            "[M::mem_pestat] low and high boundaries for proper pairs: (1, 484)\n",
            "[M::mem_pestat] skip orientation RF as there are not enough pairs\n",
            "[M::mem_pestat] analyzing insert size distribution for orientation RR...\n",
            "[M::mem_pestat] (25, 50, 75) percentile: (89, 151, 392)\n",
            "[M::mem_pestat] low and high boundaries for computing mean and std.dev: (1, 998)\n",
            "[M::mem_pestat] mean and std.dev: (139.00, 88.00)\n",
            "[M::mem_pestat] low and high boundaries for proper pairs: (1, 1301)\n",
            "[M::mem_pestat] skip orientation FF\n",
            "[M::mem_pestat] skip orientation RR\n",
            "[M::mem_process_seqs] Processed 429542 reads in 25.666 CPU sec, 13.295 real sec\n",
            "[M::process] read 38858 sequences (3652836 bp)...\n",
            "[M::mem_pestat] # candidate unique pairs for (FF, FR, RF, RR): (54, 203629, 0, 50)\n",
            "[M::mem_pestat] analyzing insert size distribution for orientation FF...\n",
            "[M::mem_pestat] (25, 50, 75) percentile: (65, 117, 175)\n",
            "[M::mem_pestat] low and high boundaries for computing mean and std.dev: (1, 395)\n",
            "[M::mem_pestat] mean and std.dev: (111.24, 57.73)\n",
            "[M::mem_pestat] low and high boundaries for proper pairs: (1, 505)\n",
            "[M::mem_pestat] analyzing insert size distribution for orientation FR...\n",
            "[M::mem_pestat] (25, 50, 75) percentile: (143, 183, 228)\n",
            "[M::mem_pestat] low and high boundaries for computing mean and std.dev: (1, 398)\n",
            "[M::mem_pestat] mean and std.dev: (187.54, 63.07)\n",
            "[M::mem_pestat] low and high boundaries for proper pairs: (1, 483)\n",
            "[M::mem_pestat] skip orientation RF as there are not enough pairs\n",
            "[M::mem_pestat] analyzing insert size distribution for orientation RR...\n",
            "[M::mem_pestat] (25, 50, 75) percentile: (60, 125, 211)\n",
            "[M::mem_pestat] low and high boundaries for computing mean and std.dev: (1, 513)\n",
            "[M::mem_pestat] mean and std.dev: (125.41, 76.82)\n",
            "[M::mem_pestat] low and high boundaries for proper pairs: (1, 664)\n",
            "[M::mem_pestat] skip orientation FF\n",
            "[M::mem_pestat] skip orientation RR\n",
            "[M::mem_process_seqs] Processed 424118 reads in 27.049 CPU sec, 14.239 real sec\n",
            "[M::mem_pestat] # candidate unique pairs for (FF, FR, RF, RR): (2, 18572, 0, 4)\n",
            "[M::mem_pestat] skip orientation FF as there are not enough pairs\n",
            "[M::mem_pestat] analyzing insert size distribution for orientation FR...\n",
            "[M::mem_pestat] (25, 50, 75) percentile: (141, 179, 224)\n",
            "[M::mem_pestat] low and high boundaries for computing mean and std.dev: (1, 390)\n",
            "[M::mem_pestat] mean and std.dev: (184.02, 61.48)\n",
            "[M::mem_pestat] low and high boundaries for proper pairs: (1, 473)\n",
            "[M::mem_pestat] skip orientation RF as there are not enough pairs\n",
            "[M::mem_pestat] skip orientation RR as there are not enough pairs\n",
            "[M::mem_process_seqs] Processed 38858 reads in 3.245 CPU sec, 1.743 real sec\n",
            "[main] Version: 0.7.17-r1188\n",
            "[main] CMD: bwa mem -t 4 -o alignment/alignment.sam data/ecoli_K12_genome/GCF_000005845.2_ASM584v2_genomic.fna raw_data/amp_res_trimmed_1P.fastq raw_data/amp_res_trimmed_2P.fastq\n",
            "[main] Real time: 30.284 sec; CPU: 56.494 sec\n"
          ]
        }
      ]
    },
    {
      "cell_type": "markdown",
      "source": [
        "We can check how many reads alighned by comparing the amount of them in the *.sam file and trimmed ones"
      ],
      "metadata": {
        "id": "CECegc0vRqR3"
      },
      "id": "CECegc0vRqR3"
    },
    {
      "cell_type": "markdown",
      "source": [
        "### Postprocessing"
      ],
      "metadata": {
        "id": "P4ialVDRFtQx"
      },
      "id": "P4ialVDRFtQx"
    },
    {
      "cell_type": "code",
      "source": [
        "! apt install samtools"
      ],
      "metadata": {
        "id": "R-q5pcAE5-td",
        "outputId": "a4e50839-604e-46dc-d628-354d37c6f3ef",
        "colab": {
          "base_uri": "https://localhost:8080/"
        }
      },
      "id": "R-q5pcAE5-td",
      "execution_count": null,
      "outputs": [
        {
          "output_type": "stream",
          "name": "stdout",
          "text": [
            "Reading package lists... Done\n",
            "Building dependency tree       \n",
            "Reading state information... Done\n",
            "The following package was automatically installed and is no longer required:\n",
            "  libnvidia-common-460\n",
            "Use 'apt autoremove' to remove it.\n",
            "The following additional packages will be installed:\n",
            "  cwltool libc-ares2 libhts2 libjs-bootstrap nodejs nodejs-doc\n",
            "  python-asn1crypto python-avro python-cachecontrol python-certifi\n",
            "  python-cffi-backend python-chardet python-cryptography python-enum34\n",
            "  python-html5lib python-idna python-ipaddress python-isodate python-lockfile\n",
            "  python-mistune python-openssl python-pkg-resources python-pyparsing\n",
            "  python-rdflib python-rdflib-jsonld python-requests python-ruamel.yaml\n",
            "  python-schema-salad python-shellescape python-six python-sparqlwrapper\n",
            "  python-typing python-urllib3 python-webencodings\n",
            "Suggested packages:\n",
            "  python-cryptography-doc python-cryptography-vectors python-enum34-doc\n",
            "  python-genshi python-lxml python-lockfile-doc python-openssl-doc\n",
            "  python-openssl-dbg python-setuptools python-pyparsing-doc python-rdflib-doc\n",
            "  python-rdflib-tools python-socks python-ntlm\n",
            "The following NEW packages will be installed:\n",
            "  cwltool libc-ares2 libhts2 libjs-bootstrap nodejs nodejs-doc\n",
            "  python-asn1crypto python-avro python-cachecontrol python-certifi\n",
            "  python-cffi-backend python-chardet python-cryptography python-enum34\n",
            "  python-html5lib python-idna python-ipaddress python-isodate python-lockfile\n",
            "  python-mistune python-openssl python-pkg-resources python-pyparsing\n",
            "  python-rdflib python-rdflib-jsonld python-requests python-ruamel.yaml\n",
            "  python-schema-salad python-shellescape python-six python-sparqlwrapper\n",
            "  python-typing python-urllib3 python-webencodings samtools\n",
            "0 upgraded, 35 newly installed, 0 to remove and 27 not upgraded.\n",
            "Need to get 8,568 kB of archives.\n",
            "After this operation, 41.0 MB of additional disk space will be used.\n",
            "Get:1 http://archive.ubuntu.com/ubuntu bionic/main amd64 python-pkg-resources all 39.0.1-2 [128 kB]\n",
            "Get:2 http://archive.ubuntu.com/ubuntu bionic/main amd64 python-six all 1.11.0-2 [11.3 kB]\n",
            "Get:3 http://archive.ubuntu.com/ubuntu bionic/universe amd64 python-isodate all 0.6.0-1 [23.8 kB]\n",
            "Get:4 http://archive.ubuntu.com/ubuntu bionic/main amd64 python-pyparsing all 2.2.0+dfsg1-2 [52.1 kB]\n",
            "Get:5 http://archive.ubuntu.com/ubuntu bionic/universe amd64 python-rdflib all 4.2.1-2 [237 kB]\n",
            "Get:6 http://archive.ubuntu.com/ubuntu bionic/main amd64 python-certifi all 2018.1.18-2 [144 kB]\n",
            "Get:7 http://archive.ubuntu.com/ubuntu bionic/main amd64 python-chardet all 3.0.4-1 [80.3 kB]\n",
            "Get:8 http://archive.ubuntu.com/ubuntu bionic/main amd64 python-idna all 2.6-1 [32.4 kB]\n",
            "Get:9 http://archive.ubuntu.com/ubuntu bionic-updates/main amd64 python-urllib3 all 1.22-1ubuntu0.18.04.2 [86.0 kB]\n",
            "Get:10 http://archive.ubuntu.com/ubuntu bionic-updates/main amd64 python-requests all 2.18.4-2ubuntu0.1 [58.5 kB]\n",
            "Get:11 http://archive.ubuntu.com/ubuntu bionic/universe amd64 python-ruamel.yaml amd64 0.15.34-1 [183 kB]\n",
            "Get:12 http://archive.ubuntu.com/ubuntu bionic/universe amd64 python-cachecontrol all 0.11.7-1 [15.2 kB]\n",
            "Get:13 http://archive.ubuntu.com/ubuntu bionic/main amd64 python-lockfile all 1:0.12.2-2 [14.6 kB]\n",
            "Get:14 http://archive.ubuntu.com/ubuntu bionic/universe amd64 python-mistune all 0.8.3-2 [13.8 kB]\n",
            "Get:15 http://archive.ubuntu.com/ubuntu bionic/universe amd64 python-rdflib-jsonld all 0.4.0-3 [12.2 kB]\n",
            "Get:16 http://archive.ubuntu.com/ubuntu bionic/universe amd64 python-typing all 3.6.2-1 [22.2 kB]\n",
            "Get:17 http://archive.ubuntu.com/ubuntu bionic/universe amd64 python-avro all 1.8.2+dfsg-1 [23.2 kB]\n",
            "Get:18 http://archive.ubuntu.com/ubuntu bionic/universe amd64 libjs-bootstrap all 3.3.7+dfsg-2 [228 kB]\n",
            "Get:19 http://archive.ubuntu.com/ubuntu bionic/universe amd64 python-schema-salad all 2.6.20171201034858-3 [260 kB]\n",
            "Get:20 http://archive.ubuntu.com/ubuntu bionic/universe amd64 python-shellescape all 3.4.1-2 [4,432 B]\n",
            "Get:21 http://archive.ubuntu.com/ubuntu bionic/universe amd64 cwltool all 1.0.20180302231433-1 [143 kB]\n",
            "Get:22 http://archive.ubuntu.com/ubuntu bionic/universe amd64 libhts2 amd64 1.7-2 [300 kB]\n",
            "Get:23 http://archive.ubuntu.com/ubuntu bionic-updates/universe amd64 nodejs-doc all 8.10.0~dfsg-2ubuntu0.4 [752 kB]\n",
            "Get:24 http://archive.ubuntu.com/ubuntu bionic/main amd64 python-asn1crypto all 0.24.0-1 [72.7 kB]\n",
            "Get:25 http://archive.ubuntu.com/ubuntu bionic/main amd64 python-cffi-backend amd64 1.11.5-1 [63.4 kB]\n",
            "Get:26 http://archive.ubuntu.com/ubuntu bionic/main amd64 python-enum34 all 1.1.6-2 [34.8 kB]\n",
            "Get:27 http://archive.ubuntu.com/ubuntu bionic/main amd64 python-ipaddress all 1.0.17-1 [18.2 kB]\n",
            "Get:28 http://archive.ubuntu.com/ubuntu bionic-updates/main amd64 python-cryptography amd64 2.1.4-1ubuntu1.4 [276 kB]\n",
            "Get:29 http://archive.ubuntu.com/ubuntu bionic/main amd64 python-webencodings all 0.5-2 [10.3 kB]\n",
            "Get:30 http://archive.ubuntu.com/ubuntu bionic/main amd64 python-html5lib all 0.999999999-1 [83.6 kB]\n",
            "Get:31 http://archive.ubuntu.com/ubuntu bionic/main amd64 python-openssl all 17.5.0-1ubuntu1 [41.3 kB]\n",
            "Get:32 http://archive.ubuntu.com/ubuntu bionic/universe amd64 python-sparqlwrapper all 1.7.6-2 [21.8 kB]\n",
            "Get:33 http://archive.ubuntu.com/ubuntu bionic/universe amd64 samtools amd64 1.7-1 [288 kB]\n",
            "Get:34 http://archive.ubuntu.com/ubuntu bionic-updates/main amd64 libc-ares2 amd64 1.14.0-1ubuntu0.1 [37.5 kB]\n",
            "Get:35 http://archive.ubuntu.com/ubuntu bionic-updates/universe amd64 nodejs amd64 8.10.0~dfsg-2ubuntu0.4 [4,796 kB]\n",
            "Fetched 8,568 kB in 2s (4,196 kB/s)\n",
            "Extracting templates from packages: 100%\n",
            "Selecting previously unselected package python-pkg-resources.\n",
            "(Reading database ... 124326 files and directories currently installed.)\n",
            "Preparing to unpack .../00-python-pkg-resources_39.0.1-2_all.deb ...\n",
            "Unpacking python-pkg-resources (39.0.1-2) ...\n",
            "Selecting previously unselected package python-six.\n",
            "Preparing to unpack .../01-python-six_1.11.0-2_all.deb ...\n",
            "Unpacking python-six (1.11.0-2) ...\n",
            "Selecting previously unselected package python-isodate.\n",
            "Preparing to unpack .../02-python-isodate_0.6.0-1_all.deb ...\n",
            "Unpacking python-isodate (0.6.0-1) ...\n",
            "Selecting previously unselected package python-pyparsing.\n",
            "Preparing to unpack .../03-python-pyparsing_2.2.0+dfsg1-2_all.deb ...\n",
            "Unpacking python-pyparsing (2.2.0+dfsg1-2) ...\n",
            "Selecting previously unselected package python-rdflib.\n",
            "Preparing to unpack .../04-python-rdflib_4.2.1-2_all.deb ...\n",
            "Unpacking python-rdflib (4.2.1-2) ...\n",
            "Selecting previously unselected package python-certifi.\n",
            "Preparing to unpack .../05-python-certifi_2018.1.18-2_all.deb ...\n",
            "Unpacking python-certifi (2018.1.18-2) ...\n",
            "Selecting previously unselected package python-chardet.\n",
            "Preparing to unpack .../06-python-chardet_3.0.4-1_all.deb ...\n",
            "Unpacking python-chardet (3.0.4-1) ...\n",
            "Selecting previously unselected package python-idna.\n",
            "Preparing to unpack .../07-python-idna_2.6-1_all.deb ...\n",
            "Unpacking python-idna (2.6-1) ...\n",
            "Selecting previously unselected package python-urllib3.\n",
            "Preparing to unpack .../08-python-urllib3_1.22-1ubuntu0.18.04.2_all.deb ...\n",
            "Unpacking python-urllib3 (1.22-1ubuntu0.18.04.2) ...\n",
            "Selecting previously unselected package python-requests.\n",
            "Preparing to unpack .../09-python-requests_2.18.4-2ubuntu0.1_all.deb ...\n",
            "Unpacking python-requests (2.18.4-2ubuntu0.1) ...\n",
            "Selecting previously unselected package python-ruamel.yaml.\n",
            "Preparing to unpack .../10-python-ruamel.yaml_0.15.34-1_amd64.deb ...\n",
            "Unpacking python-ruamel.yaml (0.15.34-1) ...\n",
            "Selecting previously unselected package python-cachecontrol.\n",
            "Preparing to unpack .../11-python-cachecontrol_0.11.7-1_all.deb ...\n",
            "Unpacking python-cachecontrol (0.11.7-1) ...\n",
            "Selecting previously unselected package python-lockfile.\n",
            "Preparing to unpack .../12-python-lockfile_1%3a0.12.2-2_all.deb ...\n",
            "Unpacking python-lockfile (1:0.12.2-2) ...\n",
            "Selecting previously unselected package python-mistune.\n",
            "Preparing to unpack .../13-python-mistune_0.8.3-2_all.deb ...\n",
            "Unpacking python-mistune (0.8.3-2) ...\n",
            "Selecting previously unselected package python-rdflib-jsonld.\n",
            "Preparing to unpack .../14-python-rdflib-jsonld_0.4.0-3_all.deb ...\n",
            "Unpacking python-rdflib-jsonld (0.4.0-3) ...\n",
            "Selecting previously unselected package python-typing.\n",
            "Preparing to unpack .../15-python-typing_3.6.2-1_all.deb ...\n",
            "Unpacking python-typing (3.6.2-1) ...\n",
            "Selecting previously unselected package python-avro.\n",
            "Preparing to unpack .../16-python-avro_1.8.2+dfsg-1_all.deb ...\n",
            "Unpacking python-avro (1.8.2+dfsg-1) ...\n",
            "Selecting previously unselected package libjs-bootstrap.\n",
            "Preparing to unpack .../17-libjs-bootstrap_3.3.7+dfsg-2_all.deb ...\n",
            "Unpacking libjs-bootstrap (3.3.7+dfsg-2) ...\n",
            "Selecting previously unselected package python-schema-salad.\n",
            "Preparing to unpack .../18-python-schema-salad_2.6.20171201034858-3_all.deb ...\n",
            "Unpacking python-schema-salad (2.6.20171201034858-3) ...\n",
            "Selecting previously unselected package python-shellescape.\n",
            "Preparing to unpack .../19-python-shellescape_3.4.1-2_all.deb ...\n",
            "Unpacking python-shellescape (3.4.1-2) ...\n",
            "Selecting previously unselected package cwltool.\n",
            "Preparing to unpack .../20-cwltool_1.0.20180302231433-1_all.deb ...\n",
            "Unpacking cwltool (1.0.20180302231433-1) ...\n",
            "Selecting previously unselected package libhts2:amd64.\n",
            "Preparing to unpack .../21-libhts2_1.7-2_amd64.deb ...\n",
            "Unpacking libhts2:amd64 (1.7-2) ...\n",
            "Selecting previously unselected package nodejs-doc.\n",
            "Preparing to unpack .../22-nodejs-doc_8.10.0~dfsg-2ubuntu0.4_all.deb ...\n",
            "Unpacking nodejs-doc (8.10.0~dfsg-2ubuntu0.4) ...\n",
            "Selecting previously unselected package python-asn1crypto.\n",
            "Preparing to unpack .../23-python-asn1crypto_0.24.0-1_all.deb ...\n",
            "Unpacking python-asn1crypto (0.24.0-1) ...\n",
            "Selecting previously unselected package python-cffi-backend.\n",
            "Preparing to unpack .../24-python-cffi-backend_1.11.5-1_amd64.deb ...\n",
            "Unpacking python-cffi-backend (1.11.5-1) ...\n",
            "Selecting previously unselected package python-enum34.\n",
            "Preparing to unpack .../25-python-enum34_1.1.6-2_all.deb ...\n",
            "Unpacking python-enum34 (1.1.6-2) ...\n",
            "Selecting previously unselected package python-ipaddress.\n",
            "Preparing to unpack .../26-python-ipaddress_1.0.17-1_all.deb ...\n",
            "Unpacking python-ipaddress (1.0.17-1) ...\n",
            "Selecting previously unselected package python-cryptography.\n",
            "Preparing to unpack .../27-python-cryptography_2.1.4-1ubuntu1.4_amd64.deb ...\n",
            "Unpacking python-cryptography (2.1.4-1ubuntu1.4) ...\n",
            "Selecting previously unselected package python-webencodings.\n",
            "Preparing to unpack .../28-python-webencodings_0.5-2_all.deb ...\n",
            "Unpacking python-webencodings (0.5-2) ...\n",
            "Selecting previously unselected package python-html5lib.\n",
            "Preparing to unpack .../29-python-html5lib_0.999999999-1_all.deb ...\n",
            "Unpacking python-html5lib (0.999999999-1) ...\n",
            "Selecting previously unselected package python-openssl.\n",
            "Preparing to unpack .../30-python-openssl_17.5.0-1ubuntu1_all.deb ...\n",
            "Unpacking python-openssl (17.5.0-1ubuntu1) ...\n",
            "Selecting previously unselected package python-sparqlwrapper.\n",
            "Preparing to unpack .../31-python-sparqlwrapper_1.7.6-2_all.deb ...\n",
            "Unpacking python-sparqlwrapper (1.7.6-2) ...\n",
            "Selecting previously unselected package samtools.\n",
            "Preparing to unpack .../32-samtools_1.7-1_amd64.deb ...\n",
            "Unpacking samtools (1.7-1) ...\n",
            "Selecting previously unselected package libc-ares2:amd64.\n",
            "Preparing to unpack .../33-libc-ares2_1.14.0-1ubuntu0.1_amd64.deb ...\n",
            "Unpacking libc-ares2:amd64 (1.14.0-1ubuntu0.1) ...\n",
            "Selecting previously unselected package nodejs.\n",
            "Preparing to unpack .../34-nodejs_8.10.0~dfsg-2ubuntu0.4_amd64.deb ...\n",
            "Unpacking nodejs (8.10.0~dfsg-2ubuntu0.4) ...\n",
            "Setting up python-idna (2.6-1) ...\n",
            "Setting up nodejs-doc (8.10.0~dfsg-2ubuntu0.4) ...\n",
            "Setting up python-asn1crypto (0.24.0-1) ...\n",
            "Setting up python-mistune (0.8.3-2) ...\n",
            "Setting up python-certifi (2018.1.18-2) ...\n",
            "Setting up python-avro (1.8.2+dfsg-1) ...\n",
            "Setting up python-pkg-resources (39.0.1-2) ...\n",
            "Setting up python-ruamel.yaml (0.15.34-1) ...\n",
            "Setting up python-cffi-backend (1.11.5-1) ...\n",
            "Setting up python-six (1.11.0-2) ...\n",
            "Setting up python-isodate (0.6.0-1) ...\n",
            "Setting up python-shellescape (3.4.1-2) ...\n",
            "Setting up python-enum34 (1.1.6-2) ...\n",
            "Setting up libjs-bootstrap (3.3.7+dfsg-2) ...\n",
            "Setting up python-lockfile (1:0.12.2-2) ...\n",
            "Setting up python-ipaddress (1.0.17-1) ...\n",
            "Setting up libc-ares2:amd64 (1.14.0-1ubuntu0.1) ...\n",
            "Setting up libhts2:amd64 (1.7-2) ...\n",
            "Setting up python-webencodings (0.5-2) ...\n",
            "Setting up python-typing (3.6.2-1) ...\n",
            "Setting up python-pyparsing (2.2.0+dfsg1-2) ...\n",
            "Setting up python-urllib3 (1.22-1ubuntu0.18.04.2) ...\n",
            "Setting up python-chardet (3.0.4-1) ...\n",
            "Setting up nodejs (8.10.0~dfsg-2ubuntu0.4) ...\n",
            "update-alternatives: using /usr/bin/nodejs to provide /usr/bin/js (js) in auto mode\n",
            "Setting up python-rdflib (4.2.1-2) ...\n",
            "Setting up python-sparqlwrapper (1.7.6-2) ...\n",
            "Setting up python-rdflib-jsonld (0.4.0-3) ...\n",
            "Setting up python-cryptography (2.1.4-1ubuntu1.4) ...\n",
            "Setting up python-requests (2.18.4-2ubuntu0.1) ...\n",
            "Setting up python-cachecontrol (0.11.7-1) ...\n",
            "Setting up python-schema-salad (2.6.20171201034858-3) ...\n",
            "Setting up python-html5lib (0.999999999-1) ...\n",
            "Setting up samtools (1.7-1) ...\n",
            "Setting up python-openssl (17.5.0-1ubuntu1) ...\n",
            "Setting up cwltool (1.0.20180302231433-1) ...\n",
            "Processing triggers for libc-bin (2.27-3ubuntu1.6) ...\n",
            "Processing triggers for man-db (2.8.3-2ubuntu0.1) ...\n"
          ]
        }
      ]
    },
    {
      "cell_type": "markdown",
      "source": [
        "'view' views and converts SAM/BAM/CRAM files, '-S' was important for previous samtools versions to correct format, no it's done automatically, so just legacy. '-b' is for output in the BAM format. The BAM format is more compact."
      ],
      "metadata": {
        "id": "tgolHGZDSFbl"
      },
      "id": "tgolHGZDSFbl"
    },
    {
      "cell_type": "code",
      "source": [
        "! samtools view -S -b -o alignment/alignment.bam alignment/alignment.sam"
      ],
      "metadata": {
        "id": "LStgS5JP6CbC"
      },
      "id": "LStgS5JP6CbC",
      "execution_count": null,
      "outputs": []
    },
    {
      "cell_type": "markdown",
      "source": [
        "To get some basic statistics:"
      ],
      "metadata": {
        "id": "-5YWExlMUF0z"
      },
      "id": "-5YWExlMUF0z"
    },
    {
      "cell_type": "code",
      "source": [
        "! samtools flagstat alignment/alignment.bam"
      ],
      "metadata": {
        "colab": {
          "base_uri": "https://localhost:8080/"
        },
        "id": "JNBuL0fN7Ppq",
        "outputId": "6179b1c3-7e27-472d-c001-88fffcdf1110"
      },
      "id": "JNBuL0fN7Ppq",
      "execution_count": null,
      "outputs": [
        {
          "output_type": "stream",
          "name": "stdout",
          "text": [
            "892776 + 0 in total (QC-passed reads + QC-failed reads)\n",
            "0 + 0 secondary\n",
            "258 + 0 supplementary\n",
            "0 + 0 duplicates\n",
            "891649 + 0 mapped (99.87% : N/A)\n",
            "892518 + 0 paired in sequencing\n",
            "446259 + 0 read1\n",
            "446259 + 0 read2\n",
            "888558 + 0 properly paired (99.56% : N/A)\n",
            "890412 + 0 with itself and mate mapped\n",
            "979 + 0 singletons (0.11% : N/A)\n",
            "0 + 0 with mate mapped to a different chr\n",
            "0 + 0 with mate mapped to a different chr (mapQ>=5)\n"
          ]
        }
      ]
    },
    {
      "cell_type": "markdown",
      "source": [
        "So, 99,87% is mapped :sparkles:"
      ],
      "metadata": {
        "id": "ILXyy3egUK53"
      },
      "id": "ILXyy3egUK53"
    },
    {
      "cell_type": "markdown",
      "source": [
        "For quick searching through let's add indexes to the sorted version. Finally, let's visualise our aligned to the reference genome reads in IGV browser"
      ],
      "metadata": {
        "id": "1KrfM4d0Uy3P"
      },
      "id": "1KrfM4d0Uy3P"
    },
    {
      "cell_type": "code",
      "source": [
        "! samtools sort -o alignment/alignment_sorted.bam alignment/alignment.bam"
      ],
      "metadata": {
        "id": "EvqrIpTr86eV"
      },
      "id": "EvqrIpTr86eV",
      "execution_count": null,
      "outputs": []
    },
    {
      "cell_type": "code",
      "source": [
        "! samtools index alignment/alignment_sorted.bam"
      ],
      "metadata": {
        "id": "iG_2QUYB87BW"
      },
      "id": "iG_2QUYB87BW",
      "execution_count": null,
      "outputs": []
    },
    {
      "cell_type": "code",
      "source": [
        "! samtools faidx data/ecoli_K12_genome/GCF_000005845.2_ASM584v2_genomic.fna"
      ],
      "metadata": {
        "id": "9gohsm4e87OM"
      },
      "id": "9gohsm4e87OM",
      "execution_count": null,
      "outputs": []
    },
    {
      "cell_type": "markdown",
      "source": [
        "## Variant calling\n",
        "24.10.2022 15:00"
      ],
      "metadata": {
        "id": "B6n7KLRxSxEE"
      },
      "id": "B6n7KLRxSxEE"
    },
    {
      "cell_type": "markdown",
      "source": [
        "Let's separate actual mutations from coinsidences"
      ],
      "metadata": {
        "id": "aLHJCRFEWBoV"
      },
      "id": "aLHJCRFEWBoV"
    },
    {
      "cell_type": "markdown",
      "source": [
        "Produce \"pileup\" textual format from an alignment"
      ],
      "metadata": {
        "id": "KBf6vVFfEV3z"
      },
      "id": "KBf6vVFfEV3z"
    },
    {
      "cell_type": "code",
      "source": [
        "! samtools mpileup -f data/ecoli_K12_genome/GCF_000005845.2_ASM584v2_genomic.fna -o alignment/alignment.mpileup alignment/alignment_sorted.bam"
      ],
      "metadata": {
        "id": "AfH_tS2k87XV",
        "colab": {
          "base_uri": "https://localhost:8080/"
        },
        "outputId": "81852dcc-4144-401d-af96-515c0498ca76"
      },
      "id": "AfH_tS2k87XV",
      "execution_count": null,
      "outputs": [
        {
          "output_type": "stream",
          "name": "stdout",
          "text": [
            "[mpileup] 1 samples in 1 input files\n",
            "<mpileup> Set max per-file depth to 8000\n"
          ]
        }
      ]
    },
    {
      "cell_type": "markdown",
      "source": [
        "'-y' is for all yes to all promts"
      ],
      "metadata": {
        "id": "ro43rUNOXZ65"
      },
      "id": "ro43rUNOXZ65"
    },
    {
      "cell_type": "code",
      "source": [
        "! apt install -y varscan"
      ],
      "metadata": {
        "colab": {
          "base_uri": "https://localhost:8080/"
        },
        "id": "ZcAM5I97Selg",
        "outputId": "4f651888-5386-4485-9ec9-329f97b52200"
      },
      "id": "ZcAM5I97Selg",
      "execution_count": null,
      "outputs": [
        {
          "output_type": "stream",
          "name": "stdout",
          "text": [
            "Reading package lists... Done\n",
            "Building dependency tree       \n",
            "Reading state information... Done\n",
            "The following package was automatically installed and is no longer required:\n",
            "  libnvidia-common-460\n",
            "Use 'apt autoremove' to remove it.\n",
            "The following NEW packages will be installed:\n",
            "  varscan\n",
            "0 upgraded, 1 newly installed, 0 to remove and 27 not upgraded.\n",
            "Need to get 138 kB of archives.\n",
            "After this operation, 166 kB of additional disk space will be used.\n",
            "Get:1 http://archive.ubuntu.com/ubuntu bionic/multiverse amd64 varscan amd64 2.4.3+dfsg-1 [138 kB]\n",
            "Fetched 138 kB in 1s (150 kB/s)\n",
            "Selecting previously unselected package varscan.\n",
            "(Reading database ... 125763 files and directories currently installed.)\n",
            "Preparing to unpack .../varscan_2.4.3+dfsg-1_amd64.deb ...\n",
            "Unpacking varscan (2.4.3+dfsg-1) ...\n",
            "Setting up varscan (2.4.3+dfsg-1) ...\n",
            "Processing triggers for man-db (2.8.3-2ubuntu0.1) ...\n"
          ]
        }
      ]
    },
    {
      "cell_type": "code",
      "source": [
        "! mkdir variant_calling"
      ],
      "metadata": {
        "id": "NDXNPhvVWsmh"
      },
      "id": "NDXNPhvVWsmh",
      "execution_count": null,
      "outputs": []
    },
    {
      "cell_type": "markdown",
      "source": [
        "Call single nucleotide polymorphisms with different thresholds"
      ],
      "metadata": {
        "id": "whCJtZUKEebn"
      },
      "id": "whCJtZUKEebn"
    },
    {
      "cell_type": "code",
      "source": [
        "! varscan mpileup2snp alignment/alignment.mpileup --min-var-freq 0.01 --variants --output-vcf 1 > variant_calling/varscan_results_01.vcf"
      ],
      "metadata": {
        "colab": {
          "base_uri": "https://localhost:8080/"
        },
        "id": "pMxhAurIWVwk",
        "outputId": "23cbab3b-8fd0-4abf-d4d8-d9ebcdce7b4e"
      },
      "id": "pMxhAurIWVwk",
      "execution_count": null,
      "outputs": [
        {
          "output_type": "stream",
          "name": "stdout",
          "text": [
            "Only SNPs will be reported\n",
            "Warning: No p-value threshold provided, so p-values will not be calculated\n",
            "Min coverage:\t8\n",
            "Min reads2:\t2\n",
            "Min var freq:\t0.01\n",
            "Min avg qual:\t15\n",
            "P-value thresh:\t0.01\n",
            "Reading input from alignment/alignment.mpileup\n",
            "4641343 bases in pileup file\n",
            "9 variant positions (6 SNP, 3 indel)\n",
            "1 were failed by the strand-filter\n",
            "5 variant positions reported (5 SNP, 0 indel)\n"
          ]
        }
      ]
    },
    {
      "cell_type": "code",
      "source": [
        "! varscan mpileup2snp alignment/alignment.mpileup --min-var-freq 0.5 --variants --output-vcf 1 > variant_calling/varscan_results_50.vcf"
      ],
      "metadata": {
        "colab": {
          "base_uri": "https://localhost:8080/"
        },
        "id": "4ZlYEI_8WYx6",
        "outputId": "a0b96fea-29ba-439e-fa9e-725698dff61c"
      },
      "id": "4ZlYEI_8WYx6",
      "execution_count": null,
      "outputs": [
        {
          "output_type": "stream",
          "name": "stdout",
          "text": [
            "Only SNPs will be reported\n",
            "Warning: No p-value threshold provided, so p-values will not be calculated\n",
            "Min coverage:\t8\n",
            "Min reads2:\t2\n",
            "Min var freq:\t0.5\n",
            "Min avg qual:\t15\n",
            "P-value thresh:\t0.01\n",
            "Reading input from alignment/alignment.mpileup\n",
            "4641343 bases in pileup file\n",
            "9 variant positions (6 SNP, 3 indel)\n",
            "1 were failed by the strand-filter\n",
            "5 variant positions reported (5 SNP, 0 indel)\n"
          ]
        }
      ]
    },
    {
      "cell_type": "code",
      "source": [
        "! varscan mpileup2snp alignment/alignment.mpileup --min-var-freq 0.8 --variants --output-vcf 1 > variant_calling/varscan_results_80.vcf"
      ],
      "metadata": {
        "colab": {
          "base_uri": "https://localhost:8080/"
        },
        "id": "aMJlTio7WY68",
        "outputId": "7e4974ec-2551-42d0-8237-83e49031ffae"
      },
      "id": "aMJlTio7WY68",
      "execution_count": null,
      "outputs": [
        {
          "output_type": "stream",
          "name": "stdout",
          "text": [
            "Only SNPs will be reported\n",
            "Warning: No p-value threshold provided, so p-values will not be calculated\n",
            "Min coverage:\t8\n",
            "Min reads2:\t2\n",
            "Min var freq:\t0.8\n",
            "Min avg qual:\t15\n",
            "P-value thresh:\t0.01\n",
            "Reading input from alignment/alignment.mpileup\n",
            "4641343 bases in pileup file\n",
            "9 variant positions (6 SNP, 3 indel)\n",
            "1 were failed by the strand-filter\n",
            "5 variant positions reported (5 SNP, 0 indel)\n"
          ]
        }
      ]
    },
    {
      "cell_type": "code",
      "source": [
        "! varscan mpileup2snp alignment/alignment.mpileup --min-var-freq 0.99 --variants --output-vcf 1 > variant_calling/varscan_results_99.vcf"
      ],
      "metadata": {
        "colab": {
          "base_uri": "https://localhost:8080/"
        },
        "id": "rPtPechrWgWQ",
        "outputId": "df025d7f-0672-4424-e57f-d10b57e45213"
      },
      "id": "rPtPechrWgWQ",
      "execution_count": null,
      "outputs": [
        {
          "output_type": "stream",
          "name": "stdout",
          "text": [
            "Only SNPs will be reported\n",
            "Warning: No p-value threshold provided, so p-values will not be calculated\n",
            "Min coverage:\t8\n",
            "Min reads2:\t2\n",
            "Min var freq:\t0.99\n",
            "Min avg qual:\t15\n",
            "P-value thresh:\t0.01\n",
            "Reading input from alignment/alignment.mpileup\n",
            "4641343 bases in pileup file\n",
            "8 variant positions (6 SNP, 2 indel)\n",
            "1 were failed by the strand-filter\n",
            "5 variant positions reported (5 SNP, 0 indel)\n"
          ]
        }
      ]
    },
    {
      "cell_type": "code",
      "source": [
        "! varscan mpileup2snp alignment/alignment.mpileup --min-var-freq 0.0 --variants --output-vcf 1 > variant_calling/varscan_results_00.vcf"
      ],
      "metadata": {
        "colab": {
          "base_uri": "https://localhost:8080/"
        },
        "id": "tuw4QTNqX6vx",
        "outputId": "056fd25d-e907-4b68-d7db-9a1e564b1ab5"
      },
      "id": "tuw4QTNqX6vx",
      "execution_count": null,
      "outputs": [
        {
          "output_type": "stream",
          "name": "stdout",
          "text": [
            "Only SNPs will be reported\n",
            "Warning: No p-value threshold provided, so p-values will not be calculated\n",
            "Min coverage:\t8\n",
            "Min reads2:\t2\n",
            "Min var freq:\t0.0\n",
            "Min avg qual:\t15\n",
            "P-value thresh:\t0.01\n",
            "Reading input from alignment/alignment.mpileup\n",
            "4641343 bases in pileup file\n",
            "9 variant positions (6 SNP, 3 indel)\n",
            "1 were failed by the strand-filter\n",
            "5 variant positions reported (5 SNP, 0 indel)\n"
          ]
        }
      ]
    },
    {
      "cell_type": "code",
      "source": [
        "! varscan mpileup2snp alignment/alignment.mpileup --min-var-freq 1.0 --variants --output-vcf 1 > variant_calling/varscan_results_100.vcf"
      ],
      "metadata": {
        "colab": {
          "base_uri": "https://localhost:8080/"
        },
        "id": "HHV536vFX63I",
        "outputId": "7474bd20-43f1-4dbd-e453-c168d62f51cf"
      },
      "id": "HHV536vFX63I",
      "execution_count": null,
      "outputs": [
        {
          "output_type": "stream",
          "name": "stdout",
          "text": [
            "Only SNPs will be reported\n",
            "Warning: No p-value threshold provided, so p-values will not be calculated\n",
            "Min coverage:\t8\n",
            "Min reads2:\t2\n",
            "Min var freq:\t1.0\n",
            "Min avg qual:\t15\n",
            "P-value thresh:\t0.01\n",
            "Reading input from alignment/alignment.mpileup\n",
            "4641343 bases in pileup file\n",
            "8 variant positions (6 SNP, 2 indel)\n",
            "1 were failed by the strand-filter\n",
            "5 variant positions reported (5 SNP, 0 indel)\n"
          ]
        }
      ]
    },
    {
      "cell_type": "code",
      "source": [
        "! varscan mpileup2snp alignment/alignment.mpileup --min-var-freq 2.0 --variants --output-vcf 1 > variant_calling/varscan_results_200.vcf"
      ],
      "metadata": {
        "colab": {
          "base_uri": "https://localhost:8080/"
        },
        "id": "jM3m4djVYDQi",
        "outputId": "8dc8d716-d9e3-477e-f41c-2e3307044d90"
      },
      "id": "jM3m4djVYDQi",
      "execution_count": null,
      "outputs": [
        {
          "output_type": "stream",
          "name": "stdout",
          "text": [
            "Only SNPs will be reported\n",
            "Warning: No p-value threshold provided, so p-values will not be calculated\n",
            "Min coverage:\t8\n",
            "Min reads2:\t2\n",
            "Min var freq:\t2.0\n",
            "Min avg qual:\t15\n",
            "P-value thresh:\t0.01\n",
            "Reading input from alignment/alignment.mpileup\n",
            "4641343 bases in pileup file\n",
            "0 variant positions (0 SNP, 0 indel)\n",
            "0 were failed by the strand-filter\n",
            "0 variant positions reported (0 SNP, 0 indel)\n"
          ]
        }
      ]
    },
    {
      "cell_type": "markdown",
      "source": [
        "So, as we can see, there is not so many random mutations contamonating our results. All findings are solid with a very high threshold. Unfortunately, nothing is found beyond 100% :)"
      ],
      "metadata": {
        "id": "6orJyRK2Xx7o"
      },
      "id": "6orJyRK2Xx7o"
    },
    {
      "cell_type": "markdown",
      "source": [
        "## Variant effect prediction\n",
        "24.10.2022 16:00"
      ],
      "metadata": {
        "id": "oSXXoBd6aPYs"
      },
      "id": "oSXXoBd6aPYs"
    },
    {
      "cell_type": "markdown",
      "source": [
        "Let's link the obtained mutations to genes and see their effects to understand resistance mechanism"
      ],
      "metadata": {
        "id": "tfX6xxFRmq2y"
      },
      "id": "tfX6xxFRmq2y"
    },
    {
      "cell_type": "code",
      "source": [
        "! apt install -y snpEff"
      ],
      "metadata": {
        "colab": {
          "base_uri": "https://localhost:8080/"
        },
        "id": "quOhT-KYdSs4",
        "outputId": "1dd7e42a-7764-401a-e36f-1260ed4d685a"
      },
      "id": "quOhT-KYdSs4",
      "execution_count": null,
      "outputs": [
        {
          "output_type": "stream",
          "name": "stdout",
          "text": [
            "Reading package lists... Done\n",
            "Building dependency tree       \n",
            "Reading state information... Done\n",
            "E: Unable to locate package snpEff\n"
          ]
        }
      ]
    },
    {
      "cell_type": "code",
      "source": [
        "! echo \"ecoli_K12_genome.genome : ecoli_K12\" > snpEff.config"
      ],
      "metadata": {
        "id": "5bKnvQYRc2mK"
      },
      "id": "5bKnvQYRc2mK",
      "execution_count": null,
      "outputs": []
    },
    {
      "cell_type": "markdown",
      "source": [
        "Download both sequence and annotation of our reference from Genbank in one file"
      ],
      "metadata": {
        "id": "LfP8_r9Pet_X"
      },
      "id": "LfP8_r9Pet_X"
    },
    {
      "cell_type": "code",
      "source": [
        "! wget https://ftp.ncbi.nlm.nih.gov/genomes/all/GCF/000/005/845/GCF_000005845.2_ASM584v2/GCF_000005845.2_ASM584v2_genomic.gbff.gz"
      ],
      "metadata": {
        "colab": {
          "base_uri": "https://localhost:8080/"
        },
        "id": "j5ElByzxc2s4",
        "outputId": "22f45f04-c3b9-418a-8cc5-e473bbb7f954"
      },
      "id": "j5ElByzxc2s4",
      "execution_count": null,
      "outputs": [
        {
          "output_type": "stream",
          "name": "stdout",
          "text": [
            "--2022-10-25 09:22:55--  https://ftp.ncbi.nlm.nih.gov/genomes/all/GCF/000/005/845/GCF_000005845.2_ASM584v2/GCF_000005845.2_ASM584v2_genomic.gbff.gz\n",
            "Resolving ftp.ncbi.nlm.nih.gov (ftp.ncbi.nlm.nih.gov)... 130.14.250.11, 130.14.250.12, 2607:f220:41e:250::12, ...\n",
            "Connecting to ftp.ncbi.nlm.nih.gov (ftp.ncbi.nlm.nih.gov)|130.14.250.11|:443... connected.\n",
            "HTTP request sent, awaiting response... 200 OK\n",
            "Length: 3421587 (3.3M) [application/x-gzip]\n",
            "Saving to: ‘GCF_000005845.2_ASM584v2_genomic.gbff.gz’\n",
            "\n",
            "GCF_000005845.2_ASM 100%[===================>]   3.26M  --.-KB/s    in 0.1s    \n",
            "\n",
            "2022-10-25 09:22:55 (29.8 MB/s) - ‘GCF_000005845.2_ASM584v2_genomic.gbff.gz’ saved [3421587/3421587]\n",
            "\n"
          ]
        }
      ]
    },
    {
      "cell_type": "code",
      "source": [
        "! gunzip GCF_000005845.2_ASM584v2_genomic.gbff.gz"
      ],
      "metadata": {
        "id": "io0dMfG0c2xq"
      },
      "id": "io0dMfG0c2xq",
      "execution_count": null,
      "outputs": []
    },
    {
      "cell_type": "code",
      "source": [
        "! mv -T GCF_000005845.2_ASM584v2_genomic.gbff data/ecoli_K12_genome/genes.gbk"
      ],
      "metadata": {
        "id": "SihYBxANc_Cx"
      },
      "id": "SihYBxANc_Cx",
      "execution_count": null,
      "outputs": []
    },
    {
      "cell_type": "markdown",
      "source": [
        "Create database with annotations"
      ],
      "metadata": {
        "id": "pmPzXg2Ejsn2"
      },
      "id": "pmPzXg2Ejsn2"
    },
    {
      "cell_type": "code",
      "source": [
        "! snpEff build -genbank -v ecoli_K12_genome"
      ],
      "metadata": {
        "colab": {
          "base_uri": "https://localhost:8080/"
        },
        "id": "AwmUgiZEc_GS",
        "outputId": "65b825d5-81fd-40e0-d9ff-8a7518a631fc"
      },
      "id": "AwmUgiZEc_GS",
      "execution_count": null,
      "outputs": [
        {
          "output_type": "stream",
          "name": "stdout",
          "text": [
            "/bin/bash: snpEff: command not found\n"
          ]
        }
      ]
    },
    {
      "cell_type": "code",
      "source": [
        "! snpEff ann ecoli_K12_genome variant_calling/varscan_results_95.vcf > variant_calling/varscan_results_95_annotated.vcf"
      ],
      "metadata": {
        "id": "roUaW7jyc_N9"
      },
      "id": "roUaW7jyc_N9",
      "execution_count": null,
      "outputs": []
    }
  ],
  "metadata": {
    "kernelspec": {
      "display_name": "Python [conda env:py39] *",
      "language": "python",
      "name": "conda-env-py39-py"
    },
    "language_info": {
      "codemirror_mode": {
        "name": "ipython",
        "version": 3
      },
      "file_extension": ".py",
      "mimetype": "text/x-python",
      "name": "python",
      "nbconvert_exporter": "python",
      "pygments_lexer": "ipython3",
      "version": "3.9.7"
    },
    "colab": {
      "provenance": [],
      "collapsed_sections": [
        "533bc20e",
        "608fd198",
        "d5cdca38",
        "vO_bMJRWcfaZ",
        "IKvxmDTshHXw",
        "QobLXzsHFYfE",
        "EXYaAM3PFf6w",
        "sCGx5oViFnEC",
        "P4ialVDRFtQx",
        "B6n7KLRxSxEE",
        "oSXXoBd6aPYs"
      ]
    }
  },
  "nbformat": 4,
  "nbformat_minor": 5
}