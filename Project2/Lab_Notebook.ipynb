{
 "cells": [
  {
   "cell_type": "markdown",
   "id": "f6fa656b",
   "metadata": {
    "id": "f6fa656b"
   },
   "source": [
    "# Project 2. “Why did I get the flu?”. Deep sequencing, error control, p-value, viral evolution.\n",
    "\n",
    "Lab notebook by Nikita Vyatkin"
   ]
  },
  {
   "cell_type": "markdown",
   "id": "toyYE_TeSrYz",
   "metadata": {
    "id": "toyYE_TeSrYz"
   },
   "source": [
    "## Data source"
   ]
  },
  {
   "cell_type": "markdown",
   "id": "5939f5b7",
   "metadata": {
    "id": "5939f5b7"
   },
   "source": [
    "Sequencing results are usually stored in the NCBI Sequence Read Archive, or SRA (it was previously known as the Short Read Archive, but with arrival of the new long-read NGS technologies, the name was appropriately updated). Our data was published there and labeled SRR1705851, so one can download it from the SRA FTP server:\n",
    "http://ftp.sra.ebi.ac.uk/vol1/fastq/SRR170/001/SRR1705851/\n"
   ]
  },
  {
   "cell_type": "code",
   "execution_count": 2,
   "id": "ClBdzku74qZ6",
   "metadata": {
    "colab": {
     "base_uri": "https://localhost:8080/"
    },
    "id": "ClBdzku74qZ6",
    "outputId": "8911b600-200f-423a-9112-5ca1d02d50c5"
   },
   "outputs": [
    {
     "name": "stdout",
     "output_type": "stream",
     "text": [
      "--2022-11-07 12:23:06--  http://ftp.sra.ebi.ac.uk/vol1/fastq/SRR170/001/SRR1705851/SRR1705851.fastq.gz\n",
      "Resolving ftp.sra.ebi.ac.uk (ftp.sra.ebi.ac.uk)... 193.62.193.138\n",
      "Connecting to ftp.sra.ebi.ac.uk (ftp.sra.ebi.ac.uk)|193.62.193.138|:80... connected.\n",
      "HTTP request sent, awaiting response... 200 OK\n",
      "Length: 19217176 (18M) [application/x-gzip]\n",
      "Saving to: ‘raw_data/SRR1705851.fastq.gz’\n",
      "\n",
      "SRR1705851.fastq.gz 100%[===================>]  18,33M   828KB/s    in 23s     \n",
      "\n",
      "2022-11-07 12:23:29 (826 KB/s) - ‘raw_data/SRR1705851.fastq.gz’ saved [19217176/19217176]\n",
      "\n"
     ]
    }
   ],
   "source": [
    "! wget -P raw_data http://ftp.sra.ebi.ac.uk/vol1/fastq/SRR170/001/SRR1705851/SRR1705851.fastq.gz"
   ]
  },
  {
   "cell_type": "code",
   "execution_count": 3,
   "id": "ssU4VNlSvpzx",
   "metadata": {
    "id": "ssU4VNlSvpzx"
   },
   "outputs": [],
   "source": [
    "! gunzip raw_data/SRR1705851.fastq.gz"
   ]
  },
  {
   "cell_type": "markdown",
   "id": "6cfc5981",
   "metadata": {},
   "source": [
    "To look for mutations, we will need the reference sequence for the influenza hemagglutinin gene. You can download it [here](https://www.ncbi.nlm.nih.gov/nuccore/KF848938.1?report=fasta) (just copy and paste, or select Send to -> File -> FASTA\n",
    "format)."
   ]
  },
  {
   "cell_type": "markdown",
   "id": "533bc20e",
   "metadata": {
    "id": "533bc20e"
   },
   "source": [
    "## Manual raw data analyzing"
   ]
  },
  {
   "cell_type": "markdown",
   "id": "wJB1_h5h8rfE",
   "metadata": {
    "id": "wJB1_h5h8rfE"
   },
   "source": [
    "Let's see what's inside about our reference genome and its annotation as well as both forward and reverse reads"
   ]
  },
  {
   "cell_type": "code",
   "execution_count": 23,
   "id": "9242235e",
   "metadata": {},
   "outputs": [
    {
     "name": "stdout",
     "output_type": "stream",
     "text": [
      "     1\t>KF848938.1 Influenza A virus (A/USA/RVD1_H3/2011(H3N2)) segment 4 hemagglutinin (HA) gene, partial cds\r\n",
      "     2\tCAAAAACTTCCTGGAAATGACAACAGCACGGCAACGCTGTGCCTTGGGCACCATGCAGTGCCAAACGGAA\r\n",
      "     3\tCAATAGTGAAAACAATCACGAATGACCAAATTGAAGTTACTAATGCCACTGAGCTGGTTCAGAGTTCCTC\r\n",
      "     4\tAACAGGTGAAATATGCAACAGTCCTCATCAGATCCTTGATGGAGAAAACTGCACACTAATAGATGCTCTA\r\n",
      "     5\tTTGGGAGACCCTCAGTGTGATGGCTTCCAAAACAAGAAATGGGACCTTTTTGTTGAACGAAGCAAAGCCC\r\n",
      "     6\tACAGCAACTGTTACCCTTATGATGTGCCGGATTATGCCTCCCTTAGGTCACTAGTTGCCTCATCCGGCAC\r\n",
      "     7\tACTGGAGTTTAACAATGAAAGCTTCAATTGGACTGGAGTCACTCAAAACGGAACAAGCTCTGCTTGCATA\r\n",
      "     8\tAGGAGATCTAATAATAGTTTCTTTAGTAGATTGAATTGGTTGACCCACTTAAACTTCAAATACCCAGCAT\r\n",
      "     9\tTGAACGTGACTATGCCAAACAATGAACAATTTGACAAATTGTACATTTGGGGGGTTCACCACCCGGGTAC\r\n",
      "    10\tGGACAAGGACCAAATCTTCCTGTATGCTCAAGCAGCAGGAAGAATCACAGTATCTACCAAAAGAAGCCAA\r\n",
      "    11\tCAAGCTGTAATTCCGAATATCGGATCTAGACCCAGAGTAAGGAATATCCCTAGCAGAGTAAGCATCTATT\r\n",
      "    12\tGGACAATAGTAAAACCGGGAGACATACTTTTGATTAACAGCACAGGGAATCTAATTGCTCCTAGGGGTTA\r\n",
      "    13\tCTTTAAAATACGAAGTGGGAAAAGCTCAATAATGAGATCAGATGCACCCATTGGCAAATGCAATTCTGCA\r\n",
      "    14\tTGCATCACTCCAAATGGAAGCATTCCCAATGACAAACCATTCCAAAATGTAAACAGGATCACATACGGGG\r\n",
      "    15\tCCTGTCCCAGATATGTTAAGCAAAACACTCTGAAATTGGCAACAGGAATGAGAAATGTACCAGAGAAACA\r\n",
      "    16\tAACTAGAGGCATATTTGGCGCAATAGCTGGTTTCATAGAAAATGGTTGGGAGGGAATGGTGGATGGTTGG\r\n",
      "    17\tTACGGTTTCAGGCATCAAAATTCTGAGGGAAGGGGACAAGCAGCAGATCTCAAAAGCACTCAAGCAGCAA\r\n",
      "    18\tTCGATCAAATCAATGGGAAGCTGAATAGATTGATCGGGAAAACCAACGAGAAATTCCATCAGATTGAAAA\r\n",
      "    19\tAGAATTCTCAGAAGTCGAAGGGAGAATTCAGGACCTTGAGAAATATGTTGAGGACACTAAAATAGATCTA\r\n",
      "    20\tTGGTCATACAACGCGGAGCTTCTTGTTGCCCTGGAGAACCAACACACAATTGATCTAACTGACTCAGAAA\r\n",
      "    21\tTGAACAAATTGTTTGAAAAAACAAAGAAGCAACTGAGGGAAAATGCTGAGGATATGGGCAATGGTTGTTT\r\n",
      "    22\tCAAAATATACCACAAATGTGACAATGCCTGCATAGGATCAATCAGAAATGGAACTTATGACCACGATGTG\r\n",
      "    23\tTACAGAGATGAAGCATTAAACAACCGATTCCAGATCAAGGGAGTTGAGCTGAAGTCAGGGTACAAAGATT\r\n",
      "    24\tGGATCCTATGGATTTCCTTTGCCATATCATGTTTTTTGCTTTGTGTTGCTTTGTTGGGGTTCATCATGTG\r\n",
      "    25\tGGCCTGCCAAAAAGGCAACATTAGGTGCAACATTTGCATTTGAGTGCATTAATTA\r\n",
      "    26\t\r\n"
     ]
    }
   ],
   "source": [
    "! cat -n reference/sequence.fasta"
   ]
  },
  {
   "cell_type": "code",
   "execution_count": 24,
   "id": "95edc466",
   "metadata": {},
   "outputs": [
    {
     "name": "stdout",
     "output_type": "stream",
     "text": [
      "Gene length = 1665\n"
     ]
    }
   ],
   "source": [
    "with open(\"reference/sequence.fasta\", 'r') as seq_file:\n",
    "    header = seq_file.readline()\n",
    "    seq = ''.join([line.strip() for line in seq_file.readlines()])\n",
    "    print(f\"Gene length = {len(seq)}\")"
   ]
  },
  {
   "cell_type": "code",
   "execution_count": 25,
   "id": "e157c1ea",
   "metadata": {
    "colab": {
     "base_uri": "https://localhost:8080/"
    },
    "id": "e157c1ea",
    "outputId": "9ff460a4-f1c4-435b-be04-d0382e879a2a"
   },
   "outputs": [
    {
     "name": "stdout",
     "output_type": "stream",
     "text": [
      "@SRR1705851.1 1/1\r\n",
      "TTCGTGATTGTTTTCACTATCGTTCCGTTTGGCACTGCATGGTGCCCAAGGCACAGCGTTGCCGTGCTGTTGTCATTTCCAGGAAGTTTTTGAGCGAAAACCAGACATAGAATGTAGCTCAAAGCAATGATAGTCTTCATGGTTAATAG\r\n",
      "+\r\n",
      ",<==<<<<A@@@@@@@EEE;CEE+AC>EC;>EFFDC@=A@AE999DDD>>@E777EE75C>EF>EDEEFFFF--AE>EDEEEED=C-58AE=<D=<<DD=D9CDD@EEDED@DEDDE*9;@DDED@@@7@E*;*888@*8;@8@;;@@E\r\n",
      "@SRR1705851.2 2/1\r\n",
      "NATTAACCATGAAGACTATCATTGCTTTGAGCTACATTCTATGTCTGGTTTTCGCTCAAAAACTTCCTGGAAATGACAACAGCACGGCAACGCTGTGCCTTGGGCACCATGCAGTGCCAAACGGAACGATAGTGAAAACAATCACGAATGA\r\n",
      "+\r\n",
      "#5<???BBEEEDEDDDGGGGGGIIIIIIIIIIIIIIIIIIIIIHIIIIFHHIIHHHHHIIIIHIIIIIIIHIIIIIIIIIIIIIIHHHHHHHHHHEHHHHHFFHHHHHHFFHHGFGGGGGGGGGGGGGEEEGCEEGGGGGEEGGGGCGEGG\r\n",
      "@SRR1705851.3 3/1\r\n",
      "GTTTGGCACTGCATGGTGCCCAAGGCACAGCGTTGCCGTGCTGTTGTCATTTCCAGGAAGTTTTTGAGCGAAAACCAGACATAGAATGTAGCTCAAAGCAATGATAGTCTTCATGGTTAATAG\r\n",
      "+\r\n",
      "9=9===>>@@@--5-588C;C;6+AE>6-A@+7>++-+@C+A.ECFE..8E.8--AE+C,EA@FEC5+-**55C-++++++++==D+5+,,+++++6CEDE====C=3C:@D+2++2<:DE2*\r\n",
      "@SRR1705851.4 4/1\r\n",
      "GTGCCCAAGGCACAGCGTTGCCGTGCTGTTGTCATTTCCAGGAAGTTTTTGAGCGAAAACCAGACATAGAATGTAGCTCAAAGCAATGATAGTCTTCATGGTTAATAG\r\n",
      "+\r\n",
      "?????BB?BBDBBDBDDEEDEFHHHHHHFHCFHHHHHFHHHHCFHAFHHHHHHGHHCCEEED@@CCFFFHHHHHHHHFHHHHHHHFHHHHHFCFHCFDFFH?DD>CFF\r\n",
      "@SRR1705851.5 5/1\r\n",
      "GTGATTGTTTTCACTATCGTTCCGTTTGGCACTGCATGGTGCCCAAGGCACAGCGTTGCCGTGCTGTTGTCATTTCCAGGAAGTTTTTGAGCGAAAACCAGACATAGAATGTAGCTCAAAGCAATGATAGTCTTCATGGTTAATAG\r\n",
      "+\r\n",
      "?????BBBDDDDDEEEGGGGGGIHHHIHHIIIIIIIIIICGGIIIIHIIIIIIIHEEHHHHDEEFHHHFHHIIIIIHHIIIIHDGHIIHHHHHEEHHHHHHHHHGGGGGGHGGGGGEGGGGGGHGGGGGGEGGGGEEGG>CGGGGG\r\n"
     ]
    }
   ],
   "source": [
    "! head -20 raw_data/SRR1705851.fastq"
   ]
  },
  {
   "cell_type": "markdown",
   "id": "bb696d10",
   "metadata": {
    "id": "bb696d10"
   },
   "source": [
    "Let's count the total number of forward and reverse reads respectively:"
   ]
  },
  {
   "cell_type": "code",
   "execution_count": 26,
   "id": "1c535911",
   "metadata": {
    "colab": {
     "base_uri": "https://localhost:8080/"
    },
    "id": "1c535911",
    "outputId": "35623cee-d51b-40e6-b4fb-8ee68bf5ee06"
   },
   "outputs": [
    {
     "name": "stdout",
     "output_type": "stream",
     "text": [
      "1433060 raw_data/SRR1705851.fastq\r\n"
     ]
    }
   ],
   "source": [
    "! wc -l raw_data/*.fastq"
   ]
  },
  {
   "cell_type": "markdown",
   "id": "5adfe40a",
   "metadata": {
    "id": "5adfe40a"
   },
   "source": [
    "Each read occupies four lines in a fastq file, so...\n"
   ]
  },
  {
   "cell_type": "code",
   "execution_count": 27,
   "id": "442b3ce5",
   "metadata": {
    "colab": {
     "base_uri": "https://localhost:8080/"
    },
    "id": "442b3ce5",
    "outputId": "8b8be1ad-f116-4a50-c3e0-693ea0a41052"
   },
   "outputs": [
    {
     "name": "stdout",
     "output_type": "stream",
     "text": [
      "Total number of reads: 358,265\n"
     ]
    }
   ],
   "source": [
    "print(f\"Total number of reads: {int(1433060 / 4):,}\")"
   ]
  },
  {
   "cell_type": "markdown",
   "id": "576ef569",
   "metadata": {
    "id": "576ef569"
   },
   "source": [
    "## Inspecting raw sequencing data with fastqc."
   ]
  },
  {
   "cell_type": "markdown",
   "id": "h8khdF2-A-C0",
   "metadata": {
    "id": "h8khdF2-A-C0"
   },
   "source": [
    "In the name of book keeping, let's create a folder for the FastQC report and output it there by using '-o'. '-t' means a number of threads."
   ]
  },
  {
   "cell_type": "code",
   "execution_count": 28,
   "id": "4IXNqy_tadMd",
   "metadata": {
    "id": "4IXNqy_tadMd"
   },
   "outputs": [],
   "source": [
    "! mkdir fastqc_reports"
   ]
  },
  {
   "cell_type": "code",
   "execution_count": 29,
   "id": "44a6ff7a",
   "metadata": {
    "colab": {
     "base_uri": "https://localhost:8080/"
    },
    "id": "44a6ff7a",
    "outputId": "21a8422c-e936-4cbf-b143-26ebd1f2f306",
    "scrolled": false
   },
   "outputs": [
    {
     "name": "stdout",
     "output_type": "stream",
     "text": [
      "Started analysis of SRR1705851.fastq\n",
      "Approx 5% complete for SRR1705851.fastq\n",
      "Approx 10% complete for SRR1705851.fastq\n",
      "Approx 15% complete for SRR1705851.fastq\n",
      "Approx 20% complete for SRR1705851.fastq\n",
      "Approx 25% complete for SRR1705851.fastq\n",
      "Approx 30% complete for SRR1705851.fastq\n",
      "Approx 35% complete for SRR1705851.fastq\n",
      "Approx 40% complete for SRR1705851.fastq\n",
      "Approx 45% complete for SRR1705851.fastq\n",
      "Approx 50% complete for SRR1705851.fastq\n",
      "Approx 55% complete for SRR1705851.fastq\n",
      "Approx 60% complete for SRR1705851.fastq\n",
      "Approx 65% complete for SRR1705851.fastq\n",
      "Approx 70% complete for SRR1705851.fastq\n",
      "Approx 75% complete for SRR1705851.fastq\n",
      "Approx 80% complete for SRR1705851.fastq\n",
      "Approx 85% complete for SRR1705851.fastq\n",
      "Approx 90% complete for SRR1705851.fastq\n",
      "Approx 95% complete for SRR1705851.fastq\n",
      "Analysis complete for SRR1705851.fastq\n"
     ]
    }
   ],
   "source": [
    "! fastqc -t 4 -o fastqc_reports/ raw_data/*.fastq"
   ]
  },
  {
   "cell_type": "markdown",
   "id": "10CQqHdzBlo6",
   "metadata": {
    "id": "10CQqHdzBlo6"
   },
   "source": [
    "The basic statistics from the report indeed matches the number of reads we calculated a few steps above."
   ]
  },
  {
   "cell_type": "markdown",
   "id": "NCbLcY3EpLZc",
   "metadata": {
    "id": "NCbLcY3EpLZc"
   },
   "source": [
    "## Aligning sequences to reference"
   ]
  },
  {
   "cell_type": "markdown",
   "id": "EXYaAM3PFf6w",
   "metadata": {
    "id": "EXYaAM3PFf6w"
   },
   "source": [
    "### Indexing genome"
   ]
  },
  {
   "cell_type": "code",
   "execution_count": 30,
   "id": "HZmipsG9pMue",
   "metadata": {
    "colab": {
     "base_uri": "https://localhost:8080/"
    },
    "id": "HZmipsG9pMue",
    "outputId": "0907f747-aecb-463d-c8fc-8be70d3d9fc8"
   },
   "outputs": [
    {
     "name": "stdout",
     "output_type": "stream",
     "text": [
      "[bwa_index] Pack FASTA... 0.00 sec\r\n",
      "[bwa_index] Construct BWT for the packed sequence...\r\n",
      "[bwa_index] 0.00 seconds elapse.\r\n",
      "[bwa_index] Update BWT... 0.00 sec\r\n",
      "[bwa_index] Pack forward-only FASTA... 0.00 sec\r\n",
      "[bwa_index] Construct SA from BWT and Occ... 0.00 sec\r\n",
      "[main] Version: 0.7.17-r1188\r\n",
      "[main] CMD: bwa index reference/sequence.fasta\r\n",
      "[main] Real time: 0.007 sec; CPU: 0.005 sec\r\n"
     ]
    }
   ],
   "source": [
    "! bwa index reference/sequence.fasta"
   ]
  },
  {
   "cell_type": "code",
   "execution_count": 32,
   "id": "tdcGbI51QpQj",
   "metadata": {
    "colab": {
     "base_uri": "https://localhost:8080/"
    },
    "id": "tdcGbI51QpQj",
    "outputId": "d0a98bca-af29-4c98-997e-546a34d02873"
   },
   "outputs": [
    {
     "name": "stdout",
     "output_type": "stream",
     "text": [
      "total 24K\r\n",
      "-rw-rw-r-- 1 nikitos nikitos 1,8K ноя  7 12:54 sequence.fasta\r\n",
      "-rw-rw-r-- 1 nikitos nikitos    9 ноя  7 13:29 sequence.fasta.amb\r\n",
      "-rw-rw-r-- 1 nikitos nikitos  124 ноя  7 13:29 sequence.fasta.ann\r\n",
      "-rw-rw-r-- 1 nikitos nikitos 1,8K ноя  7 13:29 sequence.fasta.bwt\r\n",
      "-rw-rw-r-- 1 nikitos nikitos  418 ноя  7 13:29 sequence.fasta.pac\r\n",
      "-rw-rw-r-- 1 nikitos nikitos  888 ноя  7 13:29 sequence.fasta.sa\r\n"
     ]
    }
   ],
   "source": [
    "! ls -lh reference/"
   ]
  },
  {
   "cell_type": "markdown",
   "id": "sCGx5oViFnEC",
   "metadata": {
    "id": "sCGx5oViFnEC"
   },
   "source": [
    "### Aligning"
   ]
  },
  {
   "cell_type": "code",
   "execution_count": 33,
   "id": "KTXxxcpaB4QM",
   "metadata": {
    "id": "KTXxxcpaB4QM"
   },
   "outputs": [],
   "source": [
    "! mkdir alignment"
   ]
  },
  {
   "cell_type": "markdown",
   "id": "q52OnlxJRN96",
   "metadata": {
    "id": "q52OnlxJRN96"
   },
   "source": [
    "'-o' is the other way to write 'output to'"
   ]
  },
  {
   "cell_type": "code",
   "execution_count": 34,
   "id": "10cApIlo1eK8",
   "metadata": {
    "colab": {
     "base_uri": "https://localhost:8080/"
    },
    "id": "10cApIlo1eK8",
    "outputId": "5c99e2c8-5ee1-4042-e560-b27e7344f0cf"
   },
   "outputs": [
    {
     "name": "stdout",
     "output_type": "stream",
     "text": [
      "[M::bwa_idx_load_from_disk] read 0 ALT contigs\n",
      "[M::process] read 271364 sequences (40000281 bp)...\n",
      "[M::process] read 86901 sequences (12717583 bp)...\n",
      "[M::mem_process_seqs] Processed 271364 reads in 4.624 CPU sec, 1.160 real sec\n",
      "[M::mem_process_seqs] Processed 86901 reads in 1.634 CPU sec, 0.388 real sec\n",
      "[main] Version: 0.7.17-r1188\n",
      "[main] CMD: bwa mem -t 4 -o alignment/alignment.sam reference/sequence.fasta raw_data/SRR1705851.fastq\n",
      "[main] Real time: 1.826 sec; CPU: 6.426 sec\n"
     ]
    }
   ],
   "source": [
    "! bwa mem -t 4 -o alignment/alignment.sam reference/sequence.fasta raw_data/SRR1705851.fastq"
   ]
  },
  {
   "cell_type": "code",
   "execution_count": 39,
   "id": "c641499d",
   "metadata": {},
   "outputs": [
    {
     "name": "stdout",
     "output_type": "stream",
     "text": [
      "361351 alignment/alignment.sam\r\n"
     ]
    }
   ],
   "source": [
    "! wc -l alignment/alignment.sam"
   ]
  },
  {
   "cell_type": "markdown",
   "id": "P4ialVDRFtQx",
   "metadata": {
    "id": "P4ialVDRFtQx"
   },
   "source": [
    "### Postprocessing"
   ]
  },
  {
   "cell_type": "markdown",
   "id": "tgolHGZDSFbl",
   "metadata": {
    "id": "tgolHGZDSFbl"
   },
   "source": [
    "'view' views and converts SAM/BAM/CRAM files, '-S' was important for previous samtools versions to correct format, no it's done automatically, so just legacy. '-b' is for output in the BAM format. The BAM format is more compact."
   ]
  },
  {
   "cell_type": "code",
   "execution_count": 37,
   "id": "LStgS5JP6CbC",
   "metadata": {
    "id": "LStgS5JP6CbC"
   },
   "outputs": [],
   "source": [
    "! samtools view -S -b -o alignment/alignment.bam alignment/alignment.sam"
   ]
  },
  {
   "cell_type": "markdown",
   "id": "-5YWExlMUF0z",
   "metadata": {
    "id": "-5YWExlMUF0z"
   },
   "source": [
    "To get some basic statistics:"
   ]
  },
  {
   "cell_type": "code",
   "execution_count": 38,
   "id": "JNBuL0fN7Ppq",
   "metadata": {
    "colab": {
     "base_uri": "https://localhost:8080/"
    },
    "id": "JNBuL0fN7Ppq",
    "outputId": "6179b1c3-7e27-472d-c001-88fffcdf1110"
   },
   "outputs": [
    {
     "name": "stdout",
     "output_type": "stream",
     "text": [
      "361349 + 0 in total (QC-passed reads + QC-failed reads)\r\n",
      "0 + 0 secondary\r\n",
      "3084 + 0 supplementary\r\n",
      "0 + 0 duplicates\r\n",
      "361116 + 0 mapped (99.94% : N/A)\r\n",
      "0 + 0 paired in sequencing\r\n",
      "0 + 0 read1\r\n",
      "0 + 0 read2\r\n",
      "0 + 0 properly paired (N/A : N/A)\r\n",
      "0 + 0 with itself and mate mapped\r\n",
      "0 + 0 singletons (N/A : N/A)\r\n",
      "0 + 0 with mate mapped to a different chr\r\n",
      "0 + 0 with mate mapped to a different chr (mapQ>=5)\r\n"
     ]
    }
   ],
   "source": [
    "! samtools flagstat alignment/alignment.bam"
   ]
  },
  {
   "cell_type": "markdown",
   "id": "ILXyy3egUK53",
   "metadata": {
    "id": "ILXyy3egUK53"
   },
   "source": [
    "So, 99,94% is mapped"
   ]
  },
  {
   "cell_type": "markdown",
   "id": "1KrfM4d0Uy3P",
   "metadata": {
    "id": "1KrfM4d0Uy3P"
   },
   "source": [
    "For quick searching through let's add indexes to the sorted version. Finally, let's visualise our aligned to the reference genome reads in IGV"
   ]
  },
  {
   "cell_type": "code",
   "execution_count": 40,
   "id": "EvqrIpTr86eV",
   "metadata": {
    "id": "EvqrIpTr86eV"
   },
   "outputs": [],
   "source": [
    "! samtools sort -o alignment/alignment_sorted.bam alignment/alignment.bam"
   ]
  },
  {
   "cell_type": "code",
   "execution_count": 41,
   "id": "iG_2QUYB87BW",
   "metadata": {
    "id": "iG_2QUYB87BW"
   },
   "outputs": [],
   "source": [
    "! samtools index alignment/alignment_sorted.bam"
   ]
  },
  {
   "cell_type": "markdown",
   "id": "B6n7KLRxSxEE",
   "metadata": {
    "id": "B6n7KLRxSxEE"
   },
   "source": [
    "## Look for common variants with VarScan\n",
    "\n",
    "Let's separate actual mutations from coinsidences"
   ]
  },
  {
   "cell_type": "markdown",
   "id": "d7c92e22",
   "metadata": {
    "id": "KBf6vVFfEV3z"
   },
   "source": [
    "### Produce \"pileup\" textual format from an alignment\n",
    "\n",
    "To save computing power, the default behavior of samtools is to stop piling up the base calls at each position when it gets to 8000 calls. Since our variants may be quite rare, set that depth limit to something we know is higher than our coverage with the -d flag."
   ]
  },
  {
   "cell_type": "markdown",
   "id": "f0383589",
   "metadata": {},
   "source": [
    "Given the length of the reference sequence (`L = 1 665`), the number of reads (`N = 358 265`), and the average read length (`l = 150`), we can estimate the average read coverage of the genome as `N * l / L = 32 276.126`."
   ]
  },
  {
   "cell_type": "markdown",
   "id": "28bad835",
   "metadata": {},
   "source": [
    "Based on Samtools documentation:\n",
    "\n",
    "-d, --max-depth INT\n",
    "\n",
    "At a position, read maximally INT reads per input file. Setting this limit reduces the amount of memory and time needed to process regions with very high coverage. Passing zero for this option sets it to the highest possible value, effectively removing the depth limit."
   ]
  },
  {
   "cell_type": "code",
   "execution_count": 69,
   "id": "a216e0d9",
   "metadata": {},
   "outputs": [
    {
     "name": "stdout",
     "output_type": "stream",
     "text": [
      "\r\n",
      "Usage: samtools depth [options] in1.bam [in2.bam [...]]\r\n",
      "Options:\r\n",
      "   -a                  output all positions (including zero depth)\r\n",
      "   -a -a (or -aa)      output absolutely all positions, including unused ref. sequences\r\n",
      "   -b <bed>            list of positions or regions\r\n",
      "   -f <list>           list of input BAM filenames, one per line [null]\r\n",
      "   -l <int>            read length threshold (ignore reads shorter than <int>) [0]\r\n",
      "   -d/-m <int>         maximum coverage depth [8000]\r\n",
      "   -q <int>            base quality threshold [0]\r\n",
      "   -Q <int>            mapping quality threshold [0]\r\n",
      "   -r <chr:from-to>    region\r\n",
      "      --input-fmt-option OPT[=VAL]\r\n",
      "               Specify a single input file format option in the form\r\n",
      "               of OPTION or OPTION=VALUE\r\n",
      "      --reference FILE\r\n",
      "               Reference sequence FASTA FILE [null]\r\n",
      "\r\n",
      "The output is a simple tab-separated table with three columns: reference name,\r\n",
      "position, and coverage depth.  Note that positions with zero coverage may be\r\n",
      "omitted by default; see the -a option.\r\n",
      "\r\n"
     ]
    }
   ],
   "source": [
    "! samtools depth"
   ]
  },
  {
   "cell_type": "code",
   "execution_count": 70,
   "id": "fc4a6162",
   "metadata": {},
   "outputs": [],
   "source": [
    "! samtools depth -a -d 100000 alignment/alignment_sorted.bam > alignment/depths_per_position.csv "
   ]
  },
  {
   "cell_type": "code",
   "execution_count": 72,
   "id": "28613a75",
   "metadata": {},
   "outputs": [
    {
     "data": {
      "text/html": [
       "<div>\n",
       "<style scoped>\n",
       "    .dataframe tbody tr th:only-of-type {\n",
       "        vertical-align: middle;\n",
       "    }\n",
       "\n",
       "    .dataframe tbody tr th {\n",
       "        vertical-align: top;\n",
       "    }\n",
       "\n",
       "    .dataframe thead th {\n",
       "        text-align: right;\n",
       "    }\n",
       "</style>\n",
       "<table border=\"1\" class=\"dataframe\">\n",
       "  <thead>\n",
       "    <tr style=\"text-align: right;\">\n",
       "      <th></th>\n",
       "      <th>reference name</th>\n",
       "      <th>position</th>\n",
       "      <th>coverage depth</th>\n",
       "    </tr>\n",
       "  </thead>\n",
       "  <tbody>\n",
       "    <tr>\n",
       "      <th>0</th>\n",
       "      <td>KF848938.1</td>\n",
       "      <td>1</td>\n",
       "      <td>14421</td>\n",
       "    </tr>\n",
       "    <tr>\n",
       "      <th>1</th>\n",
       "      <td>KF848938.1</td>\n",
       "      <td>2</td>\n",
       "      <td>14447</td>\n",
       "    </tr>\n",
       "    <tr>\n",
       "      <th>2</th>\n",
       "      <td>KF848938.1</td>\n",
       "      <td>3</td>\n",
       "      <td>14580</td>\n",
       "    </tr>\n",
       "    <tr>\n",
       "      <th>3</th>\n",
       "      <td>KF848938.1</td>\n",
       "      <td>4</td>\n",
       "      <td>14621</td>\n",
       "    </tr>\n",
       "    <tr>\n",
       "      <th>4</th>\n",
       "      <td>KF848938.1</td>\n",
       "      <td>5</td>\n",
       "      <td>14641</td>\n",
       "    </tr>\n",
       "    <tr>\n",
       "      <th>...</th>\n",
       "      <td>...</td>\n",
       "      <td>...</td>\n",
       "      <td>...</td>\n",
       "    </tr>\n",
       "    <tr>\n",
       "      <th>1660</th>\n",
       "      <td>KF848938.1</td>\n",
       "      <td>1661</td>\n",
       "      <td>5501</td>\n",
       "    </tr>\n",
       "    <tr>\n",
       "      <th>1661</th>\n",
       "      <td>KF848938.1</td>\n",
       "      <td>1662</td>\n",
       "      <td>5489</td>\n",
       "    </tr>\n",
       "    <tr>\n",
       "      <th>1662</th>\n",
       "      <td>KF848938.1</td>\n",
       "      <td>1663</td>\n",
       "      <td>5431</td>\n",
       "    </tr>\n",
       "    <tr>\n",
       "      <th>1663</th>\n",
       "      <td>KF848938.1</td>\n",
       "      <td>1664</td>\n",
       "      <td>5392</td>\n",
       "    </tr>\n",
       "    <tr>\n",
       "      <th>1664</th>\n",
       "      <td>KF848938.1</td>\n",
       "      <td>1665</td>\n",
       "      <td>5189</td>\n",
       "    </tr>\n",
       "  </tbody>\n",
       "</table>\n",
       "<p>1665 rows × 3 columns</p>\n",
       "</div>"
      ],
      "text/plain": [
       "     reference name  position  coverage depth\n",
       "0        KF848938.1         1           14421\n",
       "1        KF848938.1         2           14447\n",
       "2        KF848938.1         3           14580\n",
       "3        KF848938.1         4           14621\n",
       "4        KF848938.1         5           14641\n",
       "...             ...       ...             ...\n",
       "1660     KF848938.1      1661            5501\n",
       "1661     KF848938.1      1662            5489\n",
       "1662     KF848938.1      1663            5431\n",
       "1663     KF848938.1      1664            5392\n",
       "1664     KF848938.1      1665            5189\n",
       "\n",
       "[1665 rows x 3 columns]"
      ]
     },
     "execution_count": 72,
     "metadata": {},
     "output_type": "execute_result"
    }
   ],
   "source": [
    "import pandas as pd\n",
    "\n",
    "df = pd.read_csv(\"alignment/depths_per_position.csv\", sep='\\t', \n",
    "                 names=[\"reference name\", \"position\", \"coverage depth\"])\n",
    "df"
   ]
  },
  {
   "cell_type": "code",
   "execution_count": 79,
   "id": "d6d7b825",
   "metadata": {},
   "outputs": [
    {
     "name": "stdout",
     "output_type": "stream",
     "text": [
      "Max depth = 44,522\n"
     ]
    }
   ],
   "source": [
    "max_depth = max(df[\"coverage depth\"])\n",
    "print(f\"Max depth = {max_depth:,}\")"
   ]
  },
  {
   "cell_type": "code",
   "execution_count": 80,
   "id": "AfH_tS2k87XV",
   "metadata": {
    "colab": {
     "base_uri": "https://localhost:8080/"
    },
    "id": "AfH_tS2k87XV",
    "outputId": "81852dcc-4144-401d-af96-515c0498ca76"
   },
   "outputs": [
    {
     "name": "stdout",
     "output_type": "stream",
     "text": [
      "[mpileup] 1 samples in 1 input files\r\n"
     ]
    }
   ],
   "source": [
    "! samtools mpileup -d 45000 -f reference/sequence.fasta -o alignment/alignment.mpileup alignment/alignment_sorted.bam"
   ]
  },
  {
   "cell_type": "markdown",
   "id": "d115b7fc",
   "metadata": {},
   "source": [
    "### VarScaning\n",
    "\n",
    "First, look for positions where most of the viruses differ from the reference. Maybe there is a common mutation that wouldn’t have shown up in the HI test. Use a high minimum variant frequency cut-off (N) to find only those\n",
    "mutants present in most (95% or more = 0.95) of the viral DNA molecules."
   ]
  },
  {
   "cell_type": "code",
   "execution_count": 81,
   "id": "6735743a",
   "metadata": {
    "id": "NDXNPhvVWsmh"
   },
   "outputs": [],
   "source": [
    "! mkdir variant_calling"
   ]
  },
  {
   "cell_type": "code",
   "execution_count": 82,
   "id": "pMxhAurIWVwk",
   "metadata": {
    "colab": {
     "base_uri": "https://localhost:8080/"
    },
    "id": "pMxhAurIWVwk",
    "outputId": "23cbab3b-8fd0-4abf-d4d8-d9ebcdce7b4e"
   },
   "outputs": [
    {
     "name": "stdout",
     "output_type": "stream",
     "text": [
      "Only SNPs will be reported\n",
      "Warning: No p-value threshold provided, so p-values will not be calculated\n",
      "Min coverage:\t8\n",
      "Min reads2:\t2\n",
      "Min var freq:\t0.95\n",
      "Min avg qual:\t15\n",
      "P-value thresh:\t0.01\n",
      "Reading input from alignment/alignment.mpileup\n",
      "1665 bases in pileup file\n",
      "5 variant positions (5 SNP, 0 indel)\n",
      "0 were failed by the strand-filter\n",
      "5 variant positions reported (5 SNP, 0 indel)\n"
     ]
    }
   ],
   "source": [
    "! varscan mpileup2snp alignment/alignment.mpileup --min-var-freq 0.95 --variants --output-vcf 1 > variant_calling/varscan_results_snp_095.vcf"
   ]
  },
  {
   "cell_type": "markdown",
   "id": "262303ac",
   "metadata": {},
   "source": [
    "5 variants are reported back"
   ]
  },
  {
   "cell_type": "code",
   "execution_count": 83,
   "id": "38e6963f",
   "metadata": {},
   "outputs": [
    {
     "name": "stdout",
     "output_type": "stream",
     "text": [
      "KF848938.1 72 A G\r\n",
      "KF848938.1 117 C T\r\n",
      "KF848938.1 774 T C\r\n",
      "KF848938.1 999 C T\r\n",
      "KF848938.1 1260 A C\r\n"
     ]
    }
   ],
   "source": [
    "! cat variant_calling/varscan_results_snp_095.vcf | awk 'NR>24 {print $1, $2, $4, $5}'"
   ]
  },
  {
   "cell_type": "markdown",
   "id": "7149adc2",
   "metadata": {},
   "source": [
    "All of these mutations are synonymous and do not affect the encoded protein."
   ]
  },
  {
   "cell_type": "markdown",
   "id": "6a5205d6",
   "metadata": {},
   "source": [
    "## Look for rare variants with VarScan"
   ]
  },
  {
   "cell_type": "code",
   "execution_count": 84,
   "id": "df8f1b70",
   "metadata": {},
   "outputs": [
    {
     "name": "stdout",
     "output_type": "stream",
     "text": [
      "Only SNPs will be reported\n",
      "Warning: No p-value threshold provided, so p-values will not be calculated\n",
      "Min coverage:\t8\n",
      "Min reads2:\t2\n",
      "Min var freq:\t0.001\n",
      "Min avg qual:\t15\n",
      "P-value thresh:\t0.01\n",
      "Reading input from alignment/alignment.mpileup\n",
      "1665 bases in pileup file\n",
      "23 variant positions (21 SNP, 2 indel)\n",
      "0 were failed by the strand-filter\n",
      "21 variant positions reported (21 SNP, 0 indel)\n"
     ]
    }
   ],
   "source": [
    "! varscan mpileup2snp alignment/alignment.mpileup --min-var-freq 0.001 --variants --output-vcf 1 > variant_calling/varscan_results_snp_0001.vcf"
   ]
  },
  {
   "cell_type": "code",
   "execution_count": 86,
   "id": "9c656778",
   "metadata": {},
   "outputs": [
    {
     "name": "stdout",
     "output_type": "stream",
     "text": [
      "KF848938.1 72 A G 1/1:255:16832:16794:6:16787:99.96%:0E0:35:36:4:2:10898:5889\r\n",
      "KF848938.1 117 C T 1/1:255:20768:20663:36:20625:99.82%:0E0:35:37:27:9:13462:7163\r\n",
      "KF848938.1 254 A G 0/1:20:35781:35626:35562:59:0.17%:8.5683E-3:36:36:23919:11643:37:22\r\n",
      "KF848938.1 276 A G 0/1:24:37022:36965:36892:64:0.17%:3.3004E-3:37:35:22579:14313:30:34\r\n",
      "KF848938.1 307 C T 0/1:255:37506:37386:37029:351:0.94%:6.9068E-66:36:35:22400:14629:184:167\r\n",
      "KF848938.1 340 T C 0/1:23:37973:37793:37723:64:0.17%:4.6441E-3:37:36:23413:14310:40:24\r\n",
      "KF848938.1 389 T C 0/1:40:31960:31763:31690:69:0.22%:9.0525E-5:37:36:16067:15623:44:25\r\n",
      "KF848938.1 691 A G 0/1:23:39503:39319:39245:67:0.17%:4.1867E-3:37:34:21313:17932:23:44\r\n",
      "KF848938.1 722 A G 0/1:36:38090:38036:37954:76:0.2%:2.353E-4:37:36:21003:16951:39:37\r\n",
      "KF848938.1 744 A G 0/1:23:38443:38380:38306:65:0.17%:5.0068E-3:37:33:20859:17447:35:30\r\n",
      "KF848938.1 774 T C 1/1:255:38397:38191:8:38177:99.96%:0E0:32:37:7:1:19806:18371\r\n",
      "KF848938.1 802 A G 0/1:59:44236:44106:44001:101:0.23%:1.2224E-6:37:35:20575:23426:32:69\r\n",
      "KF848938.1 859 A G 0/1:25:35895:35721:35655:63:0.18%:3.0291E-3:37:36:14499:21156:27:36\r\n",
      "KF848938.1 915 T C 0/1:30:37022:36921:36842:69:0.19%:8.2327E-4:35:34:18059:18783:37:32\r\n",
      "KF848938.1 999 C T 1/1:255:32561:32115:40:32070:99.86%:0E0:35:36:23:17:17184:14886\r\n",
      "KF848938.1 1043 A G 0/1:25:31638:31590:31529:58:0.18%:2.756E-3:35:33:17353:14176:19:39\r\n",
      "KF848938.1 1086 A G 0/1:29:25259:25258:25203:53:0.21%:1.0076E-3:36:35:12596:12607:21:32\r\n",
      "KF848938.1 1213 A G 0/1:34:25177:25093:25035:56:0.22%:3.7244E-4:37:36:8964:16071:24:32\r\n",
      "KF848938.1 1260 A C 1/1:255:23067:23033:2:23019:99.94%:0E0:32:37:0:2:9824:13195\r\n",
      "KF848938.1 1280 T C 0/1:20:23487:23462:23418:43:0.18%:9.2875E-3:37:35:11147:12271:24:19\r\n",
      "KF848938.1 1458 T C 0/1:255:27064:26929:26701:225:0.84%:3.4507E-41:37:35:6865:19836:80:145\r\n"
     ]
    }
   ],
   "source": [
    "! cat variant_calling/varscan_results_snp_0001.vcf | awk 'NR>24 {print $1, $2, $4, $5, $10}'"
   ]
  },
  {
   "cell_type": "markdown",
   "id": "b4754623",
   "metadata": {},
   "source": [
    "## Inspect and align the control sample sequencing data"
   ]
  },
  {
   "cell_type": "markdown",
   "id": "c36dcc89",
   "metadata": {},
   "source": [
    "### Control samples download"
   ]
  },
  {
   "cell_type": "code",
   "execution_count": 88,
   "id": "ef9039be",
   "metadata": {},
   "outputs": [
    {
     "name": "stdout",
     "output_type": "stream",
     "text": [
      "--2022-11-07 16:53:12--  ftp://ftp.sra.ebi.ac.uk/vol1/fastq/SRR170/008/SRR1705858/SRR1705858.fastq.gz\n",
      "           => ‘raw_data/control/SRR1705858.fastq.gz’\n",
      "Resolving ftp.sra.ebi.ac.uk (ftp.sra.ebi.ac.uk)... 193.62.193.138\n",
      "Connecting to ftp.sra.ebi.ac.uk (ftp.sra.ebi.ac.uk)|193.62.193.138|:21... connected.\n",
      "Logging in as anonymous ... Logged in!\n",
      "==> SYST ... done.    ==> PWD ... done.\n",
      "==> TYPE I ... done.  ==> CWD (1) /vol1/fastq/SRR170/008/SRR1705858 ... done.\n",
      "==> SIZE SRR1705858.fastq.gz ... 14782243\n",
      "==> PASV ... done.    ==> RETR SRR1705858.fastq.gz ... done.\n",
      "Length: 14782243 (14M) (unauthoritative)\n",
      "\n",
      "SRR1705858.fastq.gz 100%[===================>]  14,10M   846KB/s    in 18s     \n",
      "\n",
      "2022-11-07 16:53:33 (825 KB/s) - ‘raw_data/control/SRR1705858.fastq.gz’ saved [14782243]\n",
      "\n",
      "--2022-11-07 16:53:33--  ftp://ftp.sra.ebi.ac.uk/vol1/fastq/SRR170/009/SRR1705859/SRR1705859.fastq.gz\n",
      "           => ‘raw_data/control/SRR1705859.fastq.gz’\n",
      "Resolving ftp.sra.ebi.ac.uk (ftp.sra.ebi.ac.uk)... 193.62.193.138\n",
      "Connecting to ftp.sra.ebi.ac.uk (ftp.sra.ebi.ac.uk)|193.62.193.138|:21... connected.\n",
      "Logging in as anonymous ... Logged in!\n",
      "==> SYST ... done.    ==> PWD ... done.\n",
      "==> TYPE I ... done.  ==> CWD (1) /vol1/fastq/SRR170/009/SRR1705859 ... done.\n",
      "==> SIZE SRR1705859.fastq.gz ... 13581641\n",
      "==> PASV ... done.    ==> RETR SRR1705859.fastq.gz ... done.\n",
      "Length: 13581641 (13M) (unauthoritative)\n",
      "\n",
      "SRR1705859.fastq.gz 100%[===================>]  12,95M   886KB/s    in 18s     \n",
      "\n",
      "2022-11-07 16:53:52 (728 KB/s) - ‘raw_data/control/SRR1705859.fastq.gz’ saved [13581641]\n",
      "\n",
      "--2022-11-07 16:53:52--  ftp://ftp.sra.ebi.ac.uk/vol1/fastq/SRR170/000/SRR1705860/SRR1705860.fastq.gz\n",
      "           => ‘raw_data/control/SRR1705860.fastq.gz’\n",
      "Resolving ftp.sra.ebi.ac.uk (ftp.sra.ebi.ac.uk)... 193.62.193.138\n",
      "Connecting to ftp.sra.ebi.ac.uk (ftp.sra.ebi.ac.uk)|193.62.193.138|:21... connected.\n",
      "Logging in as anonymous ... Logged in!\n",
      "==> SYST ... done.    ==> PWD ... done.\n",
      "==> TYPE I ... done.  ==> CWD (1) /vol1/fastq/SRR170/000/SRR1705860 ... done.\n",
      "==> SIZE SRR1705860.fastq.gz ... 14372113\n",
      "==> PASV ... done.    ==> RETR SRR1705860.fastq.gz ... done.\n",
      "Length: 14372113 (14M) (unauthoritative)\n",
      "\n",
      "SRR1705860.fastq.gz 100%[===================>]  13,71M   856KB/s    in 19s     \n",
      "\n",
      "2022-11-07 16:54:17 (756 KB/s) - ‘raw_data/control/SRR1705860.fastq.gz’ saved [14372113]\n",
      "\n"
     ]
    }
   ],
   "source": [
    "! wget -P raw_data/control ftp://ftp.sra.ebi.ac.uk/vol1/fastq/SRR170/008/SRR1705858/SRR1705858.fastq.gz\n",
    "! wget -P raw_data/control ftp://ftp.sra.ebi.ac.uk/vol1/fastq/SRR170/009/SRR1705859/SRR1705859.fastq.gz\n",
    "! wget -P raw_data/control ftp://ftp.sra.ebi.ac.uk/vol1/fastq/SRR170/000/SRR1705860/SRR1705860.fastq.gz"
   ]
  },
  {
   "cell_type": "code",
   "execution_count": 89,
   "id": "9d798c28",
   "metadata": {},
   "outputs": [],
   "source": [
    "! gunzip raw_data/control/*.fastq.gz"
   ]
  },
  {
   "cell_type": "markdown",
   "id": "842b69cf",
   "metadata": {},
   "source": [
    "### Number of reads in control data"
   ]
  },
  {
   "cell_type": "code",
   "execution_count": 97,
   "id": "ec12f21e",
   "metadata": {
    "colab": {
     "base_uri": "https://localhost:8080/"
    },
    "id": "1c535911",
    "outputId": "35623cee-d51b-40e6-b4fb-8ee68bf5ee06"
   },
   "outputs": [
    {
     "name": "stdout",
     "output_type": "stream",
     "text": [
      "Number of reads in raw_data/control/SRR1705858.fastq: 256,586\n",
      "Number of reads in raw_data/control/SRR1705859.fastq: 233,327\n",
      "Number of reads in raw_data/control/SRR1705860.fastq: 249,964\n",
      "Number of reads in total: 739,877\n"
     ]
    }
   ],
   "source": [
    "out = ! wc -l raw_data/control/*.fastq\n",
    "\n",
    "out = [s.split() for s in out]\n",
    "\n",
    "for item in out:\n",
    "    print(f\"Number of reads in {item[1]}: {int(item[0]) // 4:,}\")"
   ]
  },
  {
   "cell_type": "code",
   "execution_count": 99,
   "id": "c6383a71",
   "metadata": {},
   "outputs": [],
   "source": [
    "! fastqc -t 4 -q -o fastqc_reports/ raw_data/control/*.fastq"
   ]
  },
  {
   "cell_type": "markdown",
   "id": "cb11ebcf",
   "metadata": {
    "id": "NCbLcY3EpLZc"
   },
   "source": [
    "### Aligning control sequences to reference"
   ]
  },
  {
   "cell_type": "code",
   "execution_count": 127,
   "id": "a0904268",
   "metadata": {},
   "outputs": [
    {
     "name": "stdout",
     "output_type": "stream",
     "text": [
      "[M::bwa_idx_load_from_disk] read 0 ALT contigs\n",
      "[M::process] read 256586 sequences (38118730 bp)...\n",
      "[M::mem_process_seqs] Processed 256586 reads in 3.653 CPU sec, 0.925 real sec\n",
      "[main] Version: 0.7.17-r1188\n",
      "[main] CMD: bwa mem -t 4 -o alignment/control/control_alignment_1.sam reference/sequence.fasta raw_data/control/SRR1705858.fastq\n",
      "[main] Real time: 1.176 sec; CPU: 3.856 sec\n",
      "256746 alignment/control/control_alignment_1.sam\n",
      "256744 + 0 in total (QC-passed reads + QC-failed reads)\n",
      "0 + 0 secondary\n",
      "158 + 0 supplementary\n",
      "0 + 0 duplicates\n",
      "256658 + 0 mapped (99.97% : N/A)\n",
      "0 + 0 paired in sequencing\n",
      "0 + 0 read1\n",
      "0 + 0 read2\n",
      "0 + 0 properly paired (N/A : N/A)\n",
      "0 + 0 with itself and mate mapped\n",
      "0 + 0 singletons (N/A : N/A)\n",
      "0 + 0 with mate mapped to a different chr\n",
      "0 + 0 with mate mapped to a different chr (mapQ>=5)\n",
      "[mpileup] 1 samples in 1 input files\n",
      "-----------------------------\n",
      "[M::bwa_idx_load_from_disk] read 0 ALT contigs\n",
      "[M::process] read 233327 sequences (34636567 bp)...\n",
      "[M::mem_process_seqs] Processed 233327 reads in 3.315 CPU sec, 0.839 real sec\n",
      "[main] Version: 0.7.17-r1188\n",
      "[main] CMD: bwa mem -t 4 -o alignment/control/control_alignment_2.sam reference/sequence.fasta raw_data/control/SRR1705859.fastq\n",
      "[main] Real time: 1.069 sec; CPU: 3.496 sec\n",
      "233453 alignment/control/control_alignment_2.sam\n",
      "233451 + 0 in total (QC-passed reads + QC-failed reads)\n",
      "0 + 0 secondary\n",
      "124 + 0 supplementary\n",
      "0 + 0 duplicates\n",
      "233375 + 0 mapped (99.97% : N/A)\n",
      "0 + 0 paired in sequencing\n",
      "0 + 0 read1\n",
      "0 + 0 read2\n",
      "0 + 0 properly paired (N/A : N/A)\n",
      "0 + 0 with itself and mate mapped\n",
      "0 + 0 singletons (N/A : N/A)\n",
      "0 + 0 with mate mapped to a different chr\n",
      "0 + 0 with mate mapped to a different chr (mapQ>=5)\n",
      "[mpileup] 1 samples in 1 input files\n",
      "-----------------------------\n",
      "[M::bwa_idx_load_from_disk] read 0 ALT contigs\n",
      "[M::process] read 249964 sequences (37170486 bp)...\n",
      "[M::mem_process_seqs] Processed 249964 reads in 3.705 CPU sec, 0.938 real sec\n",
      "[main] Version: 0.7.17-r1188\n",
      "[main] CMD: bwa mem -t 4 -o alignment/control/control_alignment_3.sam reference/sequence.fasta raw_data/control/SRR1705860.fastq\n",
      "[main] Real time: 1.182 sec; CPU: 3.909 sec\n",
      "250186 alignment/control/control_alignment_3.sam\n",
      "250184 + 0 in total (QC-passed reads + QC-failed reads)\n",
      "0 + 0 secondary\n",
      "220 + 0 supplementary\n",
      "0 + 0 duplicates\n",
      "250108 + 0 mapped (99.97% : N/A)\n",
      "0 + 0 paired in sequencing\n",
      "0 + 0 read1\n",
      "0 + 0 read2\n",
      "0 + 0 properly paired (N/A : N/A)\n",
      "0 + 0 with itself and mate mapped\n",
      "0 + 0 singletons (N/A : N/A)\n",
      "0 + 0 with mate mapped to a different chr\n",
      "0 + 0 with mate mapped to a different chr (mapQ>=5)\n",
      "[mpileup] 1 samples in 1 input files\n",
      "-----------------------------\n"
     ]
    }
   ],
   "source": [
    "align_path = \"alignment/control/\"\n",
    "aling_name = \"control_alignment_\"\n",
    "data_path = \"raw_data/control/\"\n",
    "\n",
    "! mkdir {align_path}\n",
    "\n",
    "for i, name in enumerate([\"SRR1705858\", \"SRR1705859\", \"SRR1705860\"]):\n",
    "    file_name = align_path + aling_name + str(i + 1)\n",
    "    ! bwa mem -t 4 -o {file_name}.sam reference/sequence.fasta {data_path}{name}.fastq\n",
    "    ! wc -l {file_name}.sam\n",
    "    ! samtools view -S -b -o {file_name}.bam {file_name}.sam\n",
    "    ! samtools flagstat {file_name}.bam\n",
    "    ! samtools sort -o {file_name}_sorted.bam {file_name}.bam\n",
    "    ! samtools index {file_name}_sorted.bam\n",
    "    ! samtools mpileup -d 45000 -f reference/sequence.fasta -o {file_name}.mpileup {file_name}_sorted.bam\n",
    "    print(\"-----------------------------\")"
   ]
  },
  {
   "cell_type": "markdown",
   "id": "b8739f70",
   "metadata": {
    "id": "ILXyy3egUK53"
   },
   "source": [
    "So, 99,97% is mapped"
   ]
  },
  {
   "cell_type": "markdown",
   "id": "5cde41a4",
   "metadata": {},
   "source": [
    "## Use VarScan to look for rare variants in the reference files."
   ]
  },
  {
   "cell_type": "markdown",
   "id": "cf2ec94d",
   "metadata": {},
   "source": [
    "Run VarScan with a minimum variant frequency of 0.001 (0.1%) on each of the reference alignments. Be sure to tell VarScan to only output variants and to format the output in the vcf format.\n",
    "\n",
    "Parse each vcf file so that you get three lists containing the reference base, position, alternative base, and frequency. Copy those lists into a spreadsheet of your choice (e.g. Excel, Google Sheets, R, etc.) and, possibly, into your lab notebook."
   ]
  },
  {
   "cell_type": "code",
   "execution_count": 128,
   "id": "144903b2",
   "metadata": {},
   "outputs": [],
   "source": [
    "! mkdir variant_calling/control/"
   ]
  },
  {
   "cell_type": "code",
   "execution_count": 129,
   "id": "fa56da89",
   "metadata": {},
   "outputs": [
    {
     "name": "stdout",
     "output_type": "stream",
     "text": [
      "Only SNPs will be reported\n",
      "Warning: No p-value threshold provided, so p-values will not be calculated\n",
      "Min coverage:\t8\n",
      "Min reads2:\t2\n",
      "Min var freq:\t0.001\n",
      "Min avg qual:\t15\n",
      "P-value thresh:\t0.01\n",
      "Reading input from alignment/control/control_alignment_1.mpileup\n",
      "1665 bases in pileup file\n",
      "58 variant positions (58 SNP, 0 indel)\n",
      "1 were failed by the strand-filter\n",
      "57 variant positions reported (57 SNP, 0 indel)\n",
      "Only SNPs will be reported\n",
      "Warning: No p-value threshold provided, so p-values will not be calculated\n",
      "Min coverage:\t8\n",
      "Min reads2:\t2\n",
      "Min var freq:\t0.001\n",
      "Min avg qual:\t15\n",
      "P-value thresh:\t0.01\n",
      "Reading input from alignment/control/control_alignment_2.mpileup\n",
      "1665 bases in pileup file\n",
      "54 variant positions (54 SNP, 0 indel)\n",
      "2 were failed by the strand-filter\n",
      "52 variant positions reported (52 SNP, 0 indel)\n",
      "Only SNPs will be reported\n",
      "Warning: No p-value threshold provided, so p-values will not be calculated\n",
      "Min coverage:\t8\n",
      "Min reads2:\t2\n",
      "Min var freq:\t0.001\n",
      "Min avg qual:\t15\n",
      "P-value thresh:\t0.01\n",
      "Reading input from alignment/control/control_alignment_3.mpileup\n",
      "1665 bases in pileup file\n",
      "61 variant positions (61 SNP, 0 indel)\n",
      "0 were failed by the strand-filter\n",
      "61 variant positions reported (61 SNP, 0 indel)\n"
     ]
    }
   ],
   "source": [
    "! varscan mpileup2snp alignment/control/control_alignment_1.mpileup --min-var-freq 0.001 --variants --output-vcf 1 > variant_calling/control/res_1_0001.vcf\n",
    "! varscan mpileup2snp alignment/control/control_alignment_2.mpileup --min-var-freq 0.001 --variants --output-vcf 1 > variant_calling/control/res_2_0001.vcf\n",
    "! varscan mpileup2snp alignment/control/control_alignment_3.mpileup --min-var-freq 0.001 --variants --output-vcf 1 > variant_calling/control/res_3_0001.vcf"
   ]
  },
  {
   "cell_type": "code",
   "execution_count": 1,
   "id": "cbf2a9e0",
   "metadata": {},
   "outputs": [],
   "source": [
    "import pandas as pd\n",
    "\n",
    "df = {}\n",
    "\n",
    "out = ! cat variant_calling/control/res_1_0001.vcf | awk 'NR>24 {print $2, $4, $5, $10}'\n",
    "out = [line.split() for line in out]\n",
    "df[1] = pd.DataFrame(out)\n",
    "\n",
    "out = ! cat variant_calling/control/res_2_0001.vcf | awk 'NR>24 {print $2, $4, $5, $10}'\n",
    "out = [line.split() for line in out]\n",
    "df[2] = pd.DataFrame(out)\n",
    "\n",
    "out = ! cat variant_calling/control/res_3_0001.vcf | awk 'NR>24 {print $2, $4, $5, $10}'\n",
    "out = [line.split() for line in out]\n",
    "df[3] = pd.DataFrame(out)\n",
    "\n",
    "for i in range(3):\n",
    "    probs = []\n",
    "    pvalues = []\n",
    "    df[i + 1].columns = [\"Pos\", \"Ref\", \"Alt\", \"_\"]\n",
    "    for j in range(len(df[i + 1])):\n",
    "        line = df[i + 1].iloc[j, 3]\n",
    "        line = line.split(':')\n",
    "        probs.append(line[6][:-1])\n",
    "        pvalues.append(line[7])\n",
    "    df[i + 1].drop(columns=\"_\", inplace=True)\n",
    "    df[i + 1][\"Prob\"] = probs\n",
    "    df[i + 1][\"Pval\"] = pvalues\n",
    "    df[i + 1] = df[i + 1].astype({\"Pos\": \"int64\", \"Ref\": \"string\", \"Alt\": \"string\", \"Prob\": \"float64\", \"Pval\": \"float64\"})"
   ]
  },
  {
   "cell_type": "code",
   "execution_count": 2,
   "id": "379651a3",
   "metadata": {},
   "outputs": [
    {
     "data": {
      "text/html": [
       "<div>\n",
       "<style scoped>\n",
       "    .dataframe tbody tr th:only-of-type {\n",
       "        vertical-align: middle;\n",
       "    }\n",
       "\n",
       "    .dataframe tbody tr th {\n",
       "        vertical-align: top;\n",
       "    }\n",
       "\n",
       "    .dataframe thead th {\n",
       "        text-align: right;\n",
       "    }\n",
       "</style>\n",
       "<table border=\"1\" class=\"dataframe\">\n",
       "  <thead>\n",
       "    <tr style=\"text-align: right;\">\n",
       "      <th></th>\n",
       "      <th>Pos</th>\n",
       "      <th>Ref</th>\n",
       "      <th>Alt</th>\n",
       "      <th>Prob</th>\n",
       "      <th>Pval</th>\n",
       "    </tr>\n",
       "  </thead>\n",
       "  <tbody>\n",
       "    <tr>\n",
       "      <th>0</th>\n",
       "      <td>38</td>\n",
       "      <td>T</td>\n",
       "      <td>C</td>\n",
       "      <td>0.66</td>\n",
       "      <td>1.968000e-04</td>\n",
       "    </tr>\n",
       "    <tr>\n",
       "      <th>1</th>\n",
       "      <td>54</td>\n",
       "      <td>T</td>\n",
       "      <td>C</td>\n",
       "      <td>0.30</td>\n",
       "      <td>7.269700e-03</td>\n",
       "    </tr>\n",
       "    <tr>\n",
       "      <th>2</th>\n",
       "      <td>72</td>\n",
       "      <td>A</td>\n",
       "      <td>G</td>\n",
       "      <td>0.30</td>\n",
       "      <td>9.298100e-04</td>\n",
       "    </tr>\n",
       "    <tr>\n",
       "      <th>3</th>\n",
       "      <td>95</td>\n",
       "      <td>A</td>\n",
       "      <td>G</td>\n",
       "      <td>0.24</td>\n",
       "      <td>6.886700e-03</td>\n",
       "    </tr>\n",
       "    <tr>\n",
       "      <th>4</th>\n",
       "      <td>117</td>\n",
       "      <td>C</td>\n",
       "      <td>T</td>\n",
       "      <td>0.30</td>\n",
       "      <td>1.509300e-04</td>\n",
       "    </tr>\n",
       "    <tr>\n",
       "      <th>5</th>\n",
       "      <td>165</td>\n",
       "      <td>T</td>\n",
       "      <td>C</td>\n",
       "      <td>0.24</td>\n",
       "      <td>3.742200e-04</td>\n",
       "    </tr>\n",
       "    <tr>\n",
       "      <th>6</th>\n",
       "      <td>183</td>\n",
       "      <td>A</td>\n",
       "      <td>G</td>\n",
       "      <td>0.30</td>\n",
       "      <td>4.791800e-06</td>\n",
       "    </tr>\n",
       "    <tr>\n",
       "      <th>7</th>\n",
       "      <td>216</td>\n",
       "      <td>A</td>\n",
       "      <td>G</td>\n",
       "      <td>0.22</td>\n",
       "      <td>5.349600e-04</td>\n",
       "    </tr>\n",
       "    <tr>\n",
       "      <th>8</th>\n",
       "      <td>218</td>\n",
       "      <td>A</td>\n",
       "      <td>G</td>\n",
       "      <td>0.28</td>\n",
       "      <td>4.171300e-06</td>\n",
       "    </tr>\n",
       "    <tr>\n",
       "      <th>9</th>\n",
       "      <td>222</td>\n",
       "      <td>T</td>\n",
       "      <td>C</td>\n",
       "      <td>0.26</td>\n",
       "      <td>2.007800e-05</td>\n",
       "    </tr>\n",
       "    <tr>\n",
       "      <th>10</th>\n",
       "      <td>235</td>\n",
       "      <td>T</td>\n",
       "      <td>C</td>\n",
       "      <td>0.25</td>\n",
       "      <td>4.297900e-05</td>\n",
       "    </tr>\n",
       "    <tr>\n",
       "      <th>11</th>\n",
       "      <td>254</td>\n",
       "      <td>A</td>\n",
       "      <td>G</td>\n",
       "      <td>0.25</td>\n",
       "      <td>4.298500e-05</td>\n",
       "    </tr>\n",
       "    <tr>\n",
       "      <th>12</th>\n",
       "      <td>276</td>\n",
       "      <td>A</td>\n",
       "      <td>G</td>\n",
       "      <td>0.22</td>\n",
       "      <td>3.724600e-04</td>\n",
       "    </tr>\n",
       "    <tr>\n",
       "      <th>13</th>\n",
       "      <td>297</td>\n",
       "      <td>T</td>\n",
       "      <td>C</td>\n",
       "      <td>0.20</td>\n",
       "      <td>1.786000e-03</td>\n",
       "    </tr>\n",
       "    <tr>\n",
       "      <th>14</th>\n",
       "      <td>328</td>\n",
       "      <td>T</td>\n",
       "      <td>C</td>\n",
       "      <td>0.20</td>\n",
       "      <td>1.785800e-03</td>\n",
       "    </tr>\n",
       "    <tr>\n",
       "      <th>15</th>\n",
       "      <td>340</td>\n",
       "      <td>T</td>\n",
       "      <td>C</td>\n",
       "      <td>0.23</td>\n",
       "      <td>9.276500e-05</td>\n",
       "    </tr>\n",
       "    <tr>\n",
       "      <th>16</th>\n",
       "      <td>356</td>\n",
       "      <td>A</td>\n",
       "      <td>G</td>\n",
       "      <td>0.22</td>\n",
       "      <td>3.725600e-04</td>\n",
       "    </tr>\n",
       "    <tr>\n",
       "      <th>17</th>\n",
       "      <td>370</td>\n",
       "      <td>A</td>\n",
       "      <td>G</td>\n",
       "      <td>0.21</td>\n",
       "      <td>2.018700e-03</td>\n",
       "    </tr>\n",
       "    <tr>\n",
       "      <th>18</th>\n",
       "      <td>389</td>\n",
       "      <td>T</td>\n",
       "      <td>C</td>\n",
       "      <td>0.23</td>\n",
       "      <td>2.666000e-04</td>\n",
       "    </tr>\n",
       "    <tr>\n",
       "      <th>19</th>\n",
       "      <td>409</td>\n",
       "      <td>T</td>\n",
       "      <td>C</td>\n",
       "      <td>0.22</td>\n",
       "      <td>3.165900e-04</td>\n",
       "    </tr>\n",
       "    <tr>\n",
       "      <th>20</th>\n",
       "      <td>414</td>\n",
       "      <td>T</td>\n",
       "      <td>C</td>\n",
       "      <td>0.28</td>\n",
       "      <td>1.807100e-06</td>\n",
       "    </tr>\n",
       "    <tr>\n",
       "      <th>21</th>\n",
       "      <td>421</td>\n",
       "      <td>A</td>\n",
       "      <td>G</td>\n",
       "      <td>0.18</td>\n",
       "      <td>5.807000e-03</td>\n",
       "    </tr>\n",
       "    <tr>\n",
       "      <th>22</th>\n",
       "      <td>426</td>\n",
       "      <td>A</td>\n",
       "      <td>G</td>\n",
       "      <td>0.19</td>\n",
       "      <td>5.263700e-03</td>\n",
       "    </tr>\n",
       "    <tr>\n",
       "      <th>23</th>\n",
       "      <td>463</td>\n",
       "      <td>A</td>\n",
       "      <td>G</td>\n",
       "      <td>0.19</td>\n",
       "      <td>3.136200e-03</td>\n",
       "    </tr>\n",
       "    <tr>\n",
       "      <th>24</th>\n",
       "      <td>516</td>\n",
       "      <td>A</td>\n",
       "      <td>G</td>\n",
       "      <td>0.20</td>\n",
       "      <td>2.298200e-03</td>\n",
       "    </tr>\n",
       "    <tr>\n",
       "      <th>25</th>\n",
       "      <td>566</td>\n",
       "      <td>A</td>\n",
       "      <td>G</td>\n",
       "      <td>0.22</td>\n",
       "      <td>7.715300e-05</td>\n",
       "    </tr>\n",
       "    <tr>\n",
       "      <th>26</th>\n",
       "      <td>595</td>\n",
       "      <td>G</td>\n",
       "      <td>T</td>\n",
       "      <td>0.34</td>\n",
       "      <td>2.863400e-10</td>\n",
       "    </tr>\n",
       "    <tr>\n",
       "      <th>27</th>\n",
       "      <td>597</td>\n",
       "      <td>A</td>\n",
       "      <td>G</td>\n",
       "      <td>0.17</td>\n",
       "      <td>9.118600e-03</td>\n",
       "    </tr>\n",
       "    <tr>\n",
       "      <th>28</th>\n",
       "      <td>660</td>\n",
       "      <td>A</td>\n",
       "      <td>G</td>\n",
       "      <td>0.20</td>\n",
       "      <td>6.254900e-04</td>\n",
       "    </tr>\n",
       "    <tr>\n",
       "      <th>29</th>\n",
       "      <td>670</td>\n",
       "      <td>A</td>\n",
       "      <td>G</td>\n",
       "      <td>0.29</td>\n",
       "      <td>1.413000e-08</td>\n",
       "    </tr>\n",
       "    <tr>\n",
       "      <th>30</th>\n",
       "      <td>691</td>\n",
       "      <td>A</td>\n",
       "      <td>G</td>\n",
       "      <td>0.23</td>\n",
       "      <td>2.295600e-05</td>\n",
       "    </tr>\n",
       "    <tr>\n",
       "      <th>31</th>\n",
       "      <td>722</td>\n",
       "      <td>A</td>\n",
       "      <td>G</td>\n",
       "      <td>0.23</td>\n",
       "      <td>3.873900e-05</td>\n",
       "    </tr>\n",
       "    <tr>\n",
       "      <th>32</th>\n",
       "      <td>744</td>\n",
       "      <td>A</td>\n",
       "      <td>G</td>\n",
       "      <td>0.21</td>\n",
       "      <td>2.426500e-04</td>\n",
       "    </tr>\n",
       "    <tr>\n",
       "      <th>33</th>\n",
       "      <td>774</td>\n",
       "      <td>T</td>\n",
       "      <td>C</td>\n",
       "      <td>0.30</td>\n",
       "      <td>1.583900e-09</td>\n",
       "    </tr>\n",
       "    <tr>\n",
       "      <th>34</th>\n",
       "      <td>859</td>\n",
       "      <td>A</td>\n",
       "      <td>G</td>\n",
       "      <td>0.27</td>\n",
       "      <td>9.071900e-07</td>\n",
       "    </tr>\n",
       "    <tr>\n",
       "      <th>35</th>\n",
       "      <td>915</td>\n",
       "      <td>T</td>\n",
       "      <td>C</td>\n",
       "      <td>0.26</td>\n",
       "      <td>2.899500e-06</td>\n",
       "    </tr>\n",
       "    <tr>\n",
       "      <th>36</th>\n",
       "      <td>987</td>\n",
       "      <td>A</td>\n",
       "      <td>G</td>\n",
       "      <td>0.22</td>\n",
       "      <td>4.463900e-04</td>\n",
       "    </tr>\n",
       "    <tr>\n",
       "      <th>37</th>\n",
       "      <td>1008</td>\n",
       "      <td>T</td>\n",
       "      <td>G</td>\n",
       "      <td>0.27</td>\n",
       "      <td>3.109000e-06</td>\n",
       "    </tr>\n",
       "    <tr>\n",
       "      <th>38</th>\n",
       "      <td>1031</td>\n",
       "      <td>A</td>\n",
       "      <td>G</td>\n",
       "      <td>0.28</td>\n",
       "      <td>1.234700e-06</td>\n",
       "    </tr>\n",
       "    <tr>\n",
       "      <th>39</th>\n",
       "      <td>1043</td>\n",
       "      <td>A</td>\n",
       "      <td>G</td>\n",
       "      <td>0.24</td>\n",
       "      <td>1.303000e-04</td>\n",
       "    </tr>\n",
       "    <tr>\n",
       "      <th>40</th>\n",
       "      <td>1056</td>\n",
       "      <td>T</td>\n",
       "      <td>C</td>\n",
       "      <td>0.20</td>\n",
       "      <td>3.553200e-03</td>\n",
       "    </tr>\n",
       "    <tr>\n",
       "      <th>41</th>\n",
       "      <td>1086</td>\n",
       "      <td>A</td>\n",
       "      <td>G</td>\n",
       "      <td>0.33</td>\n",
       "      <td>6.194400e-07</td>\n",
       "    </tr>\n",
       "    <tr>\n",
       "      <th>42</th>\n",
       "      <td>1089</td>\n",
       "      <td>A</td>\n",
       "      <td>G</td>\n",
       "      <td>0.22</td>\n",
       "      <td>1.566100e-03</td>\n",
       "    </tr>\n",
       "    <tr>\n",
       "      <th>43</th>\n",
       "      <td>1213</td>\n",
       "      <td>A</td>\n",
       "      <td>G</td>\n",
       "      <td>0.24</td>\n",
       "      <td>4.527400e-04</td>\n",
       "    </tr>\n",
       "    <tr>\n",
       "      <th>44</th>\n",
       "      <td>1260</td>\n",
       "      <td>A</td>\n",
       "      <td>C</td>\n",
       "      <td>0.30</td>\n",
       "      <td>3.549700e-06</td>\n",
       "    </tr>\n",
       "    <tr>\n",
       "      <th>45</th>\n",
       "      <td>1264</td>\n",
       "      <td>T</td>\n",
       "      <td>C</td>\n",
       "      <td>0.26</td>\n",
       "      <td>6.454300e-05</td>\n",
       "    </tr>\n",
       "    <tr>\n",
       "      <th>46</th>\n",
       "      <td>1280</td>\n",
       "      <td>T</td>\n",
       "      <td>C</td>\n",
       "      <td>0.25</td>\n",
       "      <td>4.265800e-04</td>\n",
       "    </tr>\n",
       "    <tr>\n",
       "      <th>47</th>\n",
       "      <td>1281</td>\n",
       "      <td>T</td>\n",
       "      <td>C</td>\n",
       "      <td>0.22</td>\n",
       "      <td>2.725100e-03</td>\n",
       "    </tr>\n",
       "    <tr>\n",
       "      <th>48</th>\n",
       "      <td>1286</td>\n",
       "      <td>T</td>\n",
       "      <td>C</td>\n",
       "      <td>0.20</td>\n",
       "      <td>6.297500e-03</td>\n",
       "    </tr>\n",
       "    <tr>\n",
       "      <th>49</th>\n",
       "      <td>1339</td>\n",
       "      <td>T</td>\n",
       "      <td>C</td>\n",
       "      <td>0.41</td>\n",
       "      <td>2.900000e-11</td>\n",
       "    </tr>\n",
       "    <tr>\n",
       "      <th>50</th>\n",
       "      <td>1358</td>\n",
       "      <td>A</td>\n",
       "      <td>G</td>\n",
       "      <td>0.26</td>\n",
       "      <td>2.348600e-05</td>\n",
       "    </tr>\n",
       "    <tr>\n",
       "      <th>51</th>\n",
       "      <td>1398</td>\n",
       "      <td>T</td>\n",
       "      <td>C</td>\n",
       "      <td>0.20</td>\n",
       "      <td>5.933200e-03</td>\n",
       "    </tr>\n",
       "    <tr>\n",
       "      <th>52</th>\n",
       "      <td>1421</td>\n",
       "      <td>A</td>\n",
       "      <td>G</td>\n",
       "      <td>0.31</td>\n",
       "      <td>3.548500e-06</td>\n",
       "    </tr>\n",
       "    <tr>\n",
       "      <th>53</th>\n",
       "      <td>1460</td>\n",
       "      <td>A</td>\n",
       "      <td>G</td>\n",
       "      <td>0.34</td>\n",
       "      <td>1.832900e-06</td>\n",
       "    </tr>\n",
       "    <tr>\n",
       "      <th>54</th>\n",
       "      <td>1482</td>\n",
       "      <td>A</td>\n",
       "      <td>G</td>\n",
       "      <td>0.24</td>\n",
       "      <td>5.719500e-03</td>\n",
       "    </tr>\n",
       "    <tr>\n",
       "      <th>55</th>\n",
       "      <td>1580</td>\n",
       "      <td>T</td>\n",
       "      <td>C</td>\n",
       "      <td>0.25</td>\n",
       "      <td>6.726000e-03</td>\n",
       "    </tr>\n",
       "    <tr>\n",
       "      <th>56</th>\n",
       "      <td>1591</td>\n",
       "      <td>T</td>\n",
       "      <td>C</td>\n",
       "      <td>0.29</td>\n",
       "      <td>1.949700e-03</td>\n",
       "    </tr>\n",
       "  </tbody>\n",
       "</table>\n",
       "</div>"
      ],
      "text/plain": [
       "     Pos Ref Alt  Prob          Pval\n",
       "0     38   T   C  0.66  1.968000e-04\n",
       "1     54   T   C  0.30  7.269700e-03\n",
       "2     72   A   G  0.30  9.298100e-04\n",
       "3     95   A   G  0.24  6.886700e-03\n",
       "4    117   C   T  0.30  1.509300e-04\n",
       "5    165   T   C  0.24  3.742200e-04\n",
       "6    183   A   G  0.30  4.791800e-06\n",
       "7    216   A   G  0.22  5.349600e-04\n",
       "8    218   A   G  0.28  4.171300e-06\n",
       "9    222   T   C  0.26  2.007800e-05\n",
       "10   235   T   C  0.25  4.297900e-05\n",
       "11   254   A   G  0.25  4.298500e-05\n",
       "12   276   A   G  0.22  3.724600e-04\n",
       "13   297   T   C  0.20  1.786000e-03\n",
       "14   328   T   C  0.20  1.785800e-03\n",
       "15   340   T   C  0.23  9.276500e-05\n",
       "16   356   A   G  0.22  3.725600e-04\n",
       "17   370   A   G  0.21  2.018700e-03\n",
       "18   389   T   C  0.23  2.666000e-04\n",
       "19   409   T   C  0.22  3.165900e-04\n",
       "20   414   T   C  0.28  1.807100e-06\n",
       "21   421   A   G  0.18  5.807000e-03\n",
       "22   426   A   G  0.19  5.263700e-03\n",
       "23   463   A   G  0.19  3.136200e-03\n",
       "24   516   A   G  0.20  2.298200e-03\n",
       "25   566   A   G  0.22  7.715300e-05\n",
       "26   595   G   T  0.34  2.863400e-10\n",
       "27   597   A   G  0.17  9.118600e-03\n",
       "28   660   A   G  0.20  6.254900e-04\n",
       "29   670   A   G  0.29  1.413000e-08\n",
       "30   691   A   G  0.23  2.295600e-05\n",
       "31   722   A   G  0.23  3.873900e-05\n",
       "32   744   A   G  0.21  2.426500e-04\n",
       "33   774   T   C  0.30  1.583900e-09\n",
       "34   859   A   G  0.27  9.071900e-07\n",
       "35   915   T   C  0.26  2.899500e-06\n",
       "36   987   A   G  0.22  4.463900e-04\n",
       "37  1008   T   G  0.27  3.109000e-06\n",
       "38  1031   A   G  0.28  1.234700e-06\n",
       "39  1043   A   G  0.24  1.303000e-04\n",
       "40  1056   T   C  0.20  3.553200e-03\n",
       "41  1086   A   G  0.33  6.194400e-07\n",
       "42  1089   A   G  0.22  1.566100e-03\n",
       "43  1213   A   G  0.24  4.527400e-04\n",
       "44  1260   A   C  0.30  3.549700e-06\n",
       "45  1264   T   C  0.26  6.454300e-05\n",
       "46  1280   T   C  0.25  4.265800e-04\n",
       "47  1281   T   C  0.22  2.725100e-03\n",
       "48  1286   T   C  0.20  6.297500e-03\n",
       "49  1339   T   C  0.41  2.900000e-11\n",
       "50  1358   A   G  0.26  2.348600e-05\n",
       "51  1398   T   C  0.20  5.933200e-03\n",
       "52  1421   A   G  0.31  3.548500e-06\n",
       "53  1460   A   G  0.34  1.832900e-06\n",
       "54  1482   A   G  0.24  5.719500e-03\n",
       "55  1580   T   C  0.25  6.726000e-03\n",
       "56  1591   T   C  0.29  1.949700e-03"
      ]
     },
     "execution_count": 2,
     "metadata": {},
     "output_type": "execute_result"
    }
   ],
   "source": [
    "df[1]"
   ]
  },
  {
   "cell_type": "markdown",
   "id": "9fb1fdd3",
   "metadata": {},
   "source": [
    "## Distinguishing low-frequency mutations from sequencing errors"
   ]
  },
  {
   "cell_type": "code",
   "execution_count": 21,
   "id": "8a187f99",
   "metadata": {},
   "outputs": [
    {
     "data": {
      "image/png": "[encoded data removed]",
      "text/plain": [
       "<Figure size 640x480 with 1 Axes>"
      ]
     },
     "metadata": {},
     "output_type": "display_data"
    },
    {
     "data": {
      "image/png": "[encoded data removed]",
      "text/plain": [
       "<Figure size 640x480 with 1 Axes>"
      ]
     },
     "metadata": {},
     "output_type": "display_data"
    },
    {
     "data": {
      "image/png": "[encoded data removed]",
      "text/plain": [
       "<Figure size 640x480 with 1 Axes>"
      ]
     },
     "metadata": {},
     "output_type": "display_data"
    }
   ],
   "source": [
    "import matplotlib.pyplot as plt\n",
    "import numpy as np\n",
    "\n",
    "plt.hist(df[1][\"Prob\"], bins=np.arange(0.1, 1.0, 0.01))\n",
    "plt.show()\n",
    "plt.hist(df[2][\"Prob\"], bins=np.arange(0.1, 1.0, 0.01))\n",
    "plt.show()\n",
    "plt.hist(df[3][\"Prob\"], bins=np.arange(0.1, 1.0, 0.01))\n",
    "plt.show()"
   ]
  },
  {
   "cell_type": "code",
   "execution_count": 20,
   "id": "c400affc",
   "metadata": {},
   "outputs": [
    {
     "data": {
      "text/plain": [
       "([0.25649122807017544, 0.2369230769230769, 0.250327868852459],\n",
       " [0.07172594738880801, 0.05237640770866741, 0.07803775182808968],\n",
       " [0.4716690702365995, 0.3940523000490791, 0.48444112433672804])"
      ]
     },
     "execution_count": 20,
     "metadata": {},
     "output_type": "execute_result"
    }
   ],
   "source": [
    "means, stds, bounds = [], [], []\n",
    "for i in range(3):\n",
    "    X = df[i + 1][\"Prob\"]\n",
    "    means.append(X.mean())\n",
    "    stds.append(X.std())\n",
    "    bounds.append(means[i] + 3 * stds[i])\n",
    "\n",
    "means, stds, bounds"
   ]
  },
  {
   "cell_type": "code",
   "execution_count": 23,
   "id": "143a370c",
   "metadata": {},
   "outputs": [
    {
     "data": {
      "text/plain": [
       "0.48444112433672804"
      ]
     },
     "execution_count": 23,
     "metadata": {},
     "output_type": "execute_result"
    }
   ],
   "source": [
    "bound = max(bounds)\n",
    "bound"
   ]
  },
  {
   "cell_type": "code",
   "execution_count": 28,
   "id": "0c10f652",
   "metadata": {},
   "outputs": [
    {
     "data": {
      "text/html": [
       "<div>\n",
       "<style scoped>\n",
       "    .dataframe tbody tr th:only-of-type {\n",
       "        vertical-align: middle;\n",
       "    }\n",
       "\n",
       "    .dataframe tbody tr th {\n",
       "        vertical-align: top;\n",
       "    }\n",
       "\n",
       "    .dataframe thead th {\n",
       "        text-align: right;\n",
       "    }\n",
       "</style>\n",
       "<table border=\"1\" class=\"dataframe\">\n",
       "  <thead>\n",
       "    <tr style=\"text-align: right;\">\n",
       "      <th></th>\n",
       "      <th>Pos</th>\n",
       "      <th>Ref</th>\n",
       "      <th>Alt</th>\n",
       "      <th>Prob</th>\n",
       "      <th>Pval</th>\n",
       "    </tr>\n",
       "  </thead>\n",
       "  <tbody>\n",
       "    <tr>\n",
       "      <th>0</th>\n",
       "      <td>38</td>\n",
       "      <td>T</td>\n",
       "      <td>C</td>\n",
       "      <td>0.66</td>\n",
       "      <td>0.000197</td>\n",
       "    </tr>\n",
       "    <tr>\n",
       "      <th>0</th>\n",
       "      <td>38</td>\n",
       "      <td>T</td>\n",
       "      <td>C</td>\n",
       "      <td>0.70</td>\n",
       "      <td>0.000197</td>\n",
       "    </tr>\n",
       "    <tr>\n",
       "      <th>1</th>\n",
       "      <td>44</td>\n",
       "      <td>T</td>\n",
       "      <td>C</td>\n",
       "      <td>0.50</td>\n",
       "      <td>0.000421</td>\n",
       "    </tr>\n",
       "    <tr>\n",
       "      <th>0</th>\n",
       "      <td>44</td>\n",
       "      <td>T</td>\n",
       "      <td>C</td>\n",
       "      <td>0.47</td>\n",
       "      <td>0.000734</td>\n",
       "    </tr>\n",
       "    <tr>\n",
       "      <th>1</th>\n",
       "      <td>54</td>\n",
       "      <td>T</td>\n",
       "      <td>C</td>\n",
       "      <td>0.30</td>\n",
       "      <td>0.007270</td>\n",
       "    </tr>\n",
       "    <tr>\n",
       "      <th>2</th>\n",
       "      <td>72</td>\n",
       "      <td>A</td>\n",
       "      <td>G</td>\n",
       "      <td>0.30</td>\n",
       "      <td>0.000930</td>\n",
       "    </tr>\n",
       "    <tr>\n",
       "      <th>3</th>\n",
       "      <td>95</td>\n",
       "      <td>A</td>\n",
       "      <td>G</td>\n",
       "      <td>0.24</td>\n",
       "      <td>0.006887</td>\n",
       "    </tr>\n",
       "    <tr>\n",
       "      <th>2</th>\n",
       "      <td>95</td>\n",
       "      <td>A</td>\n",
       "      <td>G</td>\n",
       "      <td>0.24</td>\n",
       "      <td>0.005633</td>\n",
       "    </tr>\n",
       "    <tr>\n",
       "      <th>3</th>\n",
       "      <td>105</td>\n",
       "      <td>A</td>\n",
       "      <td>G</td>\n",
       "      <td>0.25</td>\n",
       "      <td>0.004707</td>\n",
       "    </tr>\n",
       "    <tr>\n",
       "      <th>4</th>\n",
       "      <td>117</td>\n",
       "      <td>C</td>\n",
       "      <td>T</td>\n",
       "      <td>0.30</td>\n",
       "      <td>0.000151</td>\n",
       "    </tr>\n",
       "    <tr>\n",
       "      <th>4</th>\n",
       "      <td>133</td>\n",
       "      <td>A</td>\n",
       "      <td>G</td>\n",
       "      <td>0.22</td>\n",
       "      <td>0.004752</td>\n",
       "    </tr>\n",
       "    <tr>\n",
       "      <th>1</th>\n",
       "      <td>158</td>\n",
       "      <td>A</td>\n",
       "      <td>G</td>\n",
       "      <td>0.24</td>\n",
       "      <td>0.001323</td>\n",
       "    </tr>\n",
       "    <tr>\n",
       "      <th>5</th>\n",
       "      <td>158</td>\n",
       "      <td>A</td>\n",
       "      <td>G</td>\n",
       "      <td>0.26</td>\n",
       "      <td>0.000195</td>\n",
       "    </tr>\n",
       "    <tr>\n",
       "      <th>2</th>\n",
       "      <td>165</td>\n",
       "      <td>T</td>\n",
       "      <td>C</td>\n",
       "      <td>0.27</td>\n",
       "      <td>0.000050</td>\n",
       "    </tr>\n",
       "    <tr>\n",
       "      <th>6</th>\n",
       "      <td>165</td>\n",
       "      <td>T</td>\n",
       "      <td>C</td>\n",
       "      <td>0.25</td>\n",
       "      <td>0.000209</td>\n",
       "    </tr>\n",
       "    <tr>\n",
       "      <th>5</th>\n",
       "      <td>165</td>\n",
       "      <td>T</td>\n",
       "      <td>C</td>\n",
       "      <td>0.24</td>\n",
       "      <td>0.000374</td>\n",
       "    </tr>\n",
       "    <tr>\n",
       "      <th>6</th>\n",
       "      <td>183</td>\n",
       "      <td>A</td>\n",
       "      <td>G</td>\n",
       "      <td>0.30</td>\n",
       "      <td>0.000005</td>\n",
       "    </tr>\n",
       "    <tr>\n",
       "      <th>3</th>\n",
       "      <td>183</td>\n",
       "      <td>A</td>\n",
       "      <td>G</td>\n",
       "      <td>0.22</td>\n",
       "      <td>0.002265</td>\n",
       "    </tr>\n",
       "    <tr>\n",
       "      <th>7</th>\n",
       "      <td>183</td>\n",
       "      <td>A</td>\n",
       "      <td>G</td>\n",
       "      <td>0.23</td>\n",
       "      <td>0.001325</td>\n",
       "    </tr>\n",
       "    <tr>\n",
       "      <th>4</th>\n",
       "      <td>193</td>\n",
       "      <td>A</td>\n",
       "      <td>G</td>\n",
       "      <td>0.22</td>\n",
       "      <td>0.002265</td>\n",
       "    </tr>\n",
       "  </tbody>\n",
       "</table>\n",
       "</div>"
      ],
      "text/plain": [
       "   Pos Ref Alt  Prob      Pval\n",
       "0   38   T   C  0.66  0.000197\n",
       "0   38   T   C  0.70  0.000197\n",
       "1   44   T   C  0.50  0.000421\n",
       "0   44   T   C  0.47  0.000734\n",
       "1   54   T   C  0.30  0.007270\n",
       "2   72   A   G  0.30  0.000930\n",
       "3   95   A   G  0.24  0.006887\n",
       "2   95   A   G  0.24  0.005633\n",
       "3  105   A   G  0.25  0.004707\n",
       "4  117   C   T  0.30  0.000151\n",
       "4  133   A   G  0.22  0.004752\n",
       "1  158   A   G  0.24  0.001323\n",
       "5  158   A   G  0.26  0.000195\n",
       "2  165   T   C  0.27  0.000050\n",
       "6  165   T   C  0.25  0.000209\n",
       "5  165   T   C  0.24  0.000374\n",
       "6  183   A   G  0.30  0.000005\n",
       "3  183   A   G  0.22  0.002265\n",
       "7  183   A   G  0.23  0.001325\n",
       "4  193   A   G  0.22  0.002265"
      ]
     },
     "execution_count": 28,
     "metadata": {},
     "output_type": "execute_result"
    }
   ],
   "source": [
    "all_mutations = pd.concat([df[1], df[2], df[3]], axis=0)\n",
    "all_mutations.sort_values(\"Pos\", inplace=True)\n",
    "all_mutations.head(20)"
   ]
  },
  {
   "cell_type": "code",
   "execution_count": 47,
   "id": "132d8b15",
   "metadata": {},
   "outputs": [
    {
     "data": {
      "text/plain": [
       "(33, 33, 75)"
      ]
     },
     "execution_count": 47,
     "metadata": {},
     "output_type": "execute_result"
    }
   ],
   "source": [
    "pos = []\n",
    "\n",
    "for i in range(3):\n",
    "#     pos.append(set(zip(df[i + 1][\"Pos\"], df[i + 1][\"Ref\"], df[i + 1][\"Alt\"])))\n",
    "    pos.append(set(df[i + 1][\"Pos\"]))\n",
    "\n",
    "\n",
    "upstream_errors = pos[0] & pos[1] & pos[2]\n",
    "unique_errors = pos[0] ^ pos[1] ^ pos[2] ^ upstream_errors\n",
    "two_times_errors = pos[0] | pos[1] | pos[2] - upstream_errors - unique_errors\n",
    "len(upstream_errors), len(unique_errors), len(two_times_errors)"
   ]
  },
  {
   "cell_type": "code",
   "execution_count": 48,
   "id": "8ee40422",
   "metadata": {},
   "outputs": [
    {
     "data": {
      "text/plain": [
       "{54,\n",
       " 72,\n",
       " 105,\n",
       " 117,\n",
       " 133,\n",
       " 193,\n",
       " 199,\n",
       " 228,\n",
       " 230,\n",
       " 271,\n",
       " 328,\n",
       " 398,\n",
       " 403,\n",
       " 426,\n",
       " 548,\n",
       " 591,\n",
       " 595,\n",
       " 759,\n",
       " 774,\n",
       " 793,\n",
       " 898,\n",
       " 1008,\n",
       " 1100,\n",
       " 1105,\n",
       " 1209,\n",
       " 1260,\n",
       " 1286,\n",
       " 1301,\n",
       " 1339,\n",
       " 1517,\n",
       " 1520,\n",
       " 1591,\n",
       " 1600}"
      ]
     },
     "execution_count": 48,
     "metadata": {},
     "output_type": "execute_result"
    }
   ],
   "source": [
    "unique_errors"
   ]
  },
  {
   "cell_type": "code",
   "execution_count": 51,
   "id": "270556d9",
   "metadata": {},
   "outputs": [
    {
     "data": {
      "image/png": "[encoded data removed]",
      "text/plain": [
       "<Figure size 640x480 with 1 Axes>"
      ]
     },
     "metadata": {},
     "output_type": "display_data"
    },
    {
     "data": {
      "image/png": "[encoded data removed]",
      "text/plain": [
       "<Figure size 640x480 with 1 Axes>"
      ]
     },
     "metadata": {},
     "output_type": "display_data"
    }
   ],
   "source": [
    "import matplotlib.pyplot as plt\n",
    "import numpy as np\n",
    "\n",
    "plt.hist(df[1].loc[df[1][\"Pos\"].isin(unique_errors), \"Prob\"], bins=np.arange(0.1, 1.0, 0.01))\n",
    "plt.show()\n",
    "plt.hist(df[1].loc[~df[1][\"Pos\"].isin(unique_errors), \"Prob\"], bins=np.arange(0.1, 1.0, 0.01))\n",
    "plt.show()\n",
    "# plt.hist(df[2][\"Prob\"], bins=np.arange(0.1, 1.0, 0.01))\n",
    "# plt.show()\n",
    "# plt.hist(df[3][\"Prob\"], bins=np.arange(0.1, 1.0, 0.01))\n",
    "# plt.show()"
   ]
  },
  {
   "cell_type": "code",
   "execution_count": null,
   "id": "99c6a81c",
   "metadata": {},
   "outputs": [],
   "source": []
  }
 ],
 "metadata": {
  "colab": {
   "collapsed_sections": [
    "533bc20e",
    "608fd198",
    "d5cdca38",
    "vO_bMJRWcfaZ",
    "IKvxmDTshHXw",
    "QobLXzsHFYfE",
    "EXYaAM3PFf6w",
    "sCGx5oViFnEC",
    "P4ialVDRFtQx",
    "B6n7KLRxSxEE",
    "oSXXoBd6aPYs"
   ],
   "provenance": []
  },
  "kernelspec": {
   "display_name": "Python 3 (ipykernel)",
   "language": "python",
   "name": "python3"
  },
  "language_info": {
   "codemirror_mode": {
    "name": "ipython",
    "version": 3
   },
   "file_extension": ".py",
   "mimetype": "text/x-python",
   "name": "python",
   "nbconvert_exporter": "python",
   "pygments_lexer": "ipython3",
   "version": "3.10.8"
  }
 },
 "nbformat": 4,
 "nbformat_minor": 5
}
