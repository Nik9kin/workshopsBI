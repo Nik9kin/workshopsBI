{
 "cells": [
  {
   "cell_type": "markdown",
   "id": "e8fb75c1",
   "metadata": {},
   "source": [
    "# Project 4. \"Tardigrades: from genestealers to space marines\". Eukaryotic genome analysis.\n",
    "\n",
    "Lab notebook by Nikita Vyatkin and Polina Guseva"
   ]
  },
  {
   "cell_type": "markdown",
   "id": "668b748b",
   "metadata": {},
   "source": [
    "## Data source\n",
    "\n",
    "For this project we will be using a sequence of the _Ramazzottius varieornatus_, the YOKOZUNA-1 strain (sequenced in the University of Tokyo and named after the highest rank in professional sumo).\n",
    "\n",
    "One can download assembled genome [here](https://ftp.ncbi.nlm.nih.gov/genomes/all/GCA/001/949/185/GCA_001949185.1_Rvar_4.0/GCA_001949185.1_Rvar_4.0_genomic.fna.gz)"
   ]
  },
  {
   "cell_type": "code",
   "execution_count": 13,
   "id": "b0b32a6d",
   "metadata": {},
   "outputs": [
    {
     "name": "stdout",
     "output_type": "stream",
     "text": [
      "--2022-12-05 18:12:32--  https://ftp.ncbi.nlm.nih.gov/genomes/all/GCA/001/949/185/GCA_001949185.1_Rvar_4.0/GCA_001949185.1_Rvar_4.0_genomic.fna.gz\n",
      "Resolving ftp.ncbi.nlm.nih.gov (ftp.ncbi.nlm.nih.gov)... 130.14.250.7, 165.112.9.230, 2607:f220:41f:250::229, ...\n",
      "Connecting to ftp.ncbi.nlm.nih.gov (ftp.ncbi.nlm.nih.gov)|130.14.250.7|:443... connected.\n",
      "HTTP request sent, awaiting response... 200 OK\n",
      "Length: 17621408 (17M) [application/x-gzip]\n",
      "Saving to: ‘data/GCA_001949185.1_Rvar_4.0_genomic.fna.gz’\n",
      "\n",
      "GCA_001949185.1_Rva 100%[===================>]  16,80M   878KB/s    in 26s     \n",
      "\n",
      "2022-12-05 18:13:00 (674 KB/s) - ‘data/GCA_001949185.1_Rvar_4.0_genomic.fna.gz’ saved [17621408/17621408]\n",
      "\n"
     ]
    }
   ],
   "source": [
    "! wget -P data/ https://ftp.ncbi.nlm.nih.gov/genomes/all/GCA/001/949/185/GCA_001949185.1_Rvar_4.0/GCA_001949185.1_Rvar_4.0_genomic.fna.gz\n",
    "! gunzip data/GCA_001949185.1_Rvar_4.0_genomic.fna.gz\n",
    "! mv data/GCA_001949185.1_Rvar_4.0_genomic.fna data/Ramazzottius_varieornatus.fna"
   ]
  },
  {
   "cell_type": "code",
   "execution_count": 14,
   "id": "a7a139c7",
   "metadata": {},
   "outputs": [
    {
     "name": "stdout",
     "output_type": "stream",
     "text": [
      "total 54M\r\n",
      "-rw-rw-r-- 1 nikitos nikitos 54M янв 12  2017 Ramazzottius_varieornatus.fna\r\n"
     ]
    }
   ],
   "source": [
    "! ls -lh data"
   ]
  },
  {
   "cell_type": "code",
   "execution_count": 43,
   "id": "f48a123c",
   "metadata": {},
   "outputs": [
    {
     "name": "stdout",
     "output_type": "stream",
     "text": [
      ">BDGG01000001.1 Ramazzottius varieornatus DNA, contig: Scaffold001, strain: YOKOZUNA-1, whole genome shotgun sequence\r\n",
      "TGCTGCGACATACTCGAAACACCCAAGGTCTTACCGGGAGAATATCGTCGTCTGGAGGATTTGTATGGGCCATTGTGATG\r\n",
      "GCCGCTACCTGGCATTGTACAACTTGAATGGTTGGTCTGAGCGGGACATGATCGACAGGTGGGCTTTGATGGTGACACTT\r\n",
      "TTGGTGCCGCCGGCATTCCTTCTGCCCGCACGTGACATCGACAACCTCTTGACTGCCGGCCATGAAACCTCACCCCAAAC\r\n",
      "AGGTATTCAGTGGGCAGAAAAAGCTACAAAAATCCTATCGCACGGGAATAAGTCCGTGCTAAACTAGTTAGAGCGACTTT\r\n",
      "TGAAAGGAAGATGTAGAGTTTAGTTCATTGGAGTAATCAAGTCTTCGGTTAgtttcgtgacgtcacgattGATCCGTATG\r\n",
      "GTGAAGCGTCTGAGCACAGAGTTTTCTTATTTTTCAACAGGTGGGAGCGACGTCATGAGCGAGTATGTGACGCCCTTCTG\r\n",
      "TTACGTCTGTGATTCTCTCGTGGATGCCGACTGCCGAGAATCGCAAGACTGGATGCCTCGACGAAGAAACGGCttaagga\r\n",
      "agaaagtgatgTGGACAGGCCAAGGGGAGGACGATCATGGCAGACTTGCCTTCGACTGGAAAGAAGTCTACATtcggctg\r\n"
     ]
    }
   ],
   "source": [
    "! head -9 data/Ramazzottius_varieornatus.fna"
   ]
  },
  {
   "cell_type": "code",
   "execution_count": 18,
   "id": "8ab4773f",
   "metadata": {
    "scrolled": true
   },
   "outputs": [
    {
     "name": "stdout",
     "output_type": "stream",
     "text": [
      ">BDGG01000001.1 Ramazzottius varieornatus DNA, contig: Scaffold001, strain: YOKOZUNA-1, whole genome shotgun sequence\r\n",
      ">BDGG01000002.1 Ramazzottius varieornatus DNA, contig: Scaffold002, strain: YOKOZUNA-1, whole genome shotgun sequence\r\n",
      ">BDGG01000003.1 Ramazzottius varieornatus DNA, contig: Scaffold003, strain: YOKOZUNA-1, whole genome shotgun sequence\r\n",
      ">BDGG01000004.1 Ramazzottius varieornatus DNA, contig: Scaffold004, strain: YOKOZUNA-1, whole genome shotgun sequence\r\n",
      ">BDGG01000005.1 Ramazzottius varieornatus DNA, contig: Scaffold005, strain: YOKOZUNA-1, whole genome shotgun sequence\r\n",
      ">BDGG01000006.1 Ramazzottius varieornatus DNA, contig: Scaffold006, strain: YOKOZUNA-1, whole genome shotgun sequence\r\n",
      ">BDGG01000007.1 Ramazzottius varieornatus DNA, contig: Scaffold007, strain: YOKOZUNA-1, whole genome shotgun sequence\r\n",
      ">BDGG01000008.1 Ramazzottius varieornatus DNA, contig: Scaffold008, strain: YOKOZUNA-1, whole genome shotgun sequence\r\n",
      ">BDGG01000009.1 Ramazzottius varieornatus DNA, contig: Scaffold009, strain: YOKOZUNA-1, whole genome shotgun sequence\r\n",
      ">BDGG01000010.1 Ramazzottius varieornatus DNA, contig: Scaffold010, strain: YOKOZUNA-1, whole genome shotgun sequence\r\n",
      ">BDGG01000011.1 Ramazzottius varieornatus DNA, contig: Scaffold011, strain: YOKOZUNA-1, whole genome shotgun sequence\r\n",
      ">BDGG01000012.1 Ramazzottius varieornatus DNA, contig: Scaffold012, strain: YOKOZUNA-1, whole genome shotgun sequence\r\n",
      ">BDGG01000013.1 Ramazzottius varieornatus DNA, contig: Scaffold013, strain: YOKOZUNA-1, whole genome shotgun sequence\r\n",
      ">BDGG01000014.1 Ramazzottius varieornatus DNA, contig: Scaffold014, strain: YOKOZUNA-1, whole genome shotgun sequence\r\n",
      ">BDGG01000015.1 Ramazzottius varieornatus DNA, contig: Scaffold015, strain: YOKOZUNA-1, whole genome shotgun sequence\r\n",
      ">BDGG01000016.1 Ramazzottius varieornatus DNA, contig: Scaffold016, strain: YOKOZUNA-1, whole genome shotgun sequence\r\n",
      ">BDGG01000017.1 Ramazzottius varieornatus DNA, contig: Scaffold017, strain: YOKOZUNA-1, whole genome shotgun sequence\r\n",
      ">BDGG01000018.1 Ramazzottius varieornatus DNA, contig: Scaffold018, strain: YOKOZUNA-1, whole genome shotgun sequence\r\n",
      ">BDGG01000019.1 Ramazzottius varieornatus DNA, contig: Scaffold019, strain: YOKOZUNA-1, whole genome shotgun sequence\r\n",
      ">BDGG01000020.1 Ramazzottius varieornatus DNA, contig: Scaffold020, strain: YOKOZUNA-1, whole genome shotgun sequence\r\n",
      ">BDGG01000021.1 Ramazzottius varieornatus DNA, contig: Scaffold021, strain: YOKOZUNA-1, whole genome shotgun sequence\r\n",
      ">BDGG01000022.1 Ramazzottius varieornatus DNA, contig: Scaffold022, strain: YOKOZUNA-1, whole genome shotgun sequence\r\n",
      ">BDGG01000023.1 Ramazzottius varieornatus DNA, contig: Scaffold023, strain: YOKOZUNA-1, whole genome shotgun sequence\r\n",
      ">BDGG01000024.1 Ramazzottius varieornatus DNA, contig: Scaffold024, strain: YOKOZUNA-1, whole genome shotgun sequence\r\n",
      ">BDGG01000025.1 Ramazzottius varieornatus DNA, contig: Scaffold025, strain: YOKOZUNA-1, whole genome shotgun sequence\r\n",
      ">BDGG01000026.1 Ramazzottius varieornatus DNA, contig: Scaffold026, strain: YOKOZUNA-1, whole genome shotgun sequence\r\n",
      ">BDGG01000027.1 Ramazzottius varieornatus DNA, contig: Scaffold027, strain: YOKOZUNA-1, whole genome shotgun sequence\r\n",
      ">BDGG01000028.1 Ramazzottius varieornatus DNA, contig: Scaffold028, strain: YOKOZUNA-1, whole genome shotgun sequence\r\n",
      ">BDGG01000029.1 Ramazzottius varieornatus DNA, contig: Scaffold029, strain: YOKOZUNA-1, whole genome shotgun sequence\r\n",
      ">BDGG01000030.1 Ramazzottius varieornatus DNA, contig: Scaffold030, strain: YOKOZUNA-1, whole genome shotgun sequence\r\n",
      ">BDGG01000031.1 Ramazzottius varieornatus DNA, contig: Scaffold031, strain: YOKOZUNA-1, whole genome shotgun sequence\r\n",
      ">BDGG01000032.1 Ramazzottius varieornatus DNA, contig: Scaffold032, strain: YOKOZUNA-1, whole genome shotgun sequence\r\n",
      ">BDGG01000033.1 Ramazzottius varieornatus DNA, contig: Scaffold033, strain: YOKOZUNA-1, whole genome shotgun sequence\r\n",
      ">BDGG01000034.1 Ramazzottius varieornatus DNA, contig: Scaffold034, strain: YOKOZUNA-1, whole genome shotgun sequence\r\n",
      ">BDGG01000035.1 Ramazzottius varieornatus DNA, contig: Scaffold035, strain: YOKOZUNA-1, whole genome shotgun sequence\r\n",
      ">BDGG01000036.1 Ramazzottius varieornatus DNA, contig: Scaffold036, strain: YOKOZUNA-1, whole genome shotgun sequence\r\n",
      ">BDGG01000037.1 Ramazzottius varieornatus DNA, contig: Scaffold037, strain: YOKOZUNA-1, whole genome shotgun sequence\r\n",
      ">BDGG01000038.1 Ramazzottius varieornatus DNA, contig: Scaffold038, strain: YOKOZUNA-1, whole genome shotgun sequence\r\n",
      ">BDGG01000039.1 Ramazzottius varieornatus DNA, contig: Scaffold039, strain: YOKOZUNA-1, whole genome shotgun sequence\r\n",
      ">BDGG01000040.1 Ramazzottius varieornatus DNA, contig: Scaffold040, strain: YOKOZUNA-1, whole genome shotgun sequence\r\n",
      ">BDGG01000041.1 Ramazzottius varieornatus DNA, contig: Scaffold041, strain: YOKOZUNA-1, whole genome shotgun sequence\r\n",
      ">BDGG01000042.1 Ramazzottius varieornatus DNA, contig: Scaffold042, strain: YOKOZUNA-1, whole genome shotgun sequence\r\n",
      ">BDGG01000043.1 Ramazzottius varieornatus DNA, contig: Scaffold043, strain: YOKOZUNA-1, whole genome shotgun sequence\r\n",
      ">BDGG01000044.1 Ramazzottius varieornatus DNA, contig: Scaffold044, strain: YOKOZUNA-1, whole genome shotgun sequence\r\n",
      ">BDGG01000045.1 Ramazzottius varieornatus DNA, contig: Scaffold045, strain: YOKOZUNA-1, whole genome shotgun sequence\r\n",
      ">BDGG01000046.1 Ramazzottius varieornatus DNA, contig: Scaffold046, strain: YOKOZUNA-1, whole genome shotgun sequence\r\n",
      ">BDGG01000047.1 Ramazzottius varieornatus DNA, contig: Scaffold047, strain: YOKOZUNA-1, whole genome shotgun sequence\r\n",
      ">BDGG01000048.1 Ramazzottius varieornatus DNA, contig: Scaffold048, strain: YOKOZUNA-1, whole genome shotgun sequence\r\n",
      ">BDGG01000049.1 Ramazzottius varieornatus DNA, contig: Scaffold049, strain: YOKOZUNA-1, whole genome shotgun sequence\r\n",
      ">BDGG01000050.1 Ramazzottius varieornatus DNA, contig: Scaffold050, strain: YOKOZUNA-1, whole genome shotgun sequence\r\n",
      ">BDGG01000051.1 Ramazzottius varieornatus DNA, contig: Scaffold051, strain: YOKOZUNA-1, whole genome shotgun sequence\r\n",
      ">BDGG01000052.1 Ramazzottius varieornatus DNA, contig: Scaffold052, strain: YOKOZUNA-1, whole genome shotgun sequence\r\n",
      ">BDGG01000053.1 Ramazzottius varieornatus DNA, contig: Scaffold053, strain: YOKOZUNA-1, whole genome shotgun sequence\r\n",
      ">BDGG01000054.1 Ramazzottius varieornatus DNA, contig: Scaffold054, strain: YOKOZUNA-1, whole genome shotgun sequence\r\n",
      ">BDGG01000055.1 Ramazzottius varieornatus DNA, contig: Scaffold055, strain: YOKOZUNA-1, whole genome shotgun sequence\r\n",
      ">BDGG01000056.1 Ramazzottius varieornatus DNA, contig: Scaffold056, strain: YOKOZUNA-1, whole genome shotgun sequence\r\n",
      ">BDGG01000057.1 Ramazzottius varieornatus DNA, contig: Scaffold057, strain: YOKOZUNA-1, whole genome shotgun sequence\r\n",
      ">BDGG01000058.1 Ramazzottius varieornatus DNA, contig: Scaffold058, strain: YOKOZUNA-1, whole genome shotgun sequence\r\n",
      ">BDGG01000059.1 Ramazzottius varieornatus DNA, contig: Scaffold059, strain: YOKOZUNA-1, whole genome shotgun sequence\r\n",
      ">BDGG01000060.1 Ramazzottius varieornatus DNA, contig: Scaffold061, strain: YOKOZUNA-1, whole genome shotgun sequence\r\n",
      ">BDGG01000061.1 Ramazzottius varieornatus DNA, contig: Scaffold062, strain: YOKOZUNA-1, whole genome shotgun sequence\r\n",
      ">BDGG01000062.1 Ramazzottius varieornatus DNA, contig: Scaffold063, strain: YOKOZUNA-1, whole genome shotgun sequence\r\n",
      ">BDGG01000063.1 Ramazzottius varieornatus DNA, contig: Scaffold064, strain: YOKOZUNA-1, whole genome shotgun sequence\r\n",
      ">BDGG01000064.1 Ramazzottius varieornatus DNA, contig: Scaffold065, strain: YOKOZUNA-1, whole genome shotgun sequence\r\n",
      ">BDGG01000065.1 Ramazzottius varieornatus DNA, contig: Scaffold066, strain: YOKOZUNA-1, whole genome shotgun sequence\r\n",
      ">BDGG01000066.1 Ramazzottius varieornatus DNA, contig: Scaffold067, strain: YOKOZUNA-1, whole genome shotgun sequence\r\n",
      ">BDGG01000067.1 Ramazzottius varieornatus DNA, contig: Scaffold068, strain: YOKOZUNA-1, whole genome shotgun sequence\r\n",
      ">BDGG01000068.1 Ramazzottius varieornatus DNA, contig: Scaffold069, strain: YOKOZUNA-1, whole genome shotgun sequence\r\n",
      ">BDGG01000069.1 Ramazzottius varieornatus DNA, contig: Scaffold073, strain: YOKOZUNA-1, whole genome shotgun sequence\r\n",
      ">BDGG01000070.1 Ramazzottius varieornatus DNA, contig: Scaffold074, strain: YOKOZUNA-1, whole genome shotgun sequence\r\n",
      ">BDGG01000071.1 Ramazzottius varieornatus DNA, contig: Scaffold075, strain: YOKOZUNA-1, whole genome shotgun sequence\r\n",
      ">BDGG01000072.1 Ramazzottius varieornatus DNA, contig: Scaffold077, strain: YOKOZUNA-1, whole genome shotgun sequence\r\n",
      ">BDGG01000073.1 Ramazzottius varieornatus DNA, contig: Scaffold078, strain: YOKOZUNA-1, whole genome shotgun sequence\r\n",
      ">BDGG01000074.1 Ramazzottius varieornatus DNA, contig: Scaffold079, strain: YOKOZUNA-1, whole genome shotgun sequence\r\n",
      ">BDGG01000075.1 Ramazzottius varieornatus DNA, contig: Scaffold080, strain: YOKOZUNA-1, whole genome shotgun sequence\r\n",
      ">BDGG01000076.1 Ramazzottius varieornatus DNA, contig: Scaffold082, strain: YOKOZUNA-1, whole genome shotgun sequence\r\n",
      ">BDGG01000077.1 Ramazzottius varieornatus DNA, contig: Scaffold083, strain: YOKOZUNA-1, whole genome shotgun sequence\r\n",
      ">BDGG01000078.1 Ramazzottius varieornatus DNA, contig: Scaffold084, strain: YOKOZUNA-1, whole genome shotgun sequence\r\n",
      ">BDGG01000079.1 Ramazzottius varieornatus DNA, contig: Scaffold085, strain: YOKOZUNA-1, whole genome shotgun sequence\r\n",
      ">BDGG01000080.1 Ramazzottius varieornatus DNA, contig: Scaffold087, strain: YOKOZUNA-1, whole genome shotgun sequence\r\n",
      ">BDGG01000081.1 Ramazzottius varieornatus DNA, contig: Scaffold088, strain: YOKOZUNA-1, whole genome shotgun sequence\r\n",
      ">BDGG01000082.1 Ramazzottius varieornatus DNA, contig: Scaffold091, strain: YOKOZUNA-1, whole genome shotgun sequence\r\n",
      ">BDGG01000083.1 Ramazzottius varieornatus DNA, contig: Scaffold092, strain: YOKOZUNA-1, whole genome shotgun sequence\r\n",
      ">BDGG01000084.1 Ramazzottius varieornatus DNA, contig: Scaffold093, strain: YOKOZUNA-1, whole genome shotgun sequence\r\n",
      ">BDGG01000085.1 Ramazzottius varieornatus DNA, contig: Scaffold094, strain: YOKOZUNA-1, whole genome shotgun sequence\r\n",
      ">BDGG01000086.1 Ramazzottius varieornatus DNA, contig: Scaffold095, strain: YOKOZUNA-1, whole genome shotgun sequence\r\n",
      ">BDGG01000087.1 Ramazzottius varieornatus DNA, contig: Scaffold096, strain: YOKOZUNA-1, whole genome shotgun sequence\r\n",
      ">BDGG01000088.1 Ramazzottius varieornatus DNA, contig: Scaffold097, strain: YOKOZUNA-1, whole genome shotgun sequence\r\n",
      ">BDGG01000089.1 Ramazzottius varieornatus DNA, contig: Scaffold098, strain: YOKOZUNA-1, whole genome shotgun sequence\r\n",
      ">BDGG01000090.1 Ramazzottius varieornatus DNA, contig: Scaffold099, strain: YOKOZUNA-1, whole genome shotgun sequence\r\n",
      ">BDGG01000091.1 Ramazzottius varieornatus DNA, contig: Scaffold100, strain: YOKOZUNA-1, whole genome shotgun sequence\r\n",
      ">BDGG01000092.1 Ramazzottius varieornatus DNA, contig: Scaffold101, strain: YOKOZUNA-1, whole genome shotgun sequence\r\n",
      ">BDGG01000093.1 Ramazzottius varieornatus DNA, contig: Scaffold102, strain: YOKOZUNA-1, whole genome shotgun sequence\r\n",
      ">BDGG01000094.1 Ramazzottius varieornatus DNA, contig: Scaffold103, strain: YOKOZUNA-1, whole genome shotgun sequence\r\n",
      ">BDGG01000095.1 Ramazzottius varieornatus DNA, contig: Scaffold104, strain: YOKOZUNA-1, whole genome shotgun sequence\r\n",
      ">BDGG01000096.1 Ramazzottius varieornatus DNA, contig: Scaffold105, strain: YOKOZUNA-1, whole genome shotgun sequence\r\n",
      ">BDGG01000097.1 Ramazzottius varieornatus DNA, contig: Scaffold106, strain: YOKOZUNA-1, whole genome shotgun sequence\r\n",
      ">BDGG01000098.1 Ramazzottius varieornatus DNA, contig: Scaffold108, strain: YOKOZUNA-1, whole genome shotgun sequence\r\n",
      ">BDGG01000099.1 Ramazzottius varieornatus DNA, contig: Scaffold109, strain: YOKOZUNA-1, whole genome shotgun sequence\r\n",
      ">BDGG01000100.1 Ramazzottius varieornatus DNA, contig: Scaffold110, strain: YOKOZUNA-1, whole genome shotgun sequence\r\n",
      ">BDGG01000101.1 Ramazzottius varieornatus DNA, contig: Scaffold111, strain: YOKOZUNA-1, whole genome shotgun sequence\r\n",
      ">BDGG01000102.1 Ramazzottius varieornatus DNA, contig: Scaffold112, strain: YOKOZUNA-1, whole genome shotgun sequence\r\n",
      ">BDGG01000103.1 Ramazzottius varieornatus DNA, contig: Scaffold113, strain: YOKOZUNA-1, whole genome shotgun sequence\r\n",
      ">BDGG01000104.1 Ramazzottius varieornatus DNA, contig: Scaffold114, strain: YOKOZUNA-1, whole genome shotgun sequence\r\n",
      ">BDGG01000105.1 Ramazzottius varieornatus DNA, contig: Scaffold116, strain: YOKOZUNA-1, whole genome shotgun sequence\r\n",
      ">BDGG01000106.1 Ramazzottius varieornatus DNA, contig: Scaffold117, strain: YOKOZUNA-1, whole genome shotgun sequence\r\n",
      ">BDGG01000107.1 Ramazzottius varieornatus DNA, contig: Scaffold118, strain: YOKOZUNA-1, whole genome shotgun sequence\r\n",
      ">BDGG01000108.1 Ramazzottius varieornatus DNA, contig: Scaffold119, strain: YOKOZUNA-1, whole genome shotgun sequence\r\n",
      ">BDGG01000109.1 Ramazzottius varieornatus DNA, contig: Scaffold120, strain: YOKOZUNA-1, whole genome shotgun sequence\r\n",
      ">BDGG01000110.1 Ramazzottius varieornatus DNA, contig: Scaffold121, strain: YOKOZUNA-1, whole genome shotgun sequence\r\n",
      ">BDGG01000111.1 Ramazzottius varieornatus DNA, contig: Scaffold122, strain: YOKOZUNA-1, whole genome shotgun sequence\r\n",
      ">BDGG01000112.1 Ramazzottius varieornatus DNA, contig: Scaffold123, strain: YOKOZUNA-1, whole genome shotgun sequence\r\n",
      ">BDGG01000113.1 Ramazzottius varieornatus DNA, contig: Scaffold125, strain: YOKOZUNA-1, whole genome shotgun sequence\r\n",
      ">BDGG01000114.1 Ramazzottius varieornatus DNA, contig: Scaffold126, strain: YOKOZUNA-1, whole genome shotgun sequence\r\n",
      ">BDGG01000115.1 Ramazzottius varieornatus DNA, contig: Scaffold127, strain: YOKOZUNA-1, whole genome shotgun sequence\r\n",
      ">BDGG01000116.1 Ramazzottius varieornatus DNA, contig: Scaffold128, strain: YOKOZUNA-1, whole genome shotgun sequence\r\n",
      ">BDGG01000117.1 Ramazzottius varieornatus DNA, contig: Scaffold129, strain: YOKOZUNA-1, whole genome shotgun sequence\r\n",
      ">BDGG01000118.1 Ramazzottius varieornatus DNA, contig: Scaffold131, strain: YOKOZUNA-1, whole genome shotgun sequence\r\n",
      ">BDGG01000119.1 Ramazzottius varieornatus DNA, contig: Scaffold132, strain: YOKOZUNA-1, whole genome shotgun sequence\r\n",
      ">BDGG01000120.1 Ramazzottius varieornatus DNA, contig: Scaffold133, strain: YOKOZUNA-1, whole genome shotgun sequence\r\n",
      ">BDGG01000121.1 Ramazzottius varieornatus DNA, contig: Scaffold134, strain: YOKOZUNA-1, whole genome shotgun sequence\r\n",
      ">BDGG01000122.1 Ramazzottius varieornatus DNA, contig: Scaffold135, strain: YOKOZUNA-1, whole genome shotgun sequence\r\n",
      ">BDGG01000123.1 Ramazzottius varieornatus DNA, contig: Scaffold137, strain: YOKOZUNA-1, whole genome shotgun sequence\r\n",
      ">BDGG01000124.1 Ramazzottius varieornatus DNA, contig: Scaffold138, strain: YOKOZUNA-1, whole genome shotgun sequence\r\n",
      ">BDGG01000125.1 Ramazzottius varieornatus DNA, contig: Scaffold139, strain: YOKOZUNA-1, whole genome shotgun sequence\r\n",
      ">BDGG01000126.1 Ramazzottius varieornatus DNA, contig: Scaffold143, strain: YOKOZUNA-1, whole genome shotgun sequence\r\n",
      ">BDGG01000127.1 Ramazzottius varieornatus DNA, contig: Scaffold144, strain: YOKOZUNA-1, whole genome shotgun sequence\r\n",
      ">BDGG01000128.1 Ramazzottius varieornatus DNA, contig: Scaffold145, strain: YOKOZUNA-1, whole genome shotgun sequence\r\n",
      ">BDGG01000129.1 Ramazzottius varieornatus DNA, contig: Scaffold146, strain: YOKOZUNA-1, whole genome shotgun sequence\r\n",
      ">BDGG01000130.1 Ramazzottius varieornatus DNA, contig: Scaffold147, strain: YOKOZUNA-1, whole genome shotgun sequence\r\n",
      ">BDGG01000131.1 Ramazzottius varieornatus DNA, contig: Scaffold148, strain: YOKOZUNA-1, whole genome shotgun sequence\r\n",
      ">BDGG01000132.1 Ramazzottius varieornatus DNA, contig: Scaffold149, strain: YOKOZUNA-1, whole genome shotgun sequence\r\n",
      ">BDGG01000133.1 Ramazzottius varieornatus DNA, contig: Scaffold153, strain: YOKOZUNA-1, whole genome shotgun sequence\r\n",
      ">BDGG01000134.1 Ramazzottius varieornatus DNA, contig: Scaffold154, strain: YOKOZUNA-1, whole genome shotgun sequence\r\n",
      ">BDGG01000135.1 Ramazzottius varieornatus DNA, contig: Scaffold155, strain: YOKOZUNA-1, whole genome shotgun sequence\r\n",
      ">BDGG01000136.1 Ramazzottius varieornatus DNA, contig: Scaffold158, strain: YOKOZUNA-1, whole genome shotgun sequence\r\n",
      ">BDGG01000137.1 Ramazzottius varieornatus DNA, contig: Scaffold159, strain: YOKOZUNA-1, whole genome shotgun sequence\r\n",
      ">BDGG01000138.1 Ramazzottius varieornatus DNA, contig: Scaffold160, strain: YOKOZUNA-1, whole genome shotgun sequence\r\n",
      ">BDGG01000139.1 Ramazzottius varieornatus DNA, contig: Scaffold162, strain: YOKOZUNA-1, whole genome shotgun sequence\r\n",
      ">BDGG01000140.1 Ramazzottius varieornatus DNA, contig: Scaffold165, strain: YOKOZUNA-1, whole genome shotgun sequence\r\n",
      ">BDGG01000141.1 Ramazzottius varieornatus DNA, contig: Scaffold167, strain: YOKOZUNA-1, whole genome shotgun sequence\r\n",
      ">BDGG01000142.1 Ramazzottius varieornatus DNA, contig: Scaffold168, strain: YOKOZUNA-1, whole genome shotgun sequence\r\n",
      ">BDGG01000143.1 Ramazzottius varieornatus DNA, contig: Scaffold170, strain: YOKOZUNA-1, whole genome shotgun sequence\r\n",
      ">BDGG01000144.1 Ramazzottius varieornatus DNA, contig: Scaffold172, strain: YOKOZUNA-1, whole genome shotgun sequence\r\n",
      ">BDGG01000145.1 Ramazzottius varieornatus DNA, contig: Scaffold174, strain: YOKOZUNA-1, whole genome shotgun sequence\r\n",
      ">BDGG01000146.1 Ramazzottius varieornatus DNA, contig: Scaffold175, strain: YOKOZUNA-1, whole genome shotgun sequence\r\n",
      ">BDGG01000147.1 Ramazzottius varieornatus DNA, contig: Scaffold176, strain: YOKOZUNA-1, whole genome shotgun sequence\r\n",
      ">BDGG01000148.1 Ramazzottius varieornatus DNA, contig: Scaffold179, strain: YOKOZUNA-1, whole genome shotgun sequence\r\n",
      ">BDGG01000149.1 Ramazzottius varieornatus DNA, contig: Scaffold180, strain: YOKOZUNA-1, whole genome shotgun sequence\r\n",
      ">BDGG01000150.1 Ramazzottius varieornatus DNA, contig: Scaffold181, strain: YOKOZUNA-1, whole genome shotgun sequence\r\n",
      ">BDGG01000151.1 Ramazzottius varieornatus DNA, contig: Scaffold186, strain: YOKOZUNA-1, whole genome shotgun sequence\r\n",
      ">BDGG01000152.1 Ramazzottius varieornatus DNA, contig: Scaffold188, strain: YOKOZUNA-1, whole genome shotgun sequence\r\n",
      ">BDGG01000153.1 Ramazzottius varieornatus DNA, contig: Scaffold192, strain: YOKOZUNA-1, whole genome shotgun sequence\r\n",
      ">BDGG01000154.1 Ramazzottius varieornatus DNA, contig: Scaffold194, strain: YOKOZUNA-1, whole genome shotgun sequence\r\n",
      ">BDGG01000155.1 Ramazzottius varieornatus DNA, contig: Scaffold195, strain: YOKOZUNA-1, whole genome shotgun sequence\r\n",
      ">BDGG01000156.1 Ramazzottius varieornatus DNA, contig: Scaffold196, strain: YOKOZUNA-1, whole genome shotgun sequence\r\n",
      ">BDGG01000157.1 Ramazzottius varieornatus DNA, contig: Scaffold201, strain: YOKOZUNA-1, whole genome shotgun sequence\r\n",
      ">BDGG01000158.1 Ramazzottius varieornatus DNA, contig: Scaffold202, strain: YOKOZUNA-1, whole genome shotgun sequence\r\n",
      ">BDGG01000159.1 Ramazzottius varieornatus DNA, contig: Scaffold204, strain: YOKOZUNA-1, whole genome shotgun sequence\r\n",
      ">BDGG01000160.1 Ramazzottius varieornatus DNA, contig: Scaffold205, strain: YOKOZUNA-1, whole genome shotgun sequence\r\n",
      ">BDGG01000161.1 Ramazzottius varieornatus DNA, contig: Scaffold208, strain: YOKOZUNA-1, whole genome shotgun sequence\r\n",
      ">BDGG01000162.1 Ramazzottius varieornatus DNA, contig: Scaffold212, strain: YOKOZUNA-1, whole genome shotgun sequence\r\n",
      ">BDGG01000163.1 Ramazzottius varieornatus DNA, contig: Scaffold213, strain: YOKOZUNA-1, whole genome shotgun sequence\r\n",
      ">BDGG01000164.1 Ramazzottius varieornatus DNA, contig: Scaffold215, strain: YOKOZUNA-1, whole genome shotgun sequence\r\n",
      ">BDGG01000165.1 Ramazzottius varieornatus DNA, contig: Scaffold218, strain: YOKOZUNA-1, whole genome shotgun sequence\r\n",
      ">BDGG01000166.1 Ramazzottius varieornatus DNA, contig: Scaffold219, strain: YOKOZUNA-1, whole genome shotgun sequence\r\n",
      ">BDGG01000167.1 Ramazzottius varieornatus DNA, contig: Scaffold221, strain: YOKOZUNA-1, whole genome shotgun sequence\r\n",
      ">BDGG01000168.1 Ramazzottius varieornatus DNA, contig: Scaffold223, strain: YOKOZUNA-1, whole genome shotgun sequence\r\n",
      ">BDGG01000169.1 Ramazzottius varieornatus DNA, contig: Scaffold227, strain: YOKOZUNA-1, whole genome shotgun sequence\r\n",
      ">BDGG01000170.1 Ramazzottius varieornatus DNA, contig: Scaffold228, strain: YOKOZUNA-1, whole genome shotgun sequence\r\n",
      ">BDGG01000171.1 Ramazzottius varieornatus DNA, contig: Scaffold230, strain: YOKOZUNA-1, whole genome shotgun sequence\r\n",
      ">BDGG01000172.1 Ramazzottius varieornatus DNA, contig: Scaffold232, strain: YOKOZUNA-1, whole genome shotgun sequence\r\n",
      ">BDGG01000173.1 Ramazzottius varieornatus DNA, contig: Scaffold234, strain: YOKOZUNA-1, whole genome shotgun sequence\r\n",
      ">BDGG01000174.1 Ramazzottius varieornatus DNA, contig: Scaffold235, strain: YOKOZUNA-1, whole genome shotgun sequence\r\n",
      ">BDGG01000175.1 Ramazzottius varieornatus DNA, contig: Scaffold236, strain: YOKOZUNA-1, whole genome shotgun sequence\r\n",
      ">BDGG01000176.1 Ramazzottius varieornatus DNA, contig: Scaffold237, strain: YOKOZUNA-1, whole genome shotgun sequence\r\n",
      ">BDGG01000177.1 Ramazzottius varieornatus DNA, contig: Scaffold240, strain: YOKOZUNA-1, whole genome shotgun sequence\r\n",
      ">BDGG01000178.1 Ramazzottius varieornatus DNA, contig: Scaffold243, strain: YOKOZUNA-1, whole genome shotgun sequence\r\n",
      ">BDGG01000179.1 Ramazzottius varieornatus DNA, contig: Scaffold244, strain: YOKOZUNA-1, whole genome shotgun sequence\r\n",
      ">BDGG01000180.1 Ramazzottius varieornatus DNA, contig: Scaffold246, strain: YOKOZUNA-1, whole genome shotgun sequence\r\n",
      ">BDGG01000181.1 Ramazzottius varieornatus DNA, contig: Scaffold247, strain: YOKOZUNA-1, whole genome shotgun sequence\r\n",
      ">BDGG01000182.1 Ramazzottius varieornatus DNA, contig: Scaffold251, strain: YOKOZUNA-1, whole genome shotgun sequence\r\n",
      ">BDGG01000183.1 Ramazzottius varieornatus DNA, contig: Scaffold252, strain: YOKOZUNA-1, whole genome shotgun sequence\r\n",
      ">BDGG01000184.1 Ramazzottius varieornatus DNA, contig: Scaffold254, strain: YOKOZUNA-1, whole genome shotgun sequence\r\n",
      ">BDGG01000185.1 Ramazzottius varieornatus DNA, contig: Scaffold255, strain: YOKOZUNA-1, whole genome shotgun sequence\r\n",
      ">BDGG01000186.1 Ramazzottius varieornatus DNA, contig: Scaffold257, strain: YOKOZUNA-1, whole genome shotgun sequence\r\n",
      ">BDGG01000187.1 Ramazzottius varieornatus DNA, contig: Scaffold258, strain: YOKOZUNA-1, whole genome shotgun sequence\r\n",
      ">BDGG01000188.1 Ramazzottius varieornatus DNA, contig: Scaffold260, strain: YOKOZUNA-1, whole genome shotgun sequence\r\n",
      ">BDGG01000189.1 Ramazzottius varieornatus DNA, contig: Scaffold264, strain: YOKOZUNA-1, whole genome shotgun sequence\r\n",
      ">BDGG01000190.1 Ramazzottius varieornatus DNA, contig: Scaffold267, strain: YOKOZUNA-1, whole genome shotgun sequence\r\n",
      ">BDGG01000191.1 Ramazzottius varieornatus DNA, contig: Scaffold268, strain: YOKOZUNA-1, whole genome shotgun sequence\r\n",
      ">BDGG01000192.1 Ramazzottius varieornatus DNA, contig: Scaffold269, strain: YOKOZUNA-1, whole genome shotgun sequence\r\n",
      ">BDGG01000193.1 Ramazzottius varieornatus DNA, contig: Scaffold270, strain: YOKOZUNA-1, whole genome shotgun sequence\r\n",
      ">BDGG01000194.1 Ramazzottius varieornatus DNA, contig: Scaffold272, strain: YOKOZUNA-1, whole genome shotgun sequence\r\n",
      ">BDGG01000195.1 Ramazzottius varieornatus DNA, contig: Scaffold273, strain: YOKOZUNA-1, whole genome shotgun sequence\r\n",
      ">BDGG01000196.1 Ramazzottius varieornatus DNA, contig: Scaffold274, strain: YOKOZUNA-1, whole genome shotgun sequence\r\n",
      ">BDGG01000197.1 Ramazzottius varieornatus DNA, contig: Scaffold275, strain: YOKOZUNA-1, whole genome shotgun sequence\r\n",
      ">BDGG01000198.1 Ramazzottius varieornatus DNA, contig: Scaffold277, strain: YOKOZUNA-1, whole genome shotgun sequence\r\n",
      ">BDGG01000199.1 Ramazzottius varieornatus DNA, contig: Scaffold279, strain: YOKOZUNA-1, whole genome shotgun sequence\r\n",
      ">AP017609.1 Ramazzottius varieornatus mitochondrial DNA, complete genome, strain: YOKOZUNA-1\r\n"
     ]
    }
   ],
   "source": [
    "! grep '>' data/Ramazzottius_varieornatus.fna"
   ]
  },
  {
   "cell_type": "code",
   "execution_count": 19,
   "id": "4eaa153c",
   "metadata": {},
   "outputs": [
    {
     "name": "stdout",
     "output_type": "stream",
     "text": [
      "200\r\n"
     ]
    }
   ],
   "source": [
    "! grep '>' data/Ramazzottius_varieornatus.fna | wc -l"
   ]
  },
  {
   "cell_type": "markdown",
   "id": "1b577d86",
   "metadata": {},
   "source": [
    "## Functional annotation\n",
    "\n",
    "One can download AUGUSTUS results [here](https://drive.google.com/file/d/1wBxf6cDgu22NbjAOgTe-8b3Zx60hNKY0/view?usp=drive_web).\n",
    "\n",
    "[Script](http://augustus.gobics.de/binaries/scripts/getAnnoFasta.pl) for GFF to FASTA converting."
   ]
  },
  {
   "cell_type": "code",
   "execution_count": 31,
   "id": "8f182b8e",
   "metadata": {},
   "outputs": [
    {
     "name": "stdout",
     "output_type": "stream",
     "text": [
      ".:\r\n",
      "total 48K\r\n",
      "drwxrwxr-x 2 nikitos nikitos 4,0K дек  5 18:27 \u001b[0m\u001b[01;34mdata\u001b[0m/\r\n",
      "-rw-rw-r-- 1 nikitos nikitos 6,6K дек  5 18:27 getAnnoFasta.pl\r\n",
      "-rw-rw-r-- 1 nikitos nikitos  33K дек  5 18:33 Lab_Notebook.ipynb\r\n",
      "\r\n",
      "./data:\r\n",
      "total 81M\r\n",
      "-rw-rw-r-- 1 nikitos nikitos 27M дек  5 18:21 augustus.whole.gff\r\n",
      "-rw-rw-r-- 1 nikitos nikitos 54M янв 12  2017 Ramazzottius_varieornatus.fna\r\n"
     ]
    }
   ],
   "source": [
    "ls -lhR"
   ]
  },
  {
   "cell_type": "code",
   "execution_count": 32,
   "id": "a0a0ebbb",
   "metadata": {},
   "outputs": [],
   "source": [
    "! chmod +x getAnnoFasta.pl"
   ]
  },
  {
   "cell_type": "code",
   "execution_count": 47,
   "id": "8e739bc1",
   "metadata": {},
   "outputs": [],
   "source": [
    "! mkdir annotation"
   ]
  },
  {
   "cell_type": "code",
   "execution_count": 48,
   "id": "97cda1bd",
   "metadata": {},
   "outputs": [],
   "source": [
    "! ./getAnnoFasta.pl data/augustus.whole.gff\n",
    "! mv data/augustus.whole.aa annotation/"
   ]
  },
  {
   "cell_type": "code",
   "execution_count": 49,
   "id": "51373281",
   "metadata": {},
   "outputs": [
    {
     "name": "stdout",
     "output_type": "stream",
     "text": [
      "16435\r\n"
     ]
    }
   ],
   "source": [
    "! grep '>' annotation/augustus.whole.aa | wc -l"
   ]
  },
  {
   "cell_type": "code",
   "execution_count": null,
   "id": "497d3541",
   "metadata": {},
   "outputs": [],
   "source": []
  },
  {
   "cell_type": "code",
   "execution_count": null,
   "id": "4b7714d6",
   "metadata": {},
   "outputs": [],
   "source": []
  },
  {
   "cell_type": "code",
   "execution_count": null,
   "id": "7737ca21",
   "metadata": {},
   "outputs": [],
   "source": []
  },
  {
   "cell_type": "code",
   "execution_count": null,
   "id": "fe4159ed",
   "metadata": {},
   "outputs": [],
   "source": []
  },
  {
   "cell_type": "code",
   "execution_count": null,
   "id": "821797fa",
   "metadata": {},
   "outputs": [],
   "source": []
  },
  {
   "cell_type": "code",
   "execution_count": null,
   "id": "ae55f136",
   "metadata": {},
   "outputs": [],
   "source": []
  },
  {
   "cell_type": "code",
   "execution_count": null,
   "id": "a2aee246",
   "metadata": {},
   "outputs": [],
   "source": []
  },
  {
   "cell_type": "code",
   "execution_count": null,
   "id": "8414c13a",
   "metadata": {},
   "outputs": [],
   "source": []
  },
  {
   "cell_type": "code",
   "execution_count": null,
   "id": "aba26ff1",
   "metadata": {},
   "outputs": [],
   "source": []
  },
  {
   "cell_type": "code",
   "execution_count": null,
   "id": "98076cf9",
   "metadata": {},
   "outputs": [],
   "source": []
  }
 ],
 "metadata": {
  "kernelspec": {
   "display_name": "Python 3 (ipykernel)",
   "language": "python",
   "name": "python3"
  },
  "language_info": {
   "codemirror_mode": {
    "name": "ipython",
    "version": 3
   },
   "file_extension": ".py",
   "mimetype": "text/x-python",
   "name": "python",
   "nbconvert_exporter": "python",
   "pygments_lexer": "ipython3",
   "version": "3.10.8"
  }
 },
 "nbformat": 4,
 "nbformat_minor": 5
}
